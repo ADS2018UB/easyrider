{
 "cells": [
  {
   "cell_type": "markdown",
   "metadata": {},
   "source": [
    "## Compute lag features for gradient boosting model"
   ]
  },
  {
   "cell_type": "code",
   "execution_count": 1,
   "metadata": {},
   "outputs": [],
   "source": [
    "import pandas as pd\n",
    "import numpy as np\n",
    "import datetime\n",
    "\n",
    "import lightgbm as lgb\n",
    "from sklearn.preprocessing import LabelEncoder\n",
    "from skopt import BayesSearchCV\n",
    "from sklearn.model_selection import StratifiedKFold\n",
    "\n",
    "import matplotlib.pyplot as plt\n",
    "%matplotlib inline\n",
    "\n",
    "import warnings\n",
    "warnings.filterwarnings('ignore')"
   ]
  },
  {
   "cell_type": "code",
   "execution_count": 2,
   "metadata": {},
   "outputs": [],
   "source": [
    "colnames = ['id', 'ts', 'station_name', 'address', 'total_docks',\n",
    "           'docks_in_service', 'available_docks', 'available_bikes',\n",
    "           'percent_full', 'status', 'latitude', 'longitude', 'location', 'record']\n",
    "docks_df = pd.read_csv('/Users/jordi/Downloads/chicago_docks.csv', names=colnames)"
   ]
  },
  {
   "cell_type": "code",
   "execution_count": 3,
   "metadata": {},
   "outputs": [],
   "source": [
    "# drop unnecessary columns\n",
    "docks_df = docks_df.drop(columns=['location', 'record'])"
   ]
  },
  {
   "cell_type": "code",
   "execution_count": 4,
   "metadata": {},
   "outputs": [
    {
     "data": {
      "text/html": [
       "<div>\n",
       "<style scoped>\n",
       "    .dataframe tbody tr th:only-of-type {\n",
       "        vertical-align: middle;\n",
       "    }\n",
       "\n",
       "    .dataframe tbody tr th {\n",
       "        vertical-align: top;\n",
       "    }\n",
       "\n",
       "    .dataframe thead th {\n",
       "        text-align: right;\n",
       "    }\n",
       "</style>\n",
       "<table border=\"1\" class=\"dataframe\">\n",
       "  <thead>\n",
       "    <tr style=\"text-align: right;\">\n",
       "      <th></th>\n",
       "      <th>id</th>\n",
       "      <th>ts</th>\n",
       "      <th>station_name</th>\n",
       "      <th>address</th>\n",
       "      <th>total_docks</th>\n",
       "      <th>docks_in_service</th>\n",
       "      <th>available_docks</th>\n",
       "      <th>available_bikes</th>\n",
       "      <th>percent_full</th>\n",
       "      <th>status</th>\n",
       "      <th>latitude</th>\n",
       "      <th>longitude</th>\n",
       "    </tr>\n",
       "  </thead>\n",
       "  <tbody>\n",
       "    <tr>\n",
       "      <th>0</th>\n",
       "      <td>2</td>\n",
       "      <td>10/26/2018 11:55:13 AM</td>\n",
       "      <td>Buckingham Fountain</td>\n",
       "      <td>Buckingham Fountain</td>\n",
       "      <td>39</td>\n",
       "      <td>39</td>\n",
       "      <td>36</td>\n",
       "      <td>3</td>\n",
       "      <td>8</td>\n",
       "      <td>In Service</td>\n",
       "      <td>41.876470</td>\n",
       "      <td>-87.620340</td>\n",
       "    </tr>\n",
       "    <tr>\n",
       "      <th>1</th>\n",
       "      <td>3</td>\n",
       "      <td>10/26/2018 11:55:13 AM</td>\n",
       "      <td>Shedd Aquarium</td>\n",
       "      <td>Shedd Aquarium</td>\n",
       "      <td>55</td>\n",
       "      <td>54</td>\n",
       "      <td>50</td>\n",
       "      <td>4</td>\n",
       "      <td>7</td>\n",
       "      <td>In Service</td>\n",
       "      <td>41.867226</td>\n",
       "      <td>-87.615355</td>\n",
       "    </tr>\n",
       "    <tr>\n",
       "      <th>2</th>\n",
       "      <td>4</td>\n",
       "      <td>10/26/2018 11:55:13 AM</td>\n",
       "      <td>Burnham Harbor</td>\n",
       "      <td>Burnham Harbor</td>\n",
       "      <td>23</td>\n",
       "      <td>23</td>\n",
       "      <td>9</td>\n",
       "      <td>14</td>\n",
       "      <td>61</td>\n",
       "      <td>In Service</td>\n",
       "      <td>41.856268</td>\n",
       "      <td>-87.613348</td>\n",
       "    </tr>\n",
       "    <tr>\n",
       "      <th>3</th>\n",
       "      <td>5</td>\n",
       "      <td>10/26/2018 11:55:13 AM</td>\n",
       "      <td>State St &amp; Harrison St</td>\n",
       "      <td>State St &amp; Harrison St</td>\n",
       "      <td>23</td>\n",
       "      <td>22</td>\n",
       "      <td>20</td>\n",
       "      <td>2</td>\n",
       "      <td>9</td>\n",
       "      <td>In Service</td>\n",
       "      <td>41.874053</td>\n",
       "      <td>-87.627716</td>\n",
       "    </tr>\n",
       "    <tr>\n",
       "      <th>4</th>\n",
       "      <td>6</td>\n",
       "      <td>10/26/2018 11:55:13 AM</td>\n",
       "      <td>Dusable Harbor</td>\n",
       "      <td>Dusable Harbor</td>\n",
       "      <td>39</td>\n",
       "      <td>38</td>\n",
       "      <td>32</td>\n",
       "      <td>6</td>\n",
       "      <td>16</td>\n",
       "      <td>In Service</td>\n",
       "      <td>41.886976</td>\n",
       "      <td>-87.612813</td>\n",
       "    </tr>\n",
       "  </tbody>\n",
       "</table>\n",
       "</div>"
      ],
      "text/plain": [
       "   id                      ts            station_name                 address  \\\n",
       "0   2  10/26/2018 11:55:13 AM     Buckingham Fountain     Buckingham Fountain   \n",
       "1   3  10/26/2018 11:55:13 AM          Shedd Aquarium          Shedd Aquarium   \n",
       "2   4  10/26/2018 11:55:13 AM          Burnham Harbor          Burnham Harbor   \n",
       "3   5  10/26/2018 11:55:13 AM  State St & Harrison St  State St & Harrison St   \n",
       "4   6  10/26/2018 11:55:13 AM          Dusable Harbor          Dusable Harbor   \n",
       "\n",
       "   total_docks  docks_in_service  available_docks  available_bikes  \\\n",
       "0           39                39               36                3   \n",
       "1           55                54               50                4   \n",
       "2           23                23                9               14   \n",
       "3           23                22               20                2   \n",
       "4           39                38               32                6   \n",
       "\n",
       "   percent_full      status   latitude  longitude  \n",
       "0             8  In Service  41.876470 -87.620340  \n",
       "1             7  In Service  41.867226 -87.615355  \n",
       "2            61  In Service  41.856268 -87.613348  \n",
       "3             9  In Service  41.874053 -87.627716  \n",
       "4            16  In Service  41.886976 -87.612813  "
      ]
     },
     "execution_count": 4,
     "metadata": {},
     "output_type": "execute_result"
    }
   ],
   "source": [
    "docks_df.head()"
   ]
  },
  {
   "cell_type": "code",
   "execution_count": 5,
   "metadata": {},
   "outputs": [
    {
     "data": {
      "text/plain": [
       "(615,)"
      ]
     },
     "execution_count": 5,
     "metadata": {},
     "output_type": "execute_result"
    }
   ],
   "source": [
    "docks_df.id.unique().shape"
   ]
  },
  {
   "cell_type": "code",
   "execution_count": 6,
   "metadata": {},
   "outputs": [],
   "source": [
    "stations_df = pd.read_csv('./datasets/chicago_stations.csv')"
   ]
  },
  {
   "cell_type": "code",
   "execution_count": 7,
   "metadata": {},
   "outputs": [
    {
     "data": {
      "text/html": [
       "<div>\n",
       "<style scoped>\n",
       "    .dataframe tbody tr th:only-of-type {\n",
       "        vertical-align: middle;\n",
       "    }\n",
       "\n",
       "    .dataframe tbody tr th {\n",
       "        vertical-align: top;\n",
       "    }\n",
       "\n",
       "    .dataframe thead th {\n",
       "        text-align: right;\n",
       "    }\n",
       "</style>\n",
       "<table border=\"1\" class=\"dataframe\">\n",
       "  <thead>\n",
       "    <tr style=\"text-align: right;\">\n",
       "      <th></th>\n",
       "      <th>Unnamed: 0</th>\n",
       "      <th>id</th>\n",
       "      <th>station_name</th>\n",
       "      <th>address</th>\n",
       "      <th>lat</th>\n",
       "      <th>lon</th>\n",
       "    </tr>\n",
       "  </thead>\n",
       "  <tbody>\n",
       "    <tr>\n",
       "      <th>0</th>\n",
       "      <td>0</td>\n",
       "      <td>2</td>\n",
       "      <td>Buckingham Fountain</td>\n",
       "      <td>Buckingham Fountain</td>\n",
       "      <td>41.876470</td>\n",
       "      <td>-87.620340</td>\n",
       "    </tr>\n",
       "    <tr>\n",
       "      <th>1</th>\n",
       "      <td>1</td>\n",
       "      <td>3</td>\n",
       "      <td>Shedd Aquarium</td>\n",
       "      <td>Shedd Aquarium</td>\n",
       "      <td>41.867226</td>\n",
       "      <td>-87.615355</td>\n",
       "    </tr>\n",
       "    <tr>\n",
       "      <th>2</th>\n",
       "      <td>2</td>\n",
       "      <td>4</td>\n",
       "      <td>Burnham Harbor</td>\n",
       "      <td>Burnham Harbor</td>\n",
       "      <td>41.856268</td>\n",
       "      <td>-87.613348</td>\n",
       "    </tr>\n",
       "    <tr>\n",
       "      <th>3</th>\n",
       "      <td>3</td>\n",
       "      <td>5</td>\n",
       "      <td>State St &amp; Harrison St</td>\n",
       "      <td>State St &amp; Harrison St</td>\n",
       "      <td>41.874053</td>\n",
       "      <td>-87.627716</td>\n",
       "    </tr>\n",
       "    <tr>\n",
       "      <th>4</th>\n",
       "      <td>4</td>\n",
       "      <td>6</td>\n",
       "      <td>Dusable Harbor</td>\n",
       "      <td>Dusable Harbor</td>\n",
       "      <td>41.886976</td>\n",
       "      <td>-87.612813</td>\n",
       "    </tr>\n",
       "  </tbody>\n",
       "</table>\n",
       "</div>"
      ],
      "text/plain": [
       "   Unnamed: 0  id            station_name                 address        lat  \\\n",
       "0           0   2     Buckingham Fountain     Buckingham Fountain  41.876470   \n",
       "1           1   3          Shedd Aquarium          Shedd Aquarium  41.867226   \n",
       "2           2   4          Burnham Harbor          Burnham Harbor  41.856268   \n",
       "3           3   5  State St & Harrison St  State St & Harrison St  41.874053   \n",
       "4           4   6          Dusable Harbor          Dusable Harbor  41.886976   \n",
       "\n",
       "         lon  \n",
       "0 -87.620340  \n",
       "1 -87.615355  \n",
       "2 -87.613348  \n",
       "3 -87.627716  \n",
       "4 -87.612813  "
      ]
     },
     "execution_count": 7,
     "metadata": {},
     "output_type": "execute_result"
    }
   ],
   "source": [
    "stations_df.head()"
   ]
  },
  {
   "cell_type": "code",
   "execution_count": 8,
   "metadata": {},
   "outputs": [
    {
     "data": {
      "text/plain": [
       "(615,)"
      ]
     },
     "execution_count": 8,
     "metadata": {},
     "output_type": "execute_result"
    }
   ],
   "source": [
    "stations_df.id.unique().shape"
   ]
  },
  {
   "cell_type": "code",
   "execution_count": 9,
   "metadata": {},
   "outputs": [],
   "source": [
    "station_ids = stations_df.id.unique()"
   ]
  },
  {
   "cell_type": "markdown",
   "metadata": {},
   "source": [
    "## Preprocess at station level"
   ]
  },
  {
   "cell_type": "code",
   "execution_count": 52,
   "metadata": {},
   "outputs": [],
   "source": [
    "station_id = 90\n",
    "df = docks_df[docks_df.id == station_id]\n",
    "df['ts'] = pd.to_datetime(df.ts, infer_datetime_format=True)"
   ]
  },
  {
   "cell_type": "code",
   "execution_count": 53,
   "metadata": {},
   "outputs": [
    {
     "data": {
      "text/plain": [
       "(Timestamp('2017-01-01 00:05:11'), Timestamp('2018-10-26 11:55:13'))"
      ]
     },
     "execution_count": 53,
     "metadata": {},
     "output_type": "execute_result"
    }
   ],
   "source": [
    "df.ts.min(), df.ts.max()"
   ]
  },
  {
   "cell_type": "code",
   "execution_count": 54,
   "metadata": {},
   "outputs": [],
   "source": [
    "# round ts every 5 minutes (seconds are not aligned)\n",
    "df.loc[:, 'ts'] = df.ts.dt.round('5min')\n",
    "df.sort_values(by='ts', inplace=True)"
   ]
  },
  {
   "cell_type": "code",
   "execution_count": 55,
   "metadata": {},
   "outputs": [],
   "source": [
    "# resample data, there are missing info gaps\n",
    "df = df.set_index('ts').resample('10Min', how='last', base=5).bfill()"
   ]
  },
  {
   "cell_type": "code",
   "execution_count": 56,
   "metadata": {},
   "outputs": [
    {
     "data": {
      "text/plain": [
       "<matplotlib.legend.Legend at 0x1bca9dc50>"
      ]
     },
     "execution_count": 56,
     "metadata": {},
     "output_type": "execute_result"
    },
    {
     "data": {
      "image/png": "[encoded data removed]",
      "text/plain": [
       "<Figure size 432x288 with 1 Axes>"
      ]
     },
     "metadata": {
      "needs_background": "light"
     },
     "output_type": "display_data"
    }
   ],
   "source": [
    "plt.plot(df.index, df.available_bikes, label='available_bikes')\n",
    "plt.xticks(rotation=90)\n",
    "plt.legend()"
   ]
  },
  {
   "cell_type": "code",
   "execution_count": 57,
   "metadata": {},
   "outputs": [],
   "source": [
    "# every hour we have 6 rows, one every 10 minutes\n",
    "entries_per_hour = 6"
   ]
  },
  {
   "cell_type": "code",
   "execution_count": 58,
   "metadata": {},
   "outputs": [],
   "source": [
    "# month of year\n",
    "df['month'] = df.index.month\n",
    "# quarter of year\n",
    "df['quarter'] = df.index.quarter\n",
    "# day of month\n",
    "df['day'] = df.index.day\n",
    "# hour of day\n",
    "df['hour'] = df.index.hour\n",
    "# cyclic features for hour\n",
    "df['hour_x'] = np.sin(2*np.pi*df['hour']/24)\n",
    "df['hour_y'] = np.cos(2*np.pi*df['hour']/24)\n",
    "# quarter of hour\n",
    "df['quarter_hour'] = np.floor(df.index.minute / 15)\n",
    "# day of week\n",
    "df['dow'] = df.index.dayofweek\n",
    "# week of year\n",
    "df['week'] = df.index.weekofyear"
   ]
  },
  {
   "cell_type": "code",
   "execution_count": 59,
   "metadata": {},
   "outputs": [],
   "source": [
    "ab_daily_mean = df.groupby('day')['available_bikes'].mean()\n",
    "ab_monthly_mean = df.groupby('month')['available_bikes'].mean()\n",
    "ab_weekly_mean = df.groupby('week')['available_bikes'].mean()\n",
    "\n",
    "ab_daily_median = df.groupby('day')['available_bikes'].median()\n",
    "ab_monthly_median = df.groupby('month')['available_bikes'].median()\n",
    "ab_weekly_median = df.groupby('week')['available_bikes'].median()"
   ]
  },
  {
   "cell_type": "code",
   "execution_count": 60,
   "metadata": {},
   "outputs": [],
   "source": [
    "for i, x in zip(ab_daily_mean.index, ab_daily_mean):\n",
    "    df.loc[df.day == i, 'ab_daily_mean'] = x\n",
    "    \n",
    "for i, x in zip(ab_monthly_mean.index, ab_monthly_mean):\n",
    "    df.loc[df.month == i, 'ab_monthly_mean'] = x\n",
    "    \n",
    "for i, x in zip(ab_weekly_mean.index, ab_weekly_mean):\n",
    "    df.loc[df.week == i, 'ab_weekly_mean'] = x\n",
    "    \n",
    "for i, x in zip(ab_daily_median.index, ab_daily_median):\n",
    "    df.loc[df.day == i, 'ab_daily_median'] = x\n",
    "    \n",
    "for i, x in zip(ab_monthly_median.index, ab_monthly_median):\n",
    "    df.loc[df.month == i, 'ab_monthly_median'] = x\n",
    "    \n",
    "for i, x in zip(ab_weekly_median.index, ab_weekly_median):\n",
    "    df.loc[df.week == i, 'ab_weekly_median'] = x"
   ]
  },
  {
   "cell_type": "code",
   "execution_count": 61,
   "metadata": {},
   "outputs": [],
   "source": [
    "last_1w_hourly_mean = df.shift(entries_per_hour*24*7 - entries_per_hour)['available_bikes'].rolling(entries_per_hour).mean()\n",
    "last_1w_daily_mean = df.shift(entries_per_hour*24*7 - entries_per_hour*24)['available_bikes'].rolling(entries_per_hour*24).mean()\n",
    "last_2w_hourly_mean = df.shift(entries_per_hour*24*7*2 - entries_per_hour)['available_bikes'].rolling(entries_per_hour).mean()\n",
    "last_2w_daily_mean = df.shift(entries_per_hour*24*7*2 - entries_per_hour*24)['available_bikes'].rolling(entries_per_hour*24).mean()"
   ]
  },
  {
   "cell_type": "code",
   "execution_count": 62,
   "metadata": {},
   "outputs": [],
   "source": [
    "df['last_1w_hourly_mean'] = last_1w_hourly_mean\n",
    "df['last_1w_daily_mean'] = last_1w_daily_mean\n",
    "df['last_2w_hourly_mean'] = last_2w_hourly_mean\n",
    "df['last_2w_daily_mean'] = last_2w_daily_mean"
   ]
  },
  {
   "cell_type": "code",
   "execution_count": 63,
   "metadata": {},
   "outputs": [],
   "source": [
    "# set status to unknown when status is not available\n",
    "df.loc[pd.isna(df.status), 'status'] = 'Unknown'"
   ]
  },
  {
   "cell_type": "code",
   "execution_count": 64,
   "metadata": {},
   "outputs": [
    {
     "data": {
      "text/plain": [
       "Index(['id', 'station_name', 'address', 'total_docks', 'docks_in_service',\n",
       "       'available_docks', 'available_bikes', 'percent_full', 'status',\n",
       "       'latitude', 'longitude', 'month', 'quarter', 'day', 'hour', 'hour_x',\n",
       "       'hour_y', 'quarter_hour', 'dow', 'week', 'ab_daily_mean',\n",
       "       'ab_monthly_mean', 'ab_weekly_mean', 'ab_daily_median',\n",
       "       'ab_monthly_median', 'ab_weekly_median', 'last_1w_hourly_mean',\n",
       "       'last_1w_daily_mean', 'last_2w_hourly_mean', 'last_2w_daily_mean'],\n",
       "      dtype='object')"
      ]
     },
     "execution_count": 64,
     "metadata": {},
     "output_type": "execute_result"
    }
   ],
   "source": [
    "df.columns"
   ]
  },
  {
   "cell_type": "markdown",
   "metadata": {},
   "source": [
    "### Set train/test splits"
   ]
  },
  {
   "cell_type": "code",
   "execution_count": 65,
   "metadata": {},
   "outputs": [],
   "source": [
    "train_df = df.query('20170101 <= ts < 20180928')\n",
    "# 2 weeks for validation\n",
    "val_df = df.query('20180928 <= ts < 20181012')\n",
    "# 2 weeks for test\n",
    "test_df = df.query('ts >= 20181012')"
   ]
  },
  {
   "cell_type": "code",
   "execution_count": 66,
   "metadata": {},
   "outputs": [
    {
     "data": {
      "text/plain": [
       "((91440, 30), (2016, 30), (2088, 30))"
      ]
     },
     "execution_count": 66,
     "metadata": {},
     "output_type": "execute_result"
    }
   ],
   "source": [
    "train_df.shape, val_df.shape, test_df.shape"
   ]
  },
  {
   "cell_type": "code",
   "execution_count": 67,
   "metadata": {},
   "outputs": [],
   "source": [
    "# overwrite last_1w_hourly_mean, last_1w_daily_mean columns for the second test week \n",
    "# this info is not available at test time!\n",
    "idx = test_df.shift(freq=datetime.timedelta(weeks=1))[:entries_per_hour*24*7].index\n",
    "features = ['last_1w_hourly_mean', 'last_1w_daily_mean']\n",
    "test_df.loc[idx, features] = test_df.loc[idx - datetime.timedelta(weeks=1), features]"
   ]
  },
  {
   "cell_type": "code",
   "execution_count": 68,
   "metadata": {},
   "outputs": [],
   "source": [
    "# drop first 2 weeks in train, no info for last_1w/2w features\n",
    "train_df = train_df.iloc[entries_per_hour*24*7*2:]"
   ]
  },
  {
   "cell_type": "code",
   "execution_count": 69,
   "metadata": {},
   "outputs": [
    {
     "data": {
      "text/plain": [
       "((89424, 30), (2016, 30), (2088, 30))"
      ]
     },
     "execution_count": 69,
     "metadata": {},
     "output_type": "execute_result"
    }
   ],
   "source": [
    "train_df.shape, val_df.shape, test_df.shape"
   ]
  },
  {
   "cell_type": "code",
   "execution_count": 70,
   "metadata": {},
   "outputs": [
    {
     "data": {
      "text/plain": [
       "(Timestamp('2017-01-15 00:05:00', freq='10T'),\n",
       " Timestamp('2018-09-27 23:55:00', freq='10T'),\n",
       " Timestamp('2018-09-28 00:05:00', freq='10T'),\n",
       " Timestamp('2018-10-11 23:55:00', freq='10T'),\n",
       " Timestamp('2018-10-12 00:05:00', freq='10T'),\n",
       " Timestamp('2018-10-26 11:55:00', freq='10T'))"
      ]
     },
     "execution_count": 70,
     "metadata": {},
     "output_type": "execute_result"
    }
   ],
   "source": [
    "train_df.index.min(), train_df.index.max(), val_df.index.min(), val_df.index.max(), test_df.index.min(), test_df.index.max()"
   ]
  },
  {
   "cell_type": "code",
   "execution_count": 71,
   "metadata": {},
   "outputs": [],
   "source": [
    "xs_features = ['total_docks', 'docks_in_service', 'status', 'ab_daily_mean', 'ab_monthly_mean', 'ab_weekly_mean',\n",
    "               'ab_daily_median', 'ab_monthly_median', 'ab_weekly_median', 'hour_x', 'hour_y',\n",
    "              'month', 'quarter', 'day', 'hour', 'quarter_hour', 'dow', 'week', 'last_1w_hourly_mean',\n",
    "              'last_1w_daily_mean', 'last_2w_hourly_mean', 'last_2w_daily_mean']\n",
    "target = ['available_bikes']\n",
    "\n",
    "le = LabelEncoder()\n",
    "train_df['status'] = le.fit_transform(train_df['status'])\n",
    "val_df['status'] = le.transform(val_df['status'])\n",
    "test_df['status'] = le.transform(test_df['status'])\n",
    "\n",
    "train_data = lgb.Dataset(train_df[xs_features], label=train_df[target],\n",
    "                        feature_name=xs_features, categorical_feature=['status'])\n",
    "val_data = lgb.Dataset(val_df[xs_features], label=val_df[target],\n",
    "                      feature_name=xs_features, categorical_feature=['status'], reference=train_data)\n",
    "test_data = lgb.Dataset(test_df[xs_features], label=test_df[target],\n",
    "                       feature_name=xs_features, categorical_feature=['status'])"
   ]
  },
  {
   "cell_type": "code",
   "execution_count": 72,
   "metadata": {},
   "outputs": [
    {
     "data": {
      "text/html": [
       "<div>\n",
       "<style scoped>\n",
       "    .dataframe tbody tr th:only-of-type {\n",
       "        vertical-align: middle;\n",
       "    }\n",
       "\n",
       "    .dataframe tbody tr th {\n",
       "        vertical-align: top;\n",
       "    }\n",
       "\n",
       "    .dataframe thead th {\n",
       "        text-align: right;\n",
       "    }\n",
       "</style>\n",
       "<table border=\"1\" class=\"dataframe\">\n",
       "  <thead>\n",
       "    <tr style=\"text-align: right;\">\n",
       "      <th></th>\n",
       "      <th>id</th>\n",
       "      <th>station_name</th>\n",
       "      <th>address</th>\n",
       "      <th>total_docks</th>\n",
       "      <th>docks_in_service</th>\n",
       "      <th>available_docks</th>\n",
       "      <th>available_bikes</th>\n",
       "      <th>percent_full</th>\n",
       "      <th>status</th>\n",
       "      <th>latitude</th>\n",
       "      <th>...</th>\n",
       "      <th>ab_daily_mean</th>\n",
       "      <th>ab_monthly_mean</th>\n",
       "      <th>ab_weekly_mean</th>\n",
       "      <th>ab_daily_median</th>\n",
       "      <th>ab_monthly_median</th>\n",
       "      <th>ab_weekly_median</th>\n",
       "      <th>last_1w_hourly_mean</th>\n",
       "      <th>last_1w_daily_mean</th>\n",
       "      <th>last_2w_hourly_mean</th>\n",
       "      <th>last_2w_daily_mean</th>\n",
       "    </tr>\n",
       "    <tr>\n",
       "      <th>ts</th>\n",
       "      <th></th>\n",
       "      <th></th>\n",
       "      <th></th>\n",
       "      <th></th>\n",
       "      <th></th>\n",
       "      <th></th>\n",
       "      <th></th>\n",
       "      <th></th>\n",
       "      <th></th>\n",
       "      <th></th>\n",
       "      <th></th>\n",
       "      <th></th>\n",
       "      <th></th>\n",
       "      <th></th>\n",
       "      <th></th>\n",
       "      <th></th>\n",
       "      <th></th>\n",
       "      <th></th>\n",
       "      <th></th>\n",
       "      <th></th>\n",
       "      <th></th>\n",
       "    </tr>\n",
       "  </thead>\n",
       "  <tbody>\n",
       "    <tr>\n",
       "      <th>2018-10-12 00:05:00</th>\n",
       "      <td>90.0</td>\n",
       "      <td>Millennium Park</td>\n",
       "      <td>Millennium Park</td>\n",
       "      <td>47.0</td>\n",
       "      <td>46.0</td>\n",
       "      <td>33.0</td>\n",
       "      <td>13.0</td>\n",
       "      <td>28.0</td>\n",
       "      <td>0</td>\n",
       "      <td>41.881032</td>\n",
       "      <td>...</td>\n",
       "      <td>15.346591</td>\n",
       "      <td>17.702679</td>\n",
       "      <td>18.428075</td>\n",
       "      <td>14.0</td>\n",
       "      <td>16.0</td>\n",
       "      <td>17.0</td>\n",
       "      <td>16.0</td>\n",
       "      <td>9.375000</td>\n",
       "      <td>1.000000</td>\n",
       "      <td>12.465278</td>\n",
       "    </tr>\n",
       "    <tr>\n",
       "      <th>2018-10-12 00:15:00</th>\n",
       "      <td>90.0</td>\n",
       "      <td>Millennium Park</td>\n",
       "      <td>Millennium Park</td>\n",
       "      <td>47.0</td>\n",
       "      <td>46.0</td>\n",
       "      <td>33.0</td>\n",
       "      <td>13.0</td>\n",
       "      <td>28.0</td>\n",
       "      <td>0</td>\n",
       "      <td>41.881032</td>\n",
       "      <td>...</td>\n",
       "      <td>15.346591</td>\n",
       "      <td>17.702679</td>\n",
       "      <td>18.428075</td>\n",
       "      <td>14.0</td>\n",
       "      <td>16.0</td>\n",
       "      <td>17.0</td>\n",
       "      <td>16.0</td>\n",
       "      <td>9.333333</td>\n",
       "      <td>1.333333</td>\n",
       "      <td>12.534722</td>\n",
       "    </tr>\n",
       "    <tr>\n",
       "      <th>2018-10-12 00:25:00</th>\n",
       "      <td>90.0</td>\n",
       "      <td>Millennium Park</td>\n",
       "      <td>Millennium Park</td>\n",
       "      <td>47.0</td>\n",
       "      <td>46.0</td>\n",
       "      <td>33.0</td>\n",
       "      <td>13.0</td>\n",
       "      <td>28.0</td>\n",
       "      <td>0</td>\n",
       "      <td>41.881032</td>\n",
       "      <td>...</td>\n",
       "      <td>15.346591</td>\n",
       "      <td>17.702679</td>\n",
       "      <td>18.428075</td>\n",
       "      <td>14.0</td>\n",
       "      <td>16.0</td>\n",
       "      <td>17.0</td>\n",
       "      <td>16.0</td>\n",
       "      <td>9.291667</td>\n",
       "      <td>1.666667</td>\n",
       "      <td>12.604167</td>\n",
       "    </tr>\n",
       "    <tr>\n",
       "      <th>2018-10-12 00:35:00</th>\n",
       "      <td>90.0</td>\n",
       "      <td>Millennium Park</td>\n",
       "      <td>Millennium Park</td>\n",
       "      <td>47.0</td>\n",
       "      <td>46.0</td>\n",
       "      <td>33.0</td>\n",
       "      <td>13.0</td>\n",
       "      <td>28.0</td>\n",
       "      <td>0</td>\n",
       "      <td>41.881032</td>\n",
       "      <td>...</td>\n",
       "      <td>15.346591</td>\n",
       "      <td>17.702679</td>\n",
       "      <td>18.428075</td>\n",
       "      <td>14.0</td>\n",
       "      <td>16.0</td>\n",
       "      <td>17.0</td>\n",
       "      <td>16.0</td>\n",
       "      <td>9.250000</td>\n",
       "      <td>2.000000</td>\n",
       "      <td>12.673611</td>\n",
       "    </tr>\n",
       "    <tr>\n",
       "      <th>2018-10-12 00:45:00</th>\n",
       "      <td>90.0</td>\n",
       "      <td>Millennium Park</td>\n",
       "      <td>Millennium Park</td>\n",
       "      <td>47.0</td>\n",
       "      <td>46.0</td>\n",
       "      <td>33.0</td>\n",
       "      <td>13.0</td>\n",
       "      <td>28.0</td>\n",
       "      <td>0</td>\n",
       "      <td>41.881032</td>\n",
       "      <td>...</td>\n",
       "      <td>15.346591</td>\n",
       "      <td>17.702679</td>\n",
       "      <td>18.428075</td>\n",
       "      <td>14.0</td>\n",
       "      <td>16.0</td>\n",
       "      <td>17.0</td>\n",
       "      <td>16.0</td>\n",
       "      <td>9.208333</td>\n",
       "      <td>2.333333</td>\n",
       "      <td>12.743056</td>\n",
       "    </tr>\n",
       "  </tbody>\n",
       "</table>\n",
       "<p>5 rows × 30 columns</p>\n",
       "</div>"
      ],
      "text/plain": [
       "                       id     station_name          address  total_docks  \\\n",
       "ts                                                                         \n",
       "2018-10-12 00:05:00  90.0  Millennium Park  Millennium Park         47.0   \n",
       "2018-10-12 00:15:00  90.0  Millennium Park  Millennium Park         47.0   \n",
       "2018-10-12 00:25:00  90.0  Millennium Park  Millennium Park         47.0   \n",
       "2018-10-12 00:35:00  90.0  Millennium Park  Millennium Park         47.0   \n",
       "2018-10-12 00:45:00  90.0  Millennium Park  Millennium Park         47.0   \n",
       "\n",
       "                     docks_in_service  available_docks  available_bikes  \\\n",
       "ts                                                                        \n",
       "2018-10-12 00:05:00              46.0             33.0             13.0   \n",
       "2018-10-12 00:15:00              46.0             33.0             13.0   \n",
       "2018-10-12 00:25:00              46.0             33.0             13.0   \n",
       "2018-10-12 00:35:00              46.0             33.0             13.0   \n",
       "2018-10-12 00:45:00              46.0             33.0             13.0   \n",
       "\n",
       "                     percent_full  status   latitude         ...          \\\n",
       "ts                                                           ...           \n",
       "2018-10-12 00:05:00          28.0       0  41.881032         ...           \n",
       "2018-10-12 00:15:00          28.0       0  41.881032         ...           \n",
       "2018-10-12 00:25:00          28.0       0  41.881032         ...           \n",
       "2018-10-12 00:35:00          28.0       0  41.881032         ...           \n",
       "2018-10-12 00:45:00          28.0       0  41.881032         ...           \n",
       "\n",
       "                     ab_daily_mean  ab_monthly_mean  ab_weekly_mean  \\\n",
       "ts                                                                    \n",
       "2018-10-12 00:05:00      15.346591        17.702679       18.428075   \n",
       "2018-10-12 00:15:00      15.346591        17.702679       18.428075   \n",
       "2018-10-12 00:25:00      15.346591        17.702679       18.428075   \n",
       "2018-10-12 00:35:00      15.346591        17.702679       18.428075   \n",
       "2018-10-12 00:45:00      15.346591        17.702679       18.428075   \n",
       "\n",
       "                     ab_daily_median  ab_monthly_median  ab_weekly_median  \\\n",
       "ts                                                                          \n",
       "2018-10-12 00:05:00             14.0               16.0              17.0   \n",
       "2018-10-12 00:15:00             14.0               16.0              17.0   \n",
       "2018-10-12 00:25:00             14.0               16.0              17.0   \n",
       "2018-10-12 00:35:00             14.0               16.0              17.0   \n",
       "2018-10-12 00:45:00             14.0               16.0              17.0   \n",
       "\n",
       "                     last_1w_hourly_mean  last_1w_daily_mean  \\\n",
       "ts                                                             \n",
       "2018-10-12 00:05:00                 16.0            9.375000   \n",
       "2018-10-12 00:15:00                 16.0            9.333333   \n",
       "2018-10-12 00:25:00                 16.0            9.291667   \n",
       "2018-10-12 00:35:00                 16.0            9.250000   \n",
       "2018-10-12 00:45:00                 16.0            9.208333   \n",
       "\n",
       "                     last_2w_hourly_mean  last_2w_daily_mean  \n",
       "ts                                                            \n",
       "2018-10-12 00:05:00             1.000000           12.465278  \n",
       "2018-10-12 00:15:00             1.333333           12.534722  \n",
       "2018-10-12 00:25:00             1.666667           12.604167  \n",
       "2018-10-12 00:35:00             2.000000           12.673611  \n",
       "2018-10-12 00:45:00             2.333333           12.743056  \n",
       "\n",
       "[5 rows x 30 columns]"
      ]
     },
     "execution_count": 72,
     "metadata": {},
     "output_type": "execute_result"
    }
   ],
   "source": [
    "test_df.head()"
   ]
  },
  {
   "cell_type": "code",
   "execution_count": 73,
   "metadata": {},
   "outputs": [
    {
     "name": "stdout",
     "output_type": "stream",
     "text": [
      "[1]\tvalid_0's l2: 147.997\tvalid_1's l2: 127.806\n",
      "Training until validation scores don't improve for 10 rounds.\n",
      "[2]\tvalid_0's l2: 141.509\tvalid_1's l2: 123.292\n",
      "[3]\tvalid_0's l2: 134.246\tvalid_1's l2: 121.474\n",
      "[4]\tvalid_0's l2: 126.831\tvalid_1's l2: 120.008\n",
      "[5]\tvalid_0's l2: 122.91\tvalid_1's l2: 115.777\n",
      "[6]\tvalid_0's l2: 117.271\tvalid_1's l2: 114.497\n",
      "[7]\tvalid_0's l2: 112.764\tvalid_1's l2: 112.74\n",
      "[8]\tvalid_0's l2: 110.507\tvalid_1's l2: 110.546\n",
      "[9]\tvalid_0's l2: 106.606\tvalid_1's l2: 111.015\n",
      "[10]\tvalid_0's l2: 103.624\tvalid_1's l2: 111.258\n",
      "[11]\tvalid_0's l2: 102.511\tvalid_1's l2: 109.911\n",
      "[12]\tvalid_0's l2: 99.1278\tvalid_1's l2: 106.652\n",
      "[13]\tvalid_0's l2: 98.2576\tvalid_1's l2: 106.79\n",
      "[14]\tvalid_0's l2: 96.7932\tvalid_1's l2: 106.771\n",
      "[15]\tvalid_0's l2: 95.0432\tvalid_1's l2: 106.664\n",
      "[16]\tvalid_0's l2: 94.5773\tvalid_1's l2: 105.914\n",
      "[17]\tvalid_0's l2: 94.4287\tvalid_1's l2: 105.175\n",
      "[18]\tvalid_0's l2: 93.7147\tvalid_1's l2: 105.984\n",
      "[19]\tvalid_0's l2: 92.7187\tvalid_1's l2: 105.708\n",
      "[20]\tvalid_0's l2: 91.6041\tvalid_1's l2: 105.457\n",
      "[21]\tvalid_0's l2: 90.5059\tvalid_1's l2: 104.743\n",
      "[22]\tvalid_0's l2: 90.2472\tvalid_1's l2: 104.665\n",
      "[23]\tvalid_0's l2: 89.7381\tvalid_1's l2: 106.391\n",
      "[24]\tvalid_0's l2: 89.2607\tvalid_1's l2: 105.998\n",
      "[25]\tvalid_0's l2: 88.5432\tvalid_1's l2: 105.158\n",
      "[26]\tvalid_0's l2: 87.89\tvalid_1's l2: 105.776\n",
      "[27]\tvalid_0's l2: 87.9198\tvalid_1's l2: 105.626\n",
      "[28]\tvalid_0's l2: 86.5425\tvalid_1's l2: 105.957\n",
      "[29]\tvalid_0's l2: 86.3149\tvalid_1's l2: 105.685\n",
      "[30]\tvalid_0's l2: 85.8997\tvalid_1's l2: 108.224\n",
      "[31]\tvalid_0's l2: 85.7196\tvalid_1's l2: 108.811\n",
      "[32]\tvalid_0's l2: 86.0272\tvalid_1's l2: 107.685\n",
      "Early stopping, best iteration is:\n",
      "[22]\tvalid_0's l2: 90.2472\tvalid_1's l2: 104.665\n"
     ]
    }
   ],
   "source": [
    "params = {\n",
    "    'objective': 'regression_l2',\n",
    "    'num_threds': 4,\n",
    "    'max_depth': 5,\n",
    "    'num_boost_rounds': 100,\n",
    "    'bagging_fraction': 0.75,\n",
    "    'bagging_freq': 3,\n",
    "    'feature_fraction': 0.75\n",
    "}\n",
    "bst = lgb.train(params, train_data, valid_sets=[val_data, test_data], early_stopping_rounds=10)"
   ]
  },
  {
   "cell_type": "code",
   "execution_count": 74,
   "metadata": {},
   "outputs": [],
   "source": [
    "y_true = test_df['available_bikes']\n",
    "y_hat = bst.predict(test_df[xs_features], num_iteration=bst.best_iteration)"
   ]
  },
  {
   "cell_type": "code",
   "execution_count": 75,
   "metadata": {},
   "outputs": [
    {
     "data": {
      "text/plain": [
       "10.23058877958925"
      ]
     },
     "execution_count": 75,
     "metadata": {},
     "output_type": "execute_result"
    }
   ],
   "source": [
    "# rmse\n",
    "np.sqrt(np.mean((y_true - y_hat)**2))"
   ]
  },
  {
   "cell_type": "code",
   "execution_count": 76,
   "metadata": {},
   "outputs": [
    {
     "data": {
      "text/plain": [
       "<matplotlib.legend.Legend at 0x19d7515f8>"
      ]
     },
     "execution_count": 76,
     "metadata": {},
     "output_type": "execute_result"
    },
    {
     "data": {
      "image/png": "[encoded data removed]",
      "text/plain": [
       "<Figure size 432x288 with 1 Axes>"
      ]
     },
     "metadata": {
      "needs_background": "light"
     },
     "output_type": "display_data"
    }
   ],
   "source": [
    "plt.plot(test_df.index, y_true, label='y_true')\n",
    "plt.plot(test_df.index, y_hat, label='y_hat')\n",
    "plt.xticks(rotation=90)\n",
    "plt.legend()"
   ]
  },
  {
   "cell_type": "code",
   "execution_count": 77,
   "metadata": {},
   "outputs": [
    {
     "data": {
      "text/plain": [
       "<matplotlib.axes._subplots.AxesSubplot at 0x2877886d8>"
      ]
     },
     "execution_count": 77,
     "metadata": {},
     "output_type": "execute_result"
    },
    {
     "data": {
      "image/png": "[encoded data removed]",
      "text/plain": [
       "<Figure size 432x288 with 1 Axes>"
      ]
     },
     "metadata": {
      "needs_background": "light"
     },
     "output_type": "display_data"
    }
   ],
   "source": [
    "# plot feature importance\n",
    "lgb.plot_importance(bst)"
   ]
  },
  {
   "cell_type": "code",
   "execution_count": 78,
   "metadata": {},
   "outputs": [
    {
     "data": {
      "text/html": [
       "<div>\n",
       "<style scoped>\n",
       "    .dataframe tbody tr th:only-of-type {\n",
       "        vertical-align: middle;\n",
       "    }\n",
       "\n",
       "    .dataframe tbody tr th {\n",
       "        vertical-align: top;\n",
       "    }\n",
       "\n",
       "    .dataframe thead th {\n",
       "        text-align: right;\n",
       "    }\n",
       "</style>\n",
       "<table border=\"1\" class=\"dataframe\">\n",
       "  <thead>\n",
       "    <tr style=\"text-align: right;\">\n",
       "      <th></th>\n",
       "      <th>y_hat</th>\n",
       "      <th>y_true</th>\n",
       "    </tr>\n",
       "    <tr>\n",
       "      <th>date</th>\n",
       "      <th></th>\n",
       "      <th></th>\n",
       "    </tr>\n",
       "  </thead>\n",
       "  <tbody>\n",
       "    <tr>\n",
       "      <th>2018-10-12 00:05:00</th>\n",
       "      <td>13.434261</td>\n",
       "      <td>13.0</td>\n",
       "    </tr>\n",
       "    <tr>\n",
       "      <th>2018-10-12 00:15:00</th>\n",
       "      <td>13.434261</td>\n",
       "      <td>13.0</td>\n",
       "    </tr>\n",
       "    <tr>\n",
       "      <th>2018-10-12 00:25:00</th>\n",
       "      <td>13.434261</td>\n",
       "      <td>13.0</td>\n",
       "    </tr>\n",
       "    <tr>\n",
       "      <th>2018-10-12 00:35:00</th>\n",
       "      <td>13.434261</td>\n",
       "      <td>13.0</td>\n",
       "    </tr>\n",
       "    <tr>\n",
       "      <th>2018-10-12 00:45:00</th>\n",
       "      <td>13.434261</td>\n",
       "      <td>13.0</td>\n",
       "    </tr>\n",
       "  </tbody>\n",
       "</table>\n",
       "</div>"
      ],
      "text/plain": [
       "                         y_hat  y_true\n",
       "date                                  \n",
       "2018-10-12 00:05:00  13.434261    13.0\n",
       "2018-10-12 00:15:00  13.434261    13.0\n",
       "2018-10-12 00:25:00  13.434261    13.0\n",
       "2018-10-12 00:35:00  13.434261    13.0\n",
       "2018-10-12 00:45:00  13.434261    13.0"
      ]
     },
     "execution_count": 78,
     "metadata": {},
     "output_type": "execute_result"
    }
   ],
   "source": [
    "results = pd.DataFrame({'date': test_df.index, 'y_hat': y_hat, 'y_true': y_true})\n",
    "results.set_index('date', inplace=True)\n",
    "results.head()"
   ]
  },
  {
   "cell_type": "markdown",
   "metadata": {},
   "source": [
    "# Bayesian optimization with scikit-optimize"
   ]
  },
  {
   "cell_type": "code",
   "execution_count": 80,
   "metadata": {},
   "outputs": [
    {
     "name": "stdout",
     "output_type": "stream",
     "text": [
      "Fitting 2 folds for each of 1 candidates, totalling 2 fits\n",
      "[CV] bagging_fraction=0.4160029192647807, colsample_bytree=0.7304484857455519, feature_fraction=0.9335393188593556, learning_rate=0.042815319280763466, max_delta_step=13, max_depth=21, min_child_weight=2, n_estimators=766, reg_alpha=5.497557739289786e-07, reg_lambda=0.05936070635912049, subsample=0.5544643023916863 \n",
      "[CV] bagging_fraction=0.4160029192647807, colsample_bytree=0.7304484857455519, feature_fraction=0.9335393188593556, learning_rate=0.042815319280763466, max_delta_step=13, max_depth=21, min_child_weight=2, n_estimators=766, reg_alpha=5.497557739289786e-07, reg_lambda=0.05936070635912049, subsample=0.5544643023916863 \n",
      "[CV]  bagging_fraction=0.4160029192647807, colsample_bytree=0.7304484857455519, feature_fraction=0.9335393188593556, learning_rate=0.042815319280763466, max_delta_step=13, max_depth=21, min_child_weight=2, n_estimators=766, reg_alpha=5.497557739289786e-07, reg_lambda=0.05936070635912049, subsample=0.5544643023916863, score=-19.70458610235318, total=   5.3s\n",
      "[CV]  bagging_fraction=0.4160029192647807, colsample_bytree=0.7304484857455519, feature_fraction=0.9335393188593556, learning_rate=0.042815319280763466, max_delta_step=13, max_depth=21, min_child_weight=2, n_estimators=766, reg_alpha=5.497557739289786e-07, reg_lambda=0.05936070635912049, subsample=0.5544643023916863, score=-20.19319743986931, total=   6.2s\n",
      "Fitting 2 folds for each of 1 candidates, totalling 2 fits\n"
     ]
    },
    {
     "name": "stderr",
     "output_type": "stream",
     "text": [
      "[Parallel(n_jobs=4)]: Done   2 out of   2 | elapsed:    6.3s remaining:    0.0s\n",
      "[Parallel(n_jobs=4)]: Done   2 out of   2 | elapsed:    6.3s finished\n"
     ]
    },
    {
     "name": "stdout",
     "output_type": "stream",
     "text": [
      "[CV] bagging_fraction=0.8390144719977516, colsample_bytree=0.8844821246070537, feature_fraction=0.3103760087853332, learning_rate=0.7988179462781242, max_delta_step=17, max_depth=3, min_child_weight=1, n_estimators=418, reg_alpha=0.0005266983003701547, reg_lambda=276.5424475574225, subsample=0.6336020558163782 \n",
      "[CV] bagging_fraction=0.8390144719977516, colsample_bytree=0.8844821246070537, feature_fraction=0.3103760087853332, learning_rate=0.7988179462781242, max_delta_step=17, max_depth=3, min_child_weight=1, n_estimators=418, reg_alpha=0.0005266983003701547, reg_lambda=276.5424475574225, subsample=0.6336020558163782 \n",
      "[CV]  bagging_fraction=0.8390144719977516, colsample_bytree=0.8844821246070537, feature_fraction=0.3103760087853332, learning_rate=0.7988179462781242, max_delta_step=17, max_depth=3, min_child_weight=1, n_estimators=418, reg_alpha=0.0005266983003701547, reg_lambda=276.5424475574225, subsample=0.6336020558163782, score=-32.0254770033466, total=   1.1s\n",
      "[CV]  bagging_fraction=0.8390144719977516, colsample_bytree=0.8844821246070537, feature_fraction=0.3103760087853332, learning_rate=0.7988179462781242, max_delta_step=17, max_depth=3, min_child_weight=1, n_estimators=418, reg_alpha=0.0005266983003701547, reg_lambda=276.5424475574225, subsample=0.6336020558163782, score=-31.942785258140585, total=   1.4s\n",
      "Fitting 2 folds for each of 1 candidates, totalling 2 fits\n"
     ]
    },
    {
     "name": "stderr",
     "output_type": "stream",
     "text": [
      "[Parallel(n_jobs=4)]: Done   2 out of   2 | elapsed:    1.5s remaining:    0.0s\n",
      "[Parallel(n_jobs=4)]: Done   2 out of   2 | elapsed:    1.5s finished\n"
     ]
    },
    {
     "name": "stdout",
     "output_type": "stream",
     "text": [
      "[CV] bagging_fraction=0.4503841871781403, colsample_bytree=0.9195352964526833, feature_fraction=0.11381056696717655, learning_rate=0.07356404539935663, max_delta_step=4, max_depth=23, min_child_weight=1, n_estimators=776, reg_alpha=0.00010376808625045426, reg_lambda=476.96194787286544, subsample=0.7064328557952411 \n",
      "[CV] bagging_fraction=0.4503841871781403, colsample_bytree=0.9195352964526833, feature_fraction=0.11381056696717655, learning_rate=0.07356404539935663, max_delta_step=4, max_depth=23, min_child_weight=1, n_estimators=776, reg_alpha=0.00010376808625045426, reg_lambda=476.96194787286544, subsample=0.7064328557952411 \n",
      "[CV]  bagging_fraction=0.4503841871781403, colsample_bytree=0.9195352964526833, feature_fraction=0.11381056696717655, learning_rate=0.07356404539935663, max_delta_step=4, max_depth=23, min_child_weight=1, n_estimators=776, reg_alpha=0.00010376808625045426, reg_lambda=476.96194787286544, subsample=0.7064328557952411, score=-43.238954261766175, total=   4.7s\n",
      "[CV]  bagging_fraction=0.4503841871781403, colsample_bytree=0.9195352964526833, feature_fraction=0.11381056696717655, learning_rate=0.07356404539935663, max_delta_step=4, max_depth=23, min_child_weight=1, n_estimators=776, reg_alpha=0.00010376808625045426, reg_lambda=476.96194787286544, subsample=0.7064328557952411, score=-43.08090666296196, total=   4.9s\n",
      "Fitting 2 folds for each of 1 candidates, totalling 2 fits\n"
     ]
    },
    {
     "name": "stderr",
     "output_type": "stream",
     "text": [
      "[Parallel(n_jobs=4)]: Done   2 out of   2 | elapsed:    5.0s remaining:    0.0s\n",
      "[Parallel(n_jobs=4)]: Done   2 out of   2 | elapsed:    5.0s finished\n"
     ]
    },
    {
     "name": "stdout",
     "output_type": "stream",
     "text": [
      "[CV] bagging_fraction=0.8142720284737898, colsample_bytree=0.1801528457825951, feature_fraction=0.6020666067370067, learning_rate=0.4032083917998946, max_delta_step=10, max_depth=5, min_child_weight=4, n_estimators=885, reg_alpha=0.1611980387486336, reg_lambda=4.3806965488564525e-05, subsample=0.34817978468161015 \n",
      "[CV] bagging_fraction=0.8142720284737898, colsample_bytree=0.1801528457825951, feature_fraction=0.6020666067370067, learning_rate=0.4032083917998946, max_delta_step=10, max_depth=5, min_child_weight=4, n_estimators=885, reg_alpha=0.1611980387486336, reg_lambda=4.3806965488564525e-05, subsample=0.34817978468161015 \n",
      "[CV]  bagging_fraction=0.8142720284737898, colsample_bytree=0.1801528457825951, feature_fraction=0.6020666067370067, learning_rate=0.4032083917998946, max_delta_step=10, max_depth=5, min_child_weight=4, n_estimators=885, reg_alpha=0.1611980387486336, reg_lambda=4.3806965488564525e-05, subsample=0.34817978468161015, score=-11.543100984207598, total=   5.5s\n",
      "[CV]  bagging_fraction=0.8142720284737898, colsample_bytree=0.1801528457825951, feature_fraction=0.6020666067370067, learning_rate=0.4032083917998946, max_delta_step=10, max_depth=5, min_child_weight=4, n_estimators=885, reg_alpha=0.1611980387486336, reg_lambda=4.3806965488564525e-05, subsample=0.34817978468161015, score=-11.262777664378053, total=   5.6s\n",
      "Fitting 2 folds for each of 1 candidates, totalling 2 fits\n"
     ]
    },
    {
     "name": "stderr",
     "output_type": "stream",
     "text": [
      "[Parallel(n_jobs=4)]: Done   2 out of   2 | elapsed:    5.8s remaining:    0.0s\n",
      "[Parallel(n_jobs=4)]: Done   2 out of   2 | elapsed:    5.8s finished\n"
     ]
    },
    {
     "name": "stdout",
     "output_type": "stream",
     "text": [
      "[CV] bagging_fraction=0.8015579071911014, colsample_bytree=0.44364889457651413, feature_fraction=0.5313540347564155, learning_rate=0.2700390206185342, max_delta_step=18, max_depth=36, min_child_weight=2, n_estimators=685, reg_alpha=1.5057560255472018e-06, reg_lambda=0.08186810622382998, subsample=0.5178580699961443 \n",
      "[CV] bagging_fraction=0.8015579071911014, colsample_bytree=0.44364889457651413, feature_fraction=0.5313540347564155, learning_rate=0.2700390206185342, max_delta_step=18, max_depth=36, min_child_weight=2, n_estimators=685, reg_alpha=1.5057560255472018e-06, reg_lambda=0.08186810622382998, subsample=0.5178580699961443 \n",
      "[CV]  bagging_fraction=0.8015579071911014, colsample_bytree=0.44364889457651413, feature_fraction=0.5313540347564155, learning_rate=0.2700390206185342, max_delta_step=18, max_depth=36, min_child_weight=2, n_estimators=685, reg_alpha=1.5057560255472018e-06, reg_lambda=0.08186810622382998, subsample=0.5178580699961443, score=-10.270608677711964, total=   3.0s\n",
      "[CV]  bagging_fraction=0.8015579071911014, colsample_bytree=0.44364889457651413, feature_fraction=0.5313540347564155, learning_rate=0.2700390206185342, max_delta_step=18, max_depth=36, min_child_weight=2, n_estimators=685, reg_alpha=1.5057560255472018e-06, reg_lambda=0.08186810622382998, subsample=0.5178580699961443, score=-9.943647467841805, total=   3.6s\n",
      "Fitting 2 folds for each of 1 candidates, totalling 2 fits\n"
     ]
    },
    {
     "name": "stderr",
     "output_type": "stream",
     "text": [
      "[Parallel(n_jobs=4)]: Done   2 out of   2 | elapsed:    3.8s remaining:    0.0s\n",
      "[Parallel(n_jobs=4)]: Done   2 out of   2 | elapsed:    3.8s finished\n"
     ]
    },
    {
     "name": "stdout",
     "output_type": "stream",
     "text": [
      "[CV] bagging_fraction=0.7366877378057127, colsample_bytree=0.9399760402267441, feature_fraction=0.17197110685216477, learning_rate=0.0238149998729586, max_delta_step=16, max_depth=19, min_child_weight=2, n_estimators=581, reg_alpha=0.011683028450342707, reg_lambda=0.0048879464985534336, subsample=0.5930070264428381 \n",
      "[CV] bagging_fraction=0.7366877378057127, colsample_bytree=0.9399760402267441, feature_fraction=0.17197110685216477, learning_rate=0.0238149998729586, max_delta_step=16, max_depth=19, min_child_weight=2, n_estimators=581, reg_alpha=0.011683028450342707, reg_lambda=0.0048879464985534336, subsample=0.5930070264428381 \n",
      "[CV]  bagging_fraction=0.7366877378057127, colsample_bytree=0.9399760402267441, feature_fraction=0.17197110685216477, learning_rate=0.0238149998729586, max_delta_step=16, max_depth=19, min_child_weight=2, n_estimators=581, reg_alpha=0.011683028450342707, reg_lambda=0.0048879464985534336, subsample=0.5930070264428381, score=-42.843933064965675, total=   3.6s\n",
      "[CV]  bagging_fraction=0.7366877378057127, colsample_bytree=0.9399760402267441, feature_fraction=0.17197110685216477, learning_rate=0.0238149998729586, max_delta_step=16, max_depth=19, min_child_weight=2, n_estimators=581, reg_alpha=0.011683028450342707, reg_lambda=0.0048879464985534336, subsample=0.5930070264428381, score=-43.0625208687282, total=   3.6s\n",
      "Fitting 2 folds for each of 1 candidates, totalling 2 fits\n"
     ]
    },
    {
     "name": "stderr",
     "output_type": "stream",
     "text": [
      "[Parallel(n_jobs=4)]: Done   2 out of   2 | elapsed:    3.7s remaining:    0.0s\n",
      "[Parallel(n_jobs=4)]: Done   2 out of   2 | elapsed:    3.7s finished\n"
     ]
    },
    {
     "name": "stdout",
     "output_type": "stream",
     "text": [
      "[CV] bagging_fraction=0.6209085649172932, colsample_bytree=0.7776107350396038, feature_fraction=0.3654327026021899, learning_rate=0.5605967693796124, max_delta_step=12, max_depth=30, min_child_weight=3, n_estimators=480, reg_alpha=0.004026635957416632, reg_lambda=0.040887904512512056, subsample=0.9250385544668723 \n",
      "[CV] bagging_fraction=0.6209085649172932, colsample_bytree=0.7776107350396038, feature_fraction=0.3654327026021899, learning_rate=0.5605967693796124, max_delta_step=12, max_depth=30, min_child_weight=3, n_estimators=480, reg_alpha=0.004026635957416632, reg_lambda=0.040887904512512056, subsample=0.9250385544668723 \n",
      "[CV]  bagging_fraction=0.6209085649172932, colsample_bytree=0.7776107350396038, feature_fraction=0.3654327026021899, learning_rate=0.5605967693796124, max_delta_step=12, max_depth=30, min_child_weight=3, n_estimators=480, reg_alpha=0.004026635957416632, reg_lambda=0.040887904512512056, subsample=0.9250385544668723, score=-12.343766753493863, total=   2.0s\n",
      "[CV]  bagging_fraction=0.6209085649172932, colsample_bytree=0.7776107350396038, feature_fraction=0.3654327026021899, learning_rate=0.5605967693796124, max_delta_step=12, max_depth=30, min_child_weight=3, n_estimators=480, reg_alpha=0.004026635957416632, reg_lambda=0.040887904512512056, subsample=0.9250385544668723, score=-12.229208550335686, total=   2.5s\n",
      "Fitting 2 folds for each of 1 candidates, totalling 2 fits\n"
     ]
    },
    {
     "name": "stderr",
     "output_type": "stream",
     "text": [
      "[Parallel(n_jobs=4)]: Done   2 out of   2 | elapsed:    2.6s remaining:    0.0s\n",
      "[Parallel(n_jobs=4)]: Done   2 out of   2 | elapsed:    2.6s finished\n"
     ]
    },
    {
     "name": "stdout",
     "output_type": "stream",
     "text": [
      "[CV] bagging_fraction=0.5479690370134094, colsample_bytree=0.9208091341729433, feature_fraction=0.5015020365607495, learning_rate=0.4734922490673386, max_delta_step=6, max_depth=3, min_child_weight=3, n_estimators=123, reg_alpha=2.9618722230360503e-06, reg_lambda=8.153638964242, subsample=0.37377280619679043 \n",
      "[CV] bagging_fraction=0.5479690370134094, colsample_bytree=0.9208091341729433, feature_fraction=0.5015020365607495, learning_rate=0.4734922490673386, max_delta_step=6, max_depth=3, min_child_weight=3, n_estimators=123, reg_alpha=2.9618722230360503e-06, reg_lambda=8.153638964242, subsample=0.37377280619679043 \n",
      "[CV]  bagging_fraction=0.5479690370134094, colsample_bytree=0.9208091341729433, feature_fraction=0.5015020365607495, learning_rate=0.4734922490673386, max_delta_step=6, max_depth=3, min_child_weight=3, n_estimators=123, reg_alpha=2.9618722230360503e-06, reg_lambda=8.153638964242, subsample=0.37377280619679043, score=-43.54435533584712, total=   0.7s\n",
      "[CV]  bagging_fraction=0.5479690370134094, colsample_bytree=0.9208091341729433, feature_fraction=0.5015020365607495, learning_rate=0.4734922490673386, max_delta_step=6, max_depth=3, min_child_weight=3, n_estimators=123, reg_alpha=2.9618722230360503e-06, reg_lambda=8.153638964242, subsample=0.37377280619679043, score=-45.14661067279505, total=   0.7s\n",
      "Fitting 2 folds for each of 1 candidates, totalling 2 fits\n"
     ]
    },
    {
     "name": "stderr",
     "output_type": "stream",
     "text": [
      "[Parallel(n_jobs=4)]: Done   2 out of   2 | elapsed:    0.8s remaining:    0.0s\n",
      "[Parallel(n_jobs=4)]: Done   2 out of   2 | elapsed:    0.8s finished\n"
     ]
    },
    {
     "name": "stdout",
     "output_type": "stream",
     "text": [
      "[CV] bagging_fraction=0.955923206446829, colsample_bytree=0.7036152301751524, feature_fraction=0.8729354091785829, learning_rate=0.06786442521779147, max_delta_step=8, max_depth=11, min_child_weight=0, n_estimators=434, reg_alpha=0.00022356829889037284, reg_lambda=1.2908532337409298e-07, subsample=0.7697045536001489 \n",
      "[CV] bagging_fraction=0.955923206446829, colsample_bytree=0.7036152301751524, feature_fraction=0.8729354091785829, learning_rate=0.06786442521779147, max_delta_step=8, max_depth=11, min_child_weight=0, n_estimators=434, reg_alpha=0.00022356829889037284, reg_lambda=1.2908532337409298e-07, subsample=0.7697045536001489 \n",
      "[CV]  bagging_fraction=0.955923206446829, colsample_bytree=0.7036152301751524, feature_fraction=0.8729354091785829, learning_rate=0.06786442521779147, max_delta_step=8, max_depth=11, min_child_weight=0, n_estimators=434, reg_alpha=0.00022356829889037284, reg_lambda=1.2908532337409298e-07, subsample=0.7697045536001489, score=-21.110611324236068, total=   2.9s\n",
      "[CV]  bagging_fraction=0.955923206446829, colsample_bytree=0.7036152301751524, feature_fraction=0.8729354091785829, learning_rate=0.06786442521779147, max_delta_step=8, max_depth=11, min_child_weight=0, n_estimators=434, reg_alpha=0.00022356829889037284, reg_lambda=1.2908532337409298e-07, subsample=0.7697045536001489, score=-21.72179734860332, total=   3.5s\n"
     ]
    },
    {
     "name": "stderr",
     "output_type": "stream",
     "text": [
      "[Parallel(n_jobs=4)]: Done   2 out of   2 | elapsed:    3.6s remaining:    0.0s\n",
      "[Parallel(n_jobs=4)]: Done   2 out of   2 | elapsed:    3.6s finished\n"
     ]
    },
    {
     "name": "stdout",
     "output_type": "stream",
     "text": [
      "Fitting 2 folds for each of 1 candidates, totalling 2 fits\n",
      "[CV] bagging_fraction=0.013594004182195795, colsample_bytree=0.819651719467114, feature_fraction=0.743869916924347, learning_rate=0.03229300915669146, max_delta_step=12, max_depth=14, min_child_weight=2, n_estimators=237, reg_alpha=0.11080071157037095, reg_lambda=5.745523087821567, subsample=0.7557881303057526 \n",
      "[CV] bagging_fraction=0.013594004182195795, colsample_bytree=0.819651719467114, feature_fraction=0.743869916924347, learning_rate=0.03229300915669146, max_delta_step=12, max_depth=14, min_child_weight=2, n_estimators=237, reg_alpha=0.11080071157037095, reg_lambda=5.745523087821567, subsample=0.7557881303057526 \n",
      "[CV]  bagging_fraction=0.013594004182195795, colsample_bytree=0.819651719467114, feature_fraction=0.743869916924347, learning_rate=0.03229300915669146, max_delta_step=12, max_depth=14, min_child_weight=2, n_estimators=237, reg_alpha=0.11080071157037095, reg_lambda=5.745523087821567, subsample=0.7557881303057526, score=-37.438768494985304, total=   1.9s\n",
      "[CV]  bagging_fraction=0.013594004182195795, colsample_bytree=0.819651719467114, feature_fraction=0.743869916924347, learning_rate=0.03229300915669146, max_delta_step=12, max_depth=14, min_child_weight=2, n_estimators=237, reg_alpha=0.11080071157037095, reg_lambda=5.745523087821567, subsample=0.7557881303057526, score=-38.14789447264592, total=   2.2s\n"
     ]
    },
    {
     "name": "stderr",
     "output_type": "stream",
     "text": [
      "[Parallel(n_jobs=4)]: Done   2 out of   2 | elapsed:    2.3s remaining:    0.0s\n",
      "[Parallel(n_jobs=4)]: Done   2 out of   2 | elapsed:    2.3s finished\n"
     ]
    },
    {
     "name": "stdout",
     "output_type": "stream",
     "text": [
      "Fitting 2 folds for each of 1 candidates, totalling 2 fits\n",
      "[CV] bagging_fraction=0.01, colsample_bytree=0.1788904012673087, feature_fraction=0.01, learning_rate=0.034690307365005474, max_delta_step=0, max_depth=50, min_child_weight=5, n_estimators=100, reg_alpha=1.0, reg_lambda=0.038475750251823995, subsample=1.0 \n",
      "[CV] bagging_fraction=0.01, colsample_bytree=0.1788904012673087, feature_fraction=0.01, learning_rate=0.034690307365005474, max_delta_step=0, max_depth=50, min_child_weight=5, n_estimators=100, reg_alpha=1.0, reg_lambda=0.038475750251823995, subsample=1.0 \n",
      "[CV]  bagging_fraction=0.01, colsample_bytree=0.1788904012673087, feature_fraction=0.01, learning_rate=0.034690307365005474, max_delta_step=0, max_depth=50, min_child_weight=5, n_estimators=100, reg_alpha=1.0, reg_lambda=0.038475750251823995, subsample=1.0, score=-88.75523244846104, total=   0.5s\n",
      "[CV]  bagging_fraction=0.01, colsample_bytree=0.1788904012673087, feature_fraction=0.01, learning_rate=0.034690307365005474, max_delta_step=0, max_depth=50, min_child_weight=5, n_estimators=100, reg_alpha=1.0, reg_lambda=0.038475750251823995, subsample=1.0, score=-88.97956427823496, total=   0.6s\n"
     ]
    },
    {
     "name": "stderr",
     "output_type": "stream",
     "text": [
      "[Parallel(n_jobs=4)]: Done   2 out of   2 | elapsed:    0.8s remaining:    0.0s\n",
      "[Parallel(n_jobs=4)]: Done   2 out of   2 | elapsed:    0.8s finished\n"
     ]
    },
    {
     "name": "stdout",
     "output_type": "stream",
     "text": [
      "Fitting 2 folds for each of 1 candidates, totalling 2 fits\n",
      "[CV] bagging_fraction=0.7067769221213658, colsample_bytree=0.5938522974005767, feature_fraction=0.42057168878604045, learning_rate=0.4568435134123797, max_delta_step=16, max_depth=2, min_child_weight=2, n_estimators=695, reg_alpha=0.0006977065905326317, reg_lambda=0.06604417917302549, subsample=0.6146257721974441 \n",
      "[CV] bagging_fraction=0.7067769221213658, colsample_bytree=0.5938522974005767, feature_fraction=0.42057168878604045, learning_rate=0.4568435134123797, max_delta_step=16, max_depth=2, min_child_weight=2, n_estimators=695, reg_alpha=0.0006977065905326317, reg_lambda=0.06604417917302549, subsample=0.6146257721974441 \n",
      "[CV]  bagging_fraction=0.7067769221213658, colsample_bytree=0.5938522974005767, feature_fraction=0.42057168878604045, learning_rate=0.4568435134123797, max_delta_step=16, max_depth=2, min_child_weight=2, n_estimators=695, reg_alpha=0.0006977065905326317, reg_lambda=0.06604417917302549, subsample=0.6146257721974441, score=-42.94433388301924, total=   1.5s\n",
      "[CV]  bagging_fraction=0.7067769221213658, colsample_bytree=0.5938522974005767, feature_fraction=0.42057168878604045, learning_rate=0.4568435134123797, max_delta_step=16, max_depth=2, min_child_weight=2, n_estimators=695, reg_alpha=0.0006977065905326317, reg_lambda=0.06604417917302549, subsample=0.6146257721974441, score=-43.17139135666982, total=   1.8s\n"
     ]
    },
    {
     "name": "stderr",
     "output_type": "stream",
     "text": [
      "[Parallel(n_jobs=4)]: Done   2 out of   2 | elapsed:    2.0s remaining:    0.0s\n",
      "[Parallel(n_jobs=4)]: Done   2 out of   2 | elapsed:    2.0s finished\n"
     ]
    },
    {
     "name": "stdout",
     "output_type": "stream",
     "text": [
      "Fitting 2 folds for each of 1 candidates, totalling 2 fits\n",
      "[CV] bagging_fraction=0.5615601884278149, colsample_bytree=0.4525366256459031, feature_fraction=0.47528305164006607, learning_rate=0.1359903419261845, max_delta_step=18, max_depth=35, min_child_weight=2, n_estimators=691, reg_alpha=6.886300675857153e-08, reg_lambda=0.0560238825113653, subsample=0.48407876859178084 \n",
      "[CV] bagging_fraction=0.5615601884278149, colsample_bytree=0.4525366256459031, feature_fraction=0.47528305164006607, learning_rate=0.1359903419261845, max_delta_step=18, max_depth=35, min_child_weight=2, n_estimators=691, reg_alpha=6.886300675857153e-08, reg_lambda=0.0560238825113653, subsample=0.48407876859178084 \n",
      "[CV]  bagging_fraction=0.5615601884278149, colsample_bytree=0.4525366256459031, feature_fraction=0.47528305164006607, learning_rate=0.1359903419261845, max_delta_step=18, max_depth=35, min_child_weight=2, n_estimators=691, reg_alpha=6.886300675857153e-08, reg_lambda=0.0560238825113653, subsample=0.48407876859178084, score=-12.672566762441095, total=   3.9s\n",
      "[CV]  bagging_fraction=0.5615601884278149, colsample_bytree=0.4525366256459031, feature_fraction=0.47528305164006607, learning_rate=0.1359903419261845, max_delta_step=18, max_depth=35, min_child_weight=2, n_estimators=691, reg_alpha=6.886300675857153e-08, reg_lambda=0.0560238825113653, subsample=0.48407876859178084, score=-12.939450965200692, total=   4.1s\n"
     ]
    },
    {
     "name": "stderr",
     "output_type": "stream",
     "text": [
      "[Parallel(n_jobs=4)]: Done   2 out of   2 | elapsed:    4.2s remaining:    0.0s\n",
      "[Parallel(n_jobs=4)]: Done   2 out of   2 | elapsed:    4.2s finished\n"
     ]
    },
    {
     "name": "stdout",
     "output_type": "stream",
     "text": [
      "Fitting 2 folds for each of 1 candidates, totalling 2 fits\n",
      "[CV] bagging_fraction=0.013670819313426497, colsample_bytree=0.6491402178219293, feature_fraction=0.6134343594862075, learning_rate=0.5449405652393333, max_delta_step=17, max_depth=37, min_child_weight=2, n_estimators=682, reg_alpha=1.6502964777047756e-06, reg_lambda=0.33427396965007994, subsample=0.3798986864513759 \n",
      "[CV] bagging_fraction=0.013670819313426497, colsample_bytree=0.6491402178219293, feature_fraction=0.6134343594862075, learning_rate=0.5449405652393333, max_delta_step=17, max_depth=37, min_child_weight=2, n_estimators=682, reg_alpha=1.6502964777047756e-06, reg_lambda=0.33427396965007994, subsample=0.3798986864513759 \n",
      "[CV]  bagging_fraction=0.013670819313426497, colsample_bytree=0.6491402178219293, feature_fraction=0.6134343594862075, learning_rate=0.5449405652393333, max_delta_step=17, max_depth=37, min_child_weight=2, n_estimators=682, reg_alpha=1.6502964777047756e-06, reg_lambda=0.33427396965007994, subsample=0.3798986864513759, score=-10.370232246477658, total=   3.3s\n",
      "[CV]  bagging_fraction=0.013670819313426497, colsample_bytree=0.6491402178219293, feature_fraction=0.6134343594862075, learning_rate=0.5449405652393333, max_delta_step=17, max_depth=37, min_child_weight=2, n_estimators=682, reg_alpha=1.6502964777047756e-06, reg_lambda=0.33427396965007994, subsample=0.3798986864513759, score=-10.6019965033688, total=   3.6s\n"
     ]
    },
    {
     "name": "stderr",
     "output_type": "stream",
     "text": [
      "[Parallel(n_jobs=4)]: Done   2 out of   2 | elapsed:    3.7s remaining:    0.0s\n",
      "[Parallel(n_jobs=4)]: Done   2 out of   2 | elapsed:    3.7s finished\n"
     ]
    },
    {
     "name": "stdout",
     "output_type": "stream",
     "text": [
      "Fitting 2 folds for each of 1 candidates, totalling 2 fits\n",
      "[CV] bagging_fraction=1.0, colsample_bytree=0.01, feature_fraction=1.0, learning_rate=1.0, max_delta_step=12, max_depth=50, min_child_weight=1, n_estimators=1000, reg_alpha=1e-09, reg_lambda=0.07841213466735547, subsample=0.7621677436118618 \n",
      "[CV] bagging_fraction=1.0, colsample_bytree=0.01, feature_fraction=1.0, learning_rate=1.0, max_delta_step=12, max_depth=50, min_child_weight=1, n_estimators=1000, reg_alpha=1e-09, reg_lambda=0.07841213466735547, subsample=0.7621677436118618 \n",
      "[CV]  bagging_fraction=1.0, colsample_bytree=0.01, feature_fraction=1.0, learning_rate=1.0, max_delta_step=12, max_depth=50, min_child_weight=1, n_estimators=1000, reg_alpha=1e-09, reg_lambda=0.07841213466735547, subsample=0.7621677436118618, score=-14.945287534983855, total=   6.8s\n",
      "[CV]  bagging_fraction=1.0, colsample_bytree=0.01, feature_fraction=1.0, learning_rate=1.0, max_delta_step=12, max_depth=50, min_child_weight=1, n_estimators=1000, reg_alpha=1e-09, reg_lambda=0.07841213466735547, subsample=0.7621677436118618, score=-15.175057023313716, total=   6.9s\n"
     ]
    },
    {
     "name": "stderr",
     "output_type": "stream",
     "text": [
      "[Parallel(n_jobs=4)]: Done   2 out of   2 | elapsed:    7.0s remaining:    0.0s\n",
      "[Parallel(n_jobs=4)]: Done   2 out of   2 | elapsed:    7.0s finished\n"
     ]
    },
    {
     "name": "stdout",
     "output_type": "stream",
     "text": [
      "Fitting 2 folds for each of 1 candidates, totalling 2 fits\n",
      "[CV] bagging_fraction=0.9757341837766084, colsample_bytree=0.46530045368192485, feature_fraction=0.669167604715534, learning_rate=0.12400895543138091, max_delta_step=7, max_depth=38, min_child_weight=2, n_estimators=662, reg_alpha=4.829242063708429e-07, reg_lambda=0.0031055270175738385, subsample=0.49153252517471135 \n",
      "[CV] bagging_fraction=0.9757341837766084, colsample_bytree=0.46530045368192485, feature_fraction=0.669167604715534, learning_rate=0.12400895543138091, max_delta_step=7, max_depth=38, min_child_weight=2, n_estimators=662, reg_alpha=4.829242063708429e-07, reg_lambda=0.0031055270175738385, subsample=0.49153252517471135 \n",
      "[CV]  bagging_fraction=0.9757341837766084, colsample_bytree=0.46530045368192485, feature_fraction=0.669167604715534, learning_rate=0.12400895543138091, max_delta_step=7, max_depth=38, min_child_weight=2, n_estimators=662, reg_alpha=4.829242063708429e-07, reg_lambda=0.0031055270175738385, subsample=0.49153252517471135, score=-13.082637503677363, total=   3.5s\n",
      "[CV]  bagging_fraction=0.9757341837766084, colsample_bytree=0.46530045368192485, feature_fraction=0.669167604715534, learning_rate=0.12400895543138091, max_delta_step=7, max_depth=38, min_child_weight=2, n_estimators=662, reg_alpha=4.829242063708429e-07, reg_lambda=0.0031055270175738385, subsample=0.49153252517471135, score=-12.727807765024135, total=   4.0s\n"
     ]
    },
    {
     "name": "stderr",
     "output_type": "stream",
     "text": [
      "[Parallel(n_jobs=4)]: Done   2 out of   2 | elapsed:    4.1s remaining:    0.0s\n",
      "[Parallel(n_jobs=4)]: Done   2 out of   2 | elapsed:    4.1s finished\n"
     ]
    },
    {
     "name": "stdout",
     "output_type": "stream",
     "text": [
      "Fitting 2 folds for each of 1 candidates, totalling 2 fits\n",
      "[CV] bagging_fraction=1.0, colsample_bytree=0.01, feature_fraction=1.0, learning_rate=1.0, max_delta_step=20, max_depth=50, min_child_weight=3, n_estimators=894, reg_alpha=1.0, reg_lambda=1.3206357053332811e-06, subsample=1.0 \n",
      "[CV] bagging_fraction=1.0, colsample_bytree=0.01, feature_fraction=1.0, learning_rate=1.0, max_delta_step=20, max_depth=50, min_child_weight=3, n_estimators=894, reg_alpha=1.0, reg_lambda=1.3206357053332811e-06, subsample=1.0 \n",
      "[CV]  bagging_fraction=1.0, colsample_bytree=0.01, feature_fraction=1.0, learning_rate=1.0, max_delta_step=20, max_depth=50, min_child_weight=3, n_estimators=894, reg_alpha=1.0, reg_lambda=1.3206357053332811e-06, subsample=1.0, score=-15.600906806934487, total=   5.7s\n",
      "[CV]  bagging_fraction=1.0, colsample_bytree=0.01, feature_fraction=1.0, learning_rate=1.0, max_delta_step=20, max_depth=50, min_child_weight=3, n_estimators=894, reg_alpha=1.0, reg_lambda=1.3206357053332811e-06, subsample=1.0, score=-14.846200648707523, total=   6.3s\n"
     ]
    },
    {
     "name": "stderr",
     "output_type": "stream",
     "text": [
      "[Parallel(n_jobs=4)]: Done   2 out of   2 | elapsed:    6.4s remaining:    0.0s\n",
      "[Parallel(n_jobs=4)]: Done   2 out of   2 | elapsed:    6.4s finished\n"
     ]
    },
    {
     "name": "stdout",
     "output_type": "stream",
     "text": [
      "Fitting 2 folds for each of 1 candidates, totalling 2 fits\n",
      "[CV] bagging_fraction=1.0, colsample_bytree=0.01, feature_fraction=0.6276794992367489, learning_rate=1.0, max_delta_step=20, max_depth=30, min_child_weight=3, n_estimators=1000, reg_alpha=1.0, reg_lambda=15.783447160629107, subsample=0.4339232962134005 \n",
      "[CV] bagging_fraction=1.0, colsample_bytree=0.01, feature_fraction=0.6276794992367489, learning_rate=1.0, max_delta_step=20, max_depth=30, min_child_weight=3, n_estimators=1000, reg_alpha=1.0, reg_lambda=15.783447160629107, subsample=0.4339232962134005 \n",
      "[CV]  bagging_fraction=1.0, colsample_bytree=0.01, feature_fraction=0.6276794992367489, learning_rate=1.0, max_delta_step=20, max_depth=30, min_child_weight=3, n_estimators=1000, reg_alpha=1.0, reg_lambda=15.783447160629107, subsample=0.4339232962134005, score=-12.425006799450301, total=   5.1s\n",
      "[CV]  bagging_fraction=1.0, colsample_bytree=0.01, feature_fraction=0.6276794992367489, learning_rate=1.0, max_delta_step=20, max_depth=30, min_child_weight=3, n_estimators=1000, reg_alpha=1.0, reg_lambda=15.783447160629107, subsample=0.4339232962134005, score=-12.117544210949132, total=   5.9s\n"
     ]
    },
    {
     "name": "stderr",
     "output_type": "stream",
     "text": [
      "[Parallel(n_jobs=4)]: Done   2 out of   2 | elapsed:    6.0s remaining:    0.0s\n",
      "[Parallel(n_jobs=4)]: Done   2 out of   2 | elapsed:    6.0s finished\n"
     ]
    },
    {
     "name": "stdout",
     "output_type": "stream",
     "text": [
      "Fitting 2 folds for each of 1 candidates, totalling 2 fits\n",
      "[CV] bagging_fraction=1.0, colsample_bytree=0.627682739883648, feature_fraction=1.0, learning_rate=1.0, max_delta_step=20, max_depth=36, min_child_weight=2, n_estimators=982, reg_alpha=0.7327281330229588, reg_lambda=0.0008672906327364588, subsample=1.0 \n",
      "[CV] bagging_fraction=1.0, colsample_bytree=0.627682739883648, feature_fraction=1.0, learning_rate=1.0, max_delta_step=20, max_depth=36, min_child_weight=2, n_estimators=982, reg_alpha=0.7327281330229588, reg_lambda=0.0008672906327364588, subsample=1.0 \n",
      "[CV]  bagging_fraction=1.0, colsample_bytree=0.627682739883648, feature_fraction=1.0, learning_rate=1.0, max_delta_step=20, max_depth=36, min_child_weight=2, n_estimators=982, reg_alpha=0.7327281330229588, reg_lambda=0.0008672906327364588, subsample=1.0, score=-15.072338841393286, total=   6.0s\n",
      "[CV]  bagging_fraction=1.0, colsample_bytree=0.627682739883648, feature_fraction=1.0, learning_rate=1.0, max_delta_step=20, max_depth=36, min_child_weight=2, n_estimators=982, reg_alpha=0.7327281330229588, reg_lambda=0.0008672906327364588, subsample=1.0, score=-15.317877439265198, total=   6.7s\n"
     ]
    },
    {
     "name": "stderr",
     "output_type": "stream",
     "text": [
      "[Parallel(n_jobs=4)]: Done   2 out of   2 | elapsed:    6.8s remaining:    0.0s\n",
      "[Parallel(n_jobs=4)]: Done   2 out of   2 | elapsed:    6.8s finished\n"
     ]
    },
    {
     "name": "stdout",
     "output_type": "stream",
     "text": [
      "Fitting 2 folds for each of 1 candidates, totalling 2 fits\n",
      "[CV] bagging_fraction=1.0, colsample_bytree=0.01, feature_fraction=1.0, learning_rate=1.0, max_delta_step=18, max_depth=0, min_child_weight=5, n_estimators=1000, reg_alpha=0.27035800790756614, reg_lambda=1e-09, subsample=0.40718480538426777 \n",
      "[CV] bagging_fraction=1.0, colsample_bytree=0.01, feature_fraction=1.0, learning_rate=1.0, max_delta_step=18, max_depth=0, min_child_weight=5, n_estimators=1000, reg_alpha=0.27035800790756614, reg_lambda=1e-09, subsample=0.40718480538426777 \n",
      "[CV]  bagging_fraction=1.0, colsample_bytree=0.01, feature_fraction=1.0, learning_rate=1.0, max_delta_step=18, max_depth=0, min_child_weight=5, n_estimators=1000, reg_alpha=0.27035800790756614, reg_lambda=1e-09, subsample=0.40718480538426777, score=-15.411037735763939, total=   6.5s\n",
      "[CV]  bagging_fraction=1.0, colsample_bytree=0.01, feature_fraction=1.0, learning_rate=1.0, max_delta_step=18, max_depth=0, min_child_weight=5, n_estimators=1000, reg_alpha=0.27035800790756614, reg_lambda=1e-09, subsample=0.40718480538426777, score=-15.141331000920381, total=   6.9s\n"
     ]
    },
    {
     "name": "stderr",
     "output_type": "stream",
     "text": [
      "[Parallel(n_jobs=4)]: Done   2 out of   2 | elapsed:    7.0s remaining:    0.0s\n",
      "[Parallel(n_jobs=4)]: Done   2 out of   2 | elapsed:    7.0s finished\n"
     ]
    },
    {
     "name": "stdout",
     "output_type": "stream",
     "text": [
      "Fitting 2 folds for each of 1 candidates, totalling 2 fits\n",
      "[CV] bagging_fraction=0.7515871245269327, colsample_bytree=0.5025706585773114, feature_fraction=0.5428954424419918, learning_rate=0.3623732394655187, max_delta_step=18, max_depth=36, min_child_weight=2, n_estimators=684, reg_alpha=1.3395203308700802e-06, reg_lambda=0.04237872946886635, subsample=0.48731561581790017 \n",
      "[CV] bagging_fraction=0.7515871245269327, colsample_bytree=0.5025706585773114, feature_fraction=0.5428954424419918, learning_rate=0.3623732394655187, max_delta_step=18, max_depth=36, min_child_weight=2, n_estimators=684, reg_alpha=1.3395203308700802e-06, reg_lambda=0.04237872946886635, subsample=0.48731561581790017 \n",
      "[CV]  bagging_fraction=0.7515871245269327, colsample_bytree=0.5025706585773114, feature_fraction=0.5428954424419918, learning_rate=0.3623732394655187, max_delta_step=18, max_depth=36, min_child_weight=2, n_estimators=684, reg_alpha=1.3395203308700802e-06, reg_lambda=0.04237872946886635, subsample=0.48731561581790017, score=-9.945488308817735, total=   3.5s\n",
      "[CV]  bagging_fraction=0.7515871245269327, colsample_bytree=0.5025706585773114, feature_fraction=0.5428954424419918, learning_rate=0.3623732394655187, max_delta_step=18, max_depth=36, min_child_weight=2, n_estimators=684, reg_alpha=1.3395203308700802e-06, reg_lambda=0.04237872946886635, subsample=0.48731561581790017, score=-9.942176966555287, total=   3.7s\n"
     ]
    },
    {
     "name": "stderr",
     "output_type": "stream",
     "text": [
      "[Parallel(n_jobs=4)]: Done   2 out of   2 | elapsed:    3.8s remaining:    0.0s\n",
      "[Parallel(n_jobs=4)]: Done   2 out of   2 | elapsed:    3.8s finished\n"
     ]
    },
    {
     "name": "stdout",
     "output_type": "stream",
     "text": [
      "Fitting 2 folds for each of 1 candidates, totalling 2 fits\n",
      "[CV] bagging_fraction=0.8706954408894295, colsample_bytree=1.0, feature_fraction=0.4847418212587622, learning_rate=1.0, max_delta_step=20, max_depth=50, min_child_weight=5, n_estimators=523, reg_alpha=2.631179968820358e-07, reg_lambda=7.864528129378356e-09, subsample=0.34247337682452894 \n",
      "[CV] bagging_fraction=0.8706954408894295, colsample_bytree=1.0, feature_fraction=0.4847418212587622, learning_rate=1.0, max_delta_step=20, max_depth=50, min_child_weight=5, n_estimators=523, reg_alpha=2.631179968820358e-07, reg_lambda=7.864528129378356e-09, subsample=0.34247337682452894 \n",
      "[CV]  bagging_fraction=0.8706954408894295, colsample_bytree=1.0, feature_fraction=0.4847418212587622, learning_rate=1.0, max_delta_step=20, max_depth=50, min_child_weight=5, n_estimators=523, reg_alpha=2.631179968820358e-07, reg_lambda=7.864528129378356e-09, subsample=0.34247337682452894, score=-16.58322337700162, total=   2.4s\n",
      "[CV]  bagging_fraction=0.8706954408894295, colsample_bytree=1.0, feature_fraction=0.4847418212587622, learning_rate=1.0, max_delta_step=20, max_depth=50, min_child_weight=5, n_estimators=523, reg_alpha=2.631179968820358e-07, reg_lambda=7.864528129378356e-09, subsample=0.34247337682452894, score=-16.59089571120439, total=   3.0s\n"
     ]
    },
    {
     "name": "stderr",
     "output_type": "stream",
     "text": [
      "[Parallel(n_jobs=4)]: Done   2 out of   2 | elapsed:    3.1s remaining:    0.0s\n",
      "[Parallel(n_jobs=4)]: Done   2 out of   2 | elapsed:    3.1s finished\n"
     ]
    },
    {
     "name": "stdout",
     "output_type": "stream",
     "text": [
      "Fitting 2 folds for each of 1 candidates, totalling 2 fits\n",
      "[CV] bagging_fraction=0.57806753608262, colsample_bytree=0.3946112995831112, feature_fraction=0.5564180707122061, learning_rate=0.3265500365827108, max_delta_step=16, max_depth=37, min_child_weight=2, n_estimators=684, reg_alpha=1.416406873501505e-05, reg_lambda=3.040379546141089, subsample=0.5079108688911033 \n",
      "[CV] bagging_fraction=0.57806753608262, colsample_bytree=0.3946112995831112, feature_fraction=0.5564180707122061, learning_rate=0.3265500365827108, max_delta_step=16, max_depth=37, min_child_weight=2, n_estimators=684, reg_alpha=1.416406873501505e-05, reg_lambda=3.040379546141089, subsample=0.5079108688911033 \n",
      "[CV]  bagging_fraction=0.57806753608262, colsample_bytree=0.3946112995831112, feature_fraction=0.5564180707122061, learning_rate=0.3265500365827108, max_delta_step=16, max_depth=37, min_child_weight=2, n_estimators=684, reg_alpha=1.416406873501505e-05, reg_lambda=3.040379546141089, subsample=0.5079108688911033, score=-10.101651593597593, total=   3.0s\n",
      "[CV]  bagging_fraction=0.57806753608262, colsample_bytree=0.3946112995831112, feature_fraction=0.5564180707122061, learning_rate=0.3265500365827108, max_delta_step=16, max_depth=37, min_child_weight=2, n_estimators=684, reg_alpha=1.416406873501505e-05, reg_lambda=3.040379546141089, subsample=0.5079108688911033, score=-10.330974276029606, total=   3.7s\n"
     ]
    },
    {
     "name": "stderr",
     "output_type": "stream",
     "text": [
      "[Parallel(n_jobs=4)]: Done   2 out of   2 | elapsed:    3.8s remaining:    0.0s\n",
      "[Parallel(n_jobs=4)]: Done   2 out of   2 | elapsed:    3.8s finished\n"
     ]
    },
    {
     "name": "stdout",
     "output_type": "stream",
     "text": [
      "Fitting 2 folds for each of 1 candidates, totalling 2 fits\n",
      "[CV] bagging_fraction=0.7712594102061191, colsample_bytree=0.9817822771143622, feature_fraction=0.553114888789379, learning_rate=1.0, max_delta_step=20, max_depth=34, min_child_weight=2, n_estimators=682, reg_alpha=1.3559008610068425e-09, reg_lambda=1.0173421638312725e-09, subsample=0.3100524067850317 \n",
      "[CV] bagging_fraction=0.7712594102061191, colsample_bytree=0.9817822771143622, feature_fraction=0.553114888789379, learning_rate=1.0, max_delta_step=20, max_depth=34, min_child_weight=2, n_estimators=682, reg_alpha=1.3559008610068425e-09, reg_lambda=1.0173421638312725e-09, subsample=0.3100524067850317 \n",
      "[CV]  bagging_fraction=0.7712594102061191, colsample_bytree=0.9817822771143622, feature_fraction=0.553114888789379, learning_rate=1.0, max_delta_step=20, max_depth=34, min_child_weight=2, n_estimators=682, reg_alpha=1.3559008610068425e-09, reg_lambda=1.0173421638312725e-09, subsample=0.3100524067850317, score=-16.227683489477258, total=   3.5s\n",
      "[CV]  bagging_fraction=0.7712594102061191, colsample_bytree=0.9817822771143622, feature_fraction=0.553114888789379, learning_rate=1.0, max_delta_step=20, max_depth=34, min_child_weight=2, n_estimators=682, reg_alpha=1.3559008610068425e-09, reg_lambda=1.0173421638312725e-09, subsample=0.3100524067850317, score=-16.33267009504493, total=   3.8s\n"
     ]
    },
    {
     "name": "stderr",
     "output_type": "stream",
     "text": [
      "[Parallel(n_jobs=4)]: Done   2 out of   2 | elapsed:    3.9s remaining:    0.0s\n",
      "[Parallel(n_jobs=4)]: Done   2 out of   2 | elapsed:    3.9s finished\n"
     ]
    },
    {
     "name": "stdout",
     "output_type": "stream",
     "text": [
      "Fitting 2 folds for each of 1 candidates, totalling 2 fits\n",
      "[CV] bagging_fraction=0.6108241110731782, colsample_bytree=0.01, feature_fraction=0.648924274457173, learning_rate=0.05379149625696373, max_delta_step=12, max_depth=12, min_child_weight=3, n_estimators=918, reg_alpha=0.0010828077688550567, reg_lambda=2.2443097739596556e-05, subsample=0.6907662792149267 \n",
      "[CV] bagging_fraction=0.6108241110731782, colsample_bytree=0.01, feature_fraction=0.648924274457173, learning_rate=0.05379149625696373, max_delta_step=12, max_depth=12, min_child_weight=3, n_estimators=918, reg_alpha=0.0010828077688550567, reg_lambda=2.2443097739596556e-05, subsample=0.6907662792149267 \n",
      "[CV]  bagging_fraction=0.6108241110731782, colsample_bytree=0.01, feature_fraction=0.648924274457173, learning_rate=0.05379149625696373, max_delta_step=12, max_depth=12, min_child_weight=3, n_estimators=918, reg_alpha=0.0010828077688550567, reg_lambda=2.2443097739596556e-05, subsample=0.6907662792149267, score=-16.763240352925628, total=   5.7s\n",
      "[CV]  bagging_fraction=0.6108241110731782, colsample_bytree=0.01, feature_fraction=0.648924274457173, learning_rate=0.05379149625696373, max_delta_step=12, max_depth=12, min_child_weight=3, n_estimators=918, reg_alpha=0.0010828077688550567, reg_lambda=2.2443097739596556e-05, subsample=0.6907662792149267, score=-16.520600063507597, total=   5.8s\n"
     ]
    },
    {
     "name": "stderr",
     "output_type": "stream",
     "text": [
      "[Parallel(n_jobs=4)]: Done   2 out of   2 | elapsed:    5.9s remaining:    0.0s\n",
      "[Parallel(n_jobs=4)]: Done   2 out of   2 | elapsed:    5.9s finished\n"
     ]
    },
    {
     "name": "stdout",
     "output_type": "stream",
     "text": [
      "Fitting 2 folds for each of 1 candidates, totalling 2 fits\n",
      "[CV] bagging_fraction=0.6736124570060825, colsample_bytree=0.06673292202656232, feature_fraction=0.5593201315919005, learning_rate=0.3328582241913494, max_delta_step=19, max_depth=37, min_child_weight=1, n_estimators=682, reg_alpha=2.22555212542661e-05, reg_lambda=0.05885125539922897, subsample=0.5254455113055715 \n",
      "[CV] bagging_fraction=0.6736124570060825, colsample_bytree=0.06673292202656232, feature_fraction=0.5593201315919005, learning_rate=0.3328582241913494, max_delta_step=19, max_depth=37, min_child_weight=1, n_estimators=682, reg_alpha=2.22555212542661e-05, reg_lambda=0.05885125539922897, subsample=0.5254455113055715 \n",
      "[CV]  bagging_fraction=0.6736124570060825, colsample_bytree=0.06673292202656232, feature_fraction=0.5593201315919005, learning_rate=0.3328582241913494, max_delta_step=19, max_depth=37, min_child_weight=1, n_estimators=682, reg_alpha=2.22555212542661e-05, reg_lambda=0.05885125539922897, subsample=0.5254455113055715, score=-9.934714287241965, total=   3.4s\n",
      "[CV]  bagging_fraction=0.6736124570060825, colsample_bytree=0.06673292202656232, feature_fraction=0.5593201315919005, learning_rate=0.3328582241913494, max_delta_step=19, max_depth=37, min_child_weight=1, n_estimators=682, reg_alpha=2.22555212542661e-05, reg_lambda=0.05885125539922897, subsample=0.5254455113055715, score=-10.116897998684731, total=   3.7s\n"
     ]
    },
    {
     "name": "stderr",
     "output_type": "stream",
     "text": [
      "[Parallel(n_jobs=4)]: Done   2 out of   2 | elapsed:    3.9s remaining:    0.0s\n",
      "[Parallel(n_jobs=4)]: Done   2 out of   2 | elapsed:    3.9s finished\n"
     ]
    },
    {
     "name": "stdout",
     "output_type": "stream",
     "text": [
      "Fitting 2 folds for each of 1 candidates, totalling 2 fits\n",
      "[CV] bagging_fraction=0.28260058632001295, colsample_bytree=0.6145765449373329, feature_fraction=0.5646673362126229, learning_rate=0.9743984510099306, max_delta_step=20, max_depth=36, min_child_weight=2, n_estimators=677, reg_alpha=2.451432427921235e-06, reg_lambda=1.8199716001205322e-09, subsample=0.8732746280486874 \n",
      "[CV] bagging_fraction=0.28260058632001295, colsample_bytree=0.6145765449373329, feature_fraction=0.5646673362126229, learning_rate=0.9743984510099306, max_delta_step=20, max_depth=36, min_child_weight=2, n_estimators=677, reg_alpha=2.451432427921235e-06, reg_lambda=1.8199716001205322e-09, subsample=0.8732746280486874 \n",
      "[CV]  bagging_fraction=0.28260058632001295, colsample_bytree=0.6145765449373329, feature_fraction=0.5646673362126229, learning_rate=0.9743984510099306, max_delta_step=20, max_depth=36, min_child_weight=2, n_estimators=677, reg_alpha=2.451432427921235e-06, reg_lambda=1.8199716001205322e-09, subsample=0.8732746280486874, score=-15.98456518540473, total=   3.4s\n",
      "[CV]  bagging_fraction=0.28260058632001295, colsample_bytree=0.6145765449373329, feature_fraction=0.5646673362126229, learning_rate=0.9743984510099306, max_delta_step=20, max_depth=36, min_child_weight=2, n_estimators=677, reg_alpha=2.451432427921235e-06, reg_lambda=1.8199716001205322e-09, subsample=0.8732746280486874, score=-15.665708600596027, total=   3.7s\n"
     ]
    },
    {
     "name": "stderr",
     "output_type": "stream",
     "text": [
      "[Parallel(n_jobs=4)]: Done   2 out of   2 | elapsed:    3.8s remaining:    0.0s\n",
      "[Parallel(n_jobs=4)]: Done   2 out of   2 | elapsed:    3.8s finished\n"
     ]
    },
    {
     "name": "stdout",
     "output_type": "stream",
     "text": [
      "Fitting 2 folds for each of 1 candidates, totalling 2 fits\n",
      "[CV] bagging_fraction=1.0, colsample_bytree=1.0, feature_fraction=0.4603227873319063, learning_rate=0.6669559605156336, max_delta_step=16, max_depth=35, min_child_weight=5, n_estimators=490, reg_alpha=0.0011234263323334152, reg_lambda=0.21473337923513636, subsample=0.9891897372947357 \n",
      "[CV] bagging_fraction=1.0, colsample_bytree=1.0, feature_fraction=0.4603227873319063, learning_rate=0.6669559605156336, max_delta_step=16, max_depth=35, min_child_weight=5, n_estimators=490, reg_alpha=0.0011234263323334152, reg_lambda=0.21473337923513636, subsample=0.9891897372947357 \n",
      "[CV]  bagging_fraction=1.0, colsample_bytree=1.0, feature_fraction=0.4603227873319063, learning_rate=0.6669559605156336, max_delta_step=16, max_depth=35, min_child_weight=5, n_estimators=490, reg_alpha=0.0011234263323334152, reg_lambda=0.21473337923513636, subsample=0.9891897372947357, score=-12.395842910752268, total=   2.3s\n",
      "[CV]  bagging_fraction=1.0, colsample_bytree=1.0, feature_fraction=0.4603227873319063, learning_rate=0.6669559605156336, max_delta_step=16, max_depth=35, min_child_weight=5, n_estimators=490, reg_alpha=0.0011234263323334152, reg_lambda=0.21473337923513636, subsample=0.9891897372947357, score=-12.363306706667956, total=   2.7s\n"
     ]
    },
    {
     "name": "stderr",
     "output_type": "stream",
     "text": [
      "[Parallel(n_jobs=4)]: Done   2 out of   2 | elapsed:    2.9s remaining:    0.0s\n",
      "[Parallel(n_jobs=4)]: Done   2 out of   2 | elapsed:    2.9s finished\n"
     ]
    },
    {
     "name": "stdout",
     "output_type": "stream",
     "text": [
      "Fitting 2 folds for each of 1 candidates, totalling 2 fits\n",
      "[CV] bagging_fraction=0.9258333353718824, colsample_bytree=0.7381457297770417, feature_fraction=0.561858329986831, learning_rate=0.2694629661474131, max_delta_step=13, max_depth=36, min_child_weight=1, n_estimators=685, reg_alpha=1.215015691539402e-05, reg_lambda=0.10350128425283933, subsample=0.46588138780476757 \n",
      "[CV] bagging_fraction=0.9258333353718824, colsample_bytree=0.7381457297770417, feature_fraction=0.561858329986831, learning_rate=0.2694629661474131, max_delta_step=13, max_depth=36, min_child_weight=1, n_estimators=685, reg_alpha=1.215015691539402e-05, reg_lambda=0.10350128425283933, subsample=0.46588138780476757 \n",
      "[CV]  bagging_fraction=0.9258333353718824, colsample_bytree=0.7381457297770417, feature_fraction=0.561858329986831, learning_rate=0.2694629661474131, max_delta_step=13, max_depth=36, min_child_weight=1, n_estimators=685, reg_alpha=1.215015691539402e-05, reg_lambda=0.10350128425283933, subsample=0.46588138780476757, score=-9.889658625891839, total=   3.0s\n",
      "[CV]  bagging_fraction=0.9258333353718824, colsample_bytree=0.7381457297770417, feature_fraction=0.561858329986831, learning_rate=0.2694629661474131, max_delta_step=13, max_depth=36, min_child_weight=1, n_estimators=685, reg_alpha=1.215015691539402e-05, reg_lambda=0.10350128425283933, subsample=0.46588138780476757, score=-10.093694890761006, total=   3.7s\n"
     ]
    },
    {
     "name": "stderr",
     "output_type": "stream",
     "text": [
      "[Parallel(n_jobs=4)]: Done   2 out of   2 | elapsed:    3.8s remaining:    0.0s\n",
      "[Parallel(n_jobs=4)]: Done   2 out of   2 | elapsed:    3.8s finished\n"
     ]
    },
    {
     "name": "stdout",
     "output_type": "stream",
     "text": [
      "Fitting 2 folds for each of 1 candidates, totalling 2 fits\n",
      "[CV] bagging_fraction=0.2818649342239163, colsample_bytree=0.9666601086062534, feature_fraction=0.587238046903989, learning_rate=0.0637616757463479, max_delta_step=12, max_depth=0, min_child_weight=5, n_estimators=886, reg_alpha=2.4754867824456792e-08, reg_lambda=0.0015357015550485698, subsample=0.20389193448483148 \n",
      "[CV] bagging_fraction=0.2818649342239163, colsample_bytree=0.9666601086062534, feature_fraction=0.587238046903989, learning_rate=0.0637616757463479, max_delta_step=12, max_depth=0, min_child_weight=5, n_estimators=886, reg_alpha=2.4754867824456792e-08, reg_lambda=0.0015357015550485698, subsample=0.20389193448483148 \n",
      "[CV]  bagging_fraction=0.2818649342239163, colsample_bytree=0.9666601086062534, feature_fraction=0.587238046903989, learning_rate=0.0637616757463479, max_delta_step=12, max_depth=0, min_child_weight=5, n_estimators=886, reg_alpha=2.4754867824456792e-08, reg_lambda=0.0015357015550485698, subsample=0.20389193448483148, score=-15.461571203871951, total=   4.5s\n",
      "[CV]  bagging_fraction=0.2818649342239163, colsample_bytree=0.9666601086062534, feature_fraction=0.587238046903989, learning_rate=0.0637616757463479, max_delta_step=12, max_depth=0, min_child_weight=5, n_estimators=886, reg_alpha=2.4754867824456792e-08, reg_lambda=0.0015357015550485698, subsample=0.20389193448483148, score=-15.288630454983016, total=   4.9s\n"
     ]
    },
    {
     "name": "stderr",
     "output_type": "stream",
     "text": [
      "[Parallel(n_jobs=4)]: Done   2 out of   2 | elapsed:    5.1s remaining:    0.0s\n",
      "[Parallel(n_jobs=4)]: Done   2 out of   2 | elapsed:    5.1s finished\n"
     ]
    },
    {
     "name": "stdout",
     "output_type": "stream",
     "text": [
      "Fitting 2 folds for each of 1 candidates, totalling 2 fits\n",
      "[CV] bagging_fraction=1.0, colsample_bytree=0.7860432140579856, feature_fraction=0.6152797002621475, learning_rate=1.0, max_delta_step=14, max_depth=6, min_child_weight=5, n_estimators=894, reg_alpha=0.0009451393784159883, reg_lambda=6.498711538013117e-05, subsample=0.30934794410856636 \n",
      "[CV] bagging_fraction=1.0, colsample_bytree=0.7860432140579856, feature_fraction=0.6152797002621475, learning_rate=1.0, max_delta_step=14, max_depth=6, min_child_weight=5, n_estimators=894, reg_alpha=0.0009451393784159883, reg_lambda=6.498711538013117e-05, subsample=0.30934794410856636 \n",
      "[CV]  bagging_fraction=1.0, colsample_bytree=0.7860432140579856, feature_fraction=0.6152797002621475, learning_rate=1.0, max_delta_step=14, max_depth=6, min_child_weight=5, n_estimators=894, reg_alpha=0.0009451393784159883, reg_lambda=6.498711538013117e-05, subsample=0.30934794410856636, score=-15.092302057461637, total=   4.5s\n",
      "[CV]  bagging_fraction=1.0, colsample_bytree=0.7860432140579856, feature_fraction=0.6152797002621475, learning_rate=1.0, max_delta_step=14, max_depth=6, min_child_weight=5, n_estimators=894, reg_alpha=0.0009451393784159883, reg_lambda=6.498711538013117e-05, subsample=0.30934794410856636, score=-15.363089650106637, total=   5.5s\n"
     ]
    },
    {
     "name": "stderr",
     "output_type": "stream",
     "text": [
      "[Parallel(n_jobs=4)]: Done   2 out of   2 | elapsed:    5.6s remaining:    0.0s\n",
      "[Parallel(n_jobs=4)]: Done   2 out of   2 | elapsed:    5.6s finished\n"
     ]
    },
    {
     "name": "stdout",
     "output_type": "stream",
     "text": [
      "Fitting 2 folds for each of 1 candidates, totalling 2 fits\n",
      "[CV] bagging_fraction=0.48538125392269943, colsample_bytree=0.15462318747615372, feature_fraction=0.5875070893252489, learning_rate=0.014399711473591243, max_delta_step=4, max_depth=4, min_child_weight=4, n_estimators=877, reg_alpha=1.0, reg_lambda=4.5038498029326056e-05, subsample=0.6904607050864845 \n",
      "[CV] bagging_fraction=0.48538125392269943, colsample_bytree=0.15462318747615372, feature_fraction=0.5875070893252489, learning_rate=0.014399711473591243, max_delta_step=4, max_depth=4, min_child_weight=4, n_estimators=877, reg_alpha=1.0, reg_lambda=4.5038498029326056e-05, subsample=0.6904607050864845 \n",
      "[CV]  bagging_fraction=0.48538125392269943, colsample_bytree=0.15462318747615372, feature_fraction=0.5875070893252489, learning_rate=0.014399711473591243, max_delta_step=4, max_depth=4, min_child_weight=4, n_estimators=877, reg_alpha=1.0, reg_lambda=4.5038498029326056e-05, subsample=0.6904607050864845, score=-51.934582980958254, total=   4.7s\n",
      "[CV]  bagging_fraction=0.48538125392269943, colsample_bytree=0.15462318747615372, feature_fraction=0.5875070893252489, learning_rate=0.014399711473591243, max_delta_step=4, max_depth=4, min_child_weight=4, n_estimators=877, reg_alpha=1.0, reg_lambda=4.5038498029326056e-05, subsample=0.6904607050864845, score=-51.013922979278306, total=   4.7s\n"
     ]
    },
    {
     "name": "stderr",
     "output_type": "stream",
     "text": [
      "[Parallel(n_jobs=4)]: Done   2 out of   2 | elapsed:    4.8s remaining:    0.0s\n",
      "[Parallel(n_jobs=4)]: Done   2 out of   2 | elapsed:    4.8s finished\n"
     ]
    },
    {
     "name": "stdout",
     "output_type": "stream",
     "text": [
      "Fitting 2 folds for each of 1 candidates, totalling 2 fits\n",
      "[CV] bagging_fraction=0.5723836218019955, colsample_bytree=0.3528296456779454, feature_fraction=0.6782343029090637, learning_rate=0.2937622803122903, max_delta_step=14, max_depth=9, min_child_weight=4, n_estimators=1000, reg_alpha=0.021037957260594337, reg_lambda=0.029579962719700672, subsample=0.28779991831641477 \n",
      "[CV] bagging_fraction=0.5723836218019955, colsample_bytree=0.3528296456779454, feature_fraction=0.6782343029090637, learning_rate=0.2937622803122903, max_delta_step=14, max_depth=9, min_child_weight=4, n_estimators=1000, reg_alpha=0.021037957260594337, reg_lambda=0.029579962719700672, subsample=0.28779991831641477 \n",
      "[CV]  bagging_fraction=0.5723836218019955, colsample_bytree=0.3528296456779454, feature_fraction=0.6782343029090637, learning_rate=0.2937622803122903, max_delta_step=14, max_depth=9, min_child_weight=4, n_estimators=1000, reg_alpha=0.021037957260594337, reg_lambda=0.029579962719700672, subsample=0.28779991831641477, score=-8.907311767483995, total=   5.6s\n",
      "[CV]  bagging_fraction=0.5723836218019955, colsample_bytree=0.3528296456779454, feature_fraction=0.6782343029090637, learning_rate=0.2937622803122903, max_delta_step=14, max_depth=9, min_child_weight=4, n_estimators=1000, reg_alpha=0.021037957260594337, reg_lambda=0.029579962719700672, subsample=0.28779991831641477, score=-9.31147414889208, total=   5.6s\n"
     ]
    },
    {
     "name": "stderr",
     "output_type": "stream",
     "text": [
      "[Parallel(n_jobs=4)]: Done   2 out of   2 | elapsed:    5.7s remaining:    0.0s\n",
      "[Parallel(n_jobs=4)]: Done   2 out of   2 | elapsed:    5.7s finished\n"
     ]
    },
    {
     "name": "stdout",
     "output_type": "stream",
     "text": [
      "Fitting 2 folds for each of 1 candidates, totalling 2 fits\n",
      "[CV] bagging_fraction=0.8764389667090459, colsample_bytree=0.2614840174965455, feature_fraction=0.5858071673146048, learning_rate=0.8111458195041246, max_delta_step=18, max_depth=39, min_child_weight=2, n_estimators=666, reg_alpha=0.5008370673740354, reg_lambda=165.1112198087483, subsample=0.3394177615235148 \n",
      "[CV] bagging_fraction=0.8764389667090459, colsample_bytree=0.2614840174965455, feature_fraction=0.5858071673146048, learning_rate=0.8111458195041246, max_delta_step=18, max_depth=39, min_child_weight=2, n_estimators=666, reg_alpha=0.5008370673740354, reg_lambda=165.1112198087483, subsample=0.3394177615235148 \n",
      "[CV]  bagging_fraction=0.8764389667090459, colsample_bytree=0.2614840174965455, feature_fraction=0.5858071673146048, learning_rate=0.8111458195041246, max_delta_step=18, max_depth=39, min_child_weight=2, n_estimators=666, reg_alpha=0.5008370673740354, reg_lambda=165.1112198087483, subsample=0.3394177615235148, score=-10.039286065166227, total=   3.9s\n",
      "[CV]  bagging_fraction=0.8764389667090459, colsample_bytree=0.2614840174965455, feature_fraction=0.5858071673146048, learning_rate=0.8111458195041246, max_delta_step=18, max_depth=39, min_child_weight=2, n_estimators=666, reg_alpha=0.5008370673740354, reg_lambda=165.1112198087483, subsample=0.3394177615235148, score=-10.232960230286404, total=   4.1s\n"
     ]
    },
    {
     "name": "stderr",
     "output_type": "stream",
     "text": [
      "[Parallel(n_jobs=4)]: Done   2 out of   2 | elapsed:    4.2s remaining:    0.0s\n",
      "[Parallel(n_jobs=4)]: Done   2 out of   2 | elapsed:    4.2s finished\n"
     ]
    },
    {
     "name": "stdout",
     "output_type": "stream",
     "text": [
      "Fitting 2 folds for each of 1 candidates, totalling 2 fits\n",
      "[CV] bagging_fraction=1.0, colsample_bytree=0.09871477135161656, feature_fraction=0.574743500526179, learning_rate=0.41546926338712087, max_delta_step=18, max_depth=40, min_child_weight=2, n_estimators=679, reg_alpha=0.023326152886388472, reg_lambda=5.291702902321275, subsample=0.4792135182400725 \n",
      "[CV] bagging_fraction=1.0, colsample_bytree=0.09871477135161656, feature_fraction=0.574743500526179, learning_rate=0.41546926338712087, max_delta_step=18, max_depth=40, min_child_weight=2, n_estimators=679, reg_alpha=0.023326152886388472, reg_lambda=5.291702902321275, subsample=0.4792135182400725 \n",
      "[CV]  bagging_fraction=1.0, colsample_bytree=0.09871477135161656, feature_fraction=0.574743500526179, learning_rate=0.41546926338712087, max_delta_step=18, max_depth=40, min_child_weight=2, n_estimators=679, reg_alpha=0.023326152886388472, reg_lambda=5.291702902321275, subsample=0.4792135182400725, score=-9.963315860136674, total=   3.3s\n",
      "[CV]  bagging_fraction=1.0, colsample_bytree=0.09871477135161656, feature_fraction=0.574743500526179, learning_rate=0.41546926338712087, max_delta_step=18, max_depth=40, min_child_weight=2, n_estimators=679, reg_alpha=0.023326152886388472, reg_lambda=5.291702902321275, subsample=0.4792135182400725, score=-9.695233193919861, total=   3.5s\n"
     ]
    },
    {
     "name": "stderr",
     "output_type": "stream",
     "text": [
      "[Parallel(n_jobs=4)]: Done   2 out of   2 | elapsed:    3.6s remaining:    0.0s\n",
      "[Parallel(n_jobs=4)]: Done   2 out of   2 | elapsed:    3.6s finished\n"
     ]
    },
    {
     "name": "stdout",
     "output_type": "stream",
     "text": [
      "Fitting 2 folds for each of 1 candidates, totalling 2 fits\n",
      "[CV] bagging_fraction=1.0, colsample_bytree=0.8484507747967368, feature_fraction=0.6978573886212172, learning_rate=0.18645882411422265, max_delta_step=14, max_depth=5, min_child_weight=4, n_estimators=937, reg_alpha=8.952681146573187e-09, reg_lambda=0.00010969520823611112, subsample=0.158626916272124 \n",
      "[CV] bagging_fraction=1.0, colsample_bytree=0.8484507747967368, feature_fraction=0.6978573886212172, learning_rate=0.18645882411422265, max_delta_step=14, max_depth=5, min_child_weight=4, n_estimators=937, reg_alpha=8.952681146573187e-09, reg_lambda=0.00010969520823611112, subsample=0.158626916272124 \n",
      "[CV]  bagging_fraction=1.0, colsample_bytree=0.8484507747967368, feature_fraction=0.6978573886212172, learning_rate=0.18645882411422265, max_delta_step=14, max_depth=5, min_child_weight=4, n_estimators=937, reg_alpha=8.952681146573187e-09, reg_lambda=0.00010969520823611112, subsample=0.158626916272124, score=-12.899340848988547, total=   6.2s\n",
      "[CV]  bagging_fraction=1.0, colsample_bytree=0.8484507747967368, feature_fraction=0.6978573886212172, learning_rate=0.18645882411422265, max_delta_step=14, max_depth=5, min_child_weight=4, n_estimators=937, reg_alpha=8.952681146573187e-09, reg_lambda=0.00010969520823611112, subsample=0.158626916272124, score=-12.760312027694367, total=   6.9s\n"
     ]
    },
    {
     "name": "stderr",
     "output_type": "stream",
     "text": [
      "[Parallel(n_jobs=4)]: Done   2 out of   2 | elapsed:    7.0s remaining:    0.0s\n",
      "[Parallel(n_jobs=4)]: Done   2 out of   2 | elapsed:    7.0s finished\n"
     ]
    },
    {
     "name": "stdout",
     "output_type": "stream",
     "text": [
      "Fitting 2 folds for each of 1 candidates, totalling 2 fits\n",
      "[CV] bagging_fraction=0.8219864818768959, colsample_bytree=0.12933925105875518, feature_fraction=0.690106390713439, learning_rate=0.4116974746075905, max_delta_step=13, max_depth=8, min_child_weight=2, n_estimators=1000, reg_alpha=0.00011145097932922893, reg_lambda=0.20963427937557227, subsample=0.6835083364973487 \n",
      "[CV] bagging_fraction=0.8219864818768959, colsample_bytree=0.12933925105875518, feature_fraction=0.690106390713439, learning_rate=0.4116974746075905, max_delta_step=13, max_depth=8, min_child_weight=2, n_estimators=1000, reg_alpha=0.00011145097932922893, reg_lambda=0.20963427937557227, subsample=0.6835083364973487 \n",
      "[CV]  bagging_fraction=0.8219864818768959, colsample_bytree=0.12933925105875518, feature_fraction=0.690106390713439, learning_rate=0.4116974746075905, max_delta_step=13, max_depth=8, min_child_weight=2, n_estimators=1000, reg_alpha=0.00011145097932922893, reg_lambda=0.20963427937557227, subsample=0.6835083364973487, score=-9.530986713116482, total=   5.7s\n",
      "[CV]  bagging_fraction=0.8219864818768959, colsample_bytree=0.12933925105875518, feature_fraction=0.690106390713439, learning_rate=0.4116974746075905, max_delta_step=13, max_depth=8, min_child_weight=2, n_estimators=1000, reg_alpha=0.00011145097932922893, reg_lambda=0.20963427937557227, subsample=0.6835083364973487, score=-9.104865013031262, total=   5.8s\n"
     ]
    },
    {
     "name": "stderr",
     "output_type": "stream",
     "text": [
      "[Parallel(n_jobs=4)]: Done   2 out of   2 | elapsed:    5.9s remaining:    0.0s\n",
      "[Parallel(n_jobs=4)]: Done   2 out of   2 | elapsed:    5.9s finished\n"
     ]
    },
    {
     "name": "stdout",
     "output_type": "stream",
     "text": [
      "Fitting 2 folds for each of 1 candidates, totalling 2 fits\n",
      "[CV] bagging_fraction=0.9498842992646002, colsample_bytree=0.731398789499771, feature_fraction=0.8194970108513593, learning_rate=0.33350643687321974, max_delta_step=10, max_depth=36, min_child_weight=3, n_estimators=646, reg_alpha=0.022151032668799378, reg_lambda=0.13767668689040655, subsample=0.43314121326708177 \n",
      "[CV] bagging_fraction=0.9498842992646002, colsample_bytree=0.731398789499771, feature_fraction=0.8194970108513593, learning_rate=0.33350643687321974, max_delta_step=10, max_depth=36, min_child_weight=3, n_estimators=646, reg_alpha=0.022151032668799378, reg_lambda=0.13767668689040655, subsample=0.43314121326708177 \n",
      "[CV]  bagging_fraction=0.9498842992646002, colsample_bytree=0.731398789499771, feature_fraction=0.8194970108513593, learning_rate=0.33350643687321974, max_delta_step=10, max_depth=36, min_child_weight=3, n_estimators=646, reg_alpha=0.022151032668799378, reg_lambda=0.13767668689040655, subsample=0.43314121326708177, score=-9.6314281592488, total=   3.5s\n",
      "[CV]  bagging_fraction=0.9498842992646002, colsample_bytree=0.731398789499771, feature_fraction=0.8194970108513593, learning_rate=0.33350643687321974, max_delta_step=10, max_depth=36, min_child_weight=3, n_estimators=646, reg_alpha=0.022151032668799378, reg_lambda=0.13767668689040655, subsample=0.43314121326708177, score=-9.593102123403845, total=   4.0s\n"
     ]
    },
    {
     "name": "stderr",
     "output_type": "stream",
     "text": [
      "[Parallel(n_jobs=4)]: Done   2 out of   2 | elapsed:    4.1s remaining:    0.0s\n",
      "[Parallel(n_jobs=4)]: Done   2 out of   2 | elapsed:    4.1s finished\n"
     ]
    },
    {
     "name": "stdout",
     "output_type": "stream",
     "text": [
      "Fitting 2 folds for each of 1 candidates, totalling 2 fits\n",
      "[CV] bagging_fraction=1.0, colsample_bytree=0.0767651137701589, feature_fraction=0.5834703410160245, learning_rate=0.3870927678906507, max_delta_step=15, max_depth=13, min_child_weight=5, n_estimators=1000, reg_alpha=1.0, reg_lambda=1000.0, subsample=0.01 \n",
      "[CV] bagging_fraction=1.0, colsample_bytree=0.0767651137701589, feature_fraction=0.5834703410160245, learning_rate=0.3870927678906507, max_delta_step=15, max_depth=13, min_child_weight=5, n_estimators=1000, reg_alpha=1.0, reg_lambda=1000.0, subsample=0.01 \n",
      "[CV]  bagging_fraction=1.0, colsample_bytree=0.0767651137701589, feature_fraction=0.5834703410160245, learning_rate=0.3870927678906507, max_delta_step=15, max_depth=13, min_child_weight=5, n_estimators=1000, reg_alpha=1.0, reg_lambda=1000.0, subsample=0.01, score=-12.085023797095484, total=   6.5s\n",
      "[CV]  bagging_fraction=1.0, colsample_bytree=0.0767651137701589, feature_fraction=0.5834703410160245, learning_rate=0.3870927678906507, max_delta_step=15, max_depth=13, min_child_weight=5, n_estimators=1000, reg_alpha=1.0, reg_lambda=1000.0, subsample=0.01, score=-11.942209284903674, total=   6.9s\n"
     ]
    },
    {
     "name": "stderr",
     "output_type": "stream",
     "text": [
      "[Parallel(n_jobs=4)]: Done   2 out of   2 | elapsed:    7.0s remaining:    0.0s\n",
      "[Parallel(n_jobs=4)]: Done   2 out of   2 | elapsed:    7.0s finished\n"
     ]
    },
    {
     "name": "stdout",
     "output_type": "stream",
     "text": [
      "Fitting 2 folds for each of 1 candidates, totalling 2 fits\n",
      "[CV] bagging_fraction=0.42673065193931364, colsample_bytree=0.975369261792799, feature_fraction=0.724310997973617, learning_rate=0.28052447577032197, max_delta_step=14, max_depth=7, min_child_weight=5, n_estimators=1000, reg_alpha=1.996940233331393e-05, reg_lambda=5.864322554364854e-05, subsample=0.6014244321321758 \n",
      "[CV] bagging_fraction=0.42673065193931364, colsample_bytree=0.975369261792799, feature_fraction=0.724310997973617, learning_rate=0.28052447577032197, max_delta_step=14, max_depth=7, min_child_weight=5, n_estimators=1000, reg_alpha=1.996940233331393e-05, reg_lambda=5.864322554364854e-05, subsample=0.6014244321321758 \n",
      "[CV]  bagging_fraction=0.42673065193931364, colsample_bytree=0.975369261792799, feature_fraction=0.724310997973617, learning_rate=0.28052447577032197, max_delta_step=14, max_depth=7, min_child_weight=5, n_estimators=1000, reg_alpha=1.996940233331393e-05, reg_lambda=5.864322554364854e-05, subsample=0.6014244321321758, score=-9.426617448013694, total=   6.3s\n",
      "[CV]  bagging_fraction=0.42673065193931364, colsample_bytree=0.975369261792799, feature_fraction=0.724310997973617, learning_rate=0.28052447577032197, max_delta_step=14, max_depth=7, min_child_weight=5, n_estimators=1000, reg_alpha=1.996940233331393e-05, reg_lambda=5.864322554364854e-05, subsample=0.6014244321321758, score=-9.2783428785929, total=   6.4s\n"
     ]
    },
    {
     "name": "stderr",
     "output_type": "stream",
     "text": [
      "[Parallel(n_jobs=4)]: Done   2 out of   2 | elapsed:    6.5s remaining:    0.0s\n",
      "[Parallel(n_jobs=4)]: Done   2 out of   2 | elapsed:    6.5s finished\n"
     ]
    },
    {
     "name": "stdout",
     "output_type": "stream",
     "text": [
      "Fitting 2 folds for each of 1 candidates, totalling 2 fits\n",
      "[CV] bagging_fraction=0.12239885819648667, colsample_bytree=0.41574077325293946, feature_fraction=0.7043040849436828, learning_rate=0.37558629684031236, max_delta_step=12, max_depth=8, min_child_weight=3, n_estimators=1000, reg_alpha=0.05936400987062541, reg_lambda=0.0008075387023909189, subsample=0.4220356298526114 \n",
      "[CV] bagging_fraction=0.12239885819648667, colsample_bytree=0.41574077325293946, feature_fraction=0.7043040849436828, learning_rate=0.37558629684031236, max_delta_step=12, max_depth=8, min_child_weight=3, n_estimators=1000, reg_alpha=0.05936400987062541, reg_lambda=0.0008075387023909189, subsample=0.4220356298526114 \n",
      "[CV]  bagging_fraction=0.12239885819648667, colsample_bytree=0.41574077325293946, feature_fraction=0.7043040849436828, learning_rate=0.37558629684031236, max_delta_step=12, max_depth=8, min_child_weight=3, n_estimators=1000, reg_alpha=0.05936400987062541, reg_lambda=0.0008075387023909189, subsample=0.4220356298526114, score=-9.028026413784467, total=   5.8s\n",
      "[CV]  bagging_fraction=0.12239885819648667, colsample_bytree=0.41574077325293946, feature_fraction=0.7043040849436828, learning_rate=0.37558629684031236, max_delta_step=12, max_depth=8, min_child_weight=3, n_estimators=1000, reg_alpha=0.05936400987062541, reg_lambda=0.0008075387023909189, subsample=0.4220356298526114, score=-9.297802019787515, total=   5.8s\n"
     ]
    },
    {
     "name": "stderr",
     "output_type": "stream",
     "text": [
      "[Parallel(n_jobs=4)]: Done   2 out of   2 | elapsed:    5.9s remaining:    0.0s\n",
      "[Parallel(n_jobs=4)]: Done   2 out of   2 | elapsed:    5.9s finished\n"
     ]
    },
    {
     "name": "stdout",
     "output_type": "stream",
     "text": [
      "Fitting 2 folds for each of 1 candidates, totalling 2 fits\n",
      "[CV] bagging_fraction=1.0, colsample_bytree=0.9138386431702025, feature_fraction=0.6633659329827044, learning_rate=0.3910844247916495, max_delta_step=10, max_depth=36, min_child_weight=2, n_estimators=646, reg_alpha=3.3490574064805062e-06, reg_lambda=1.4531543396346475e-05, subsample=0.01 \n",
      "[CV] bagging_fraction=1.0, colsample_bytree=0.9138386431702025, feature_fraction=0.6633659329827044, learning_rate=0.3910844247916495, max_delta_step=10, max_depth=36, min_child_weight=2, n_estimators=646, reg_alpha=3.3490574064805062e-06, reg_lambda=1.4531543396346475e-05, subsample=0.01 \n",
      "[CV]  bagging_fraction=1.0, colsample_bytree=0.9138386431702025, feature_fraction=0.6633659329827044, learning_rate=0.3910844247916495, max_delta_step=10, max_depth=36, min_child_weight=2, n_estimators=646, reg_alpha=3.3490574064805062e-06, reg_lambda=1.4531543396346475e-05, subsample=0.01, score=-9.881790940238442, total=   3.0s\n",
      "[CV]  bagging_fraction=1.0, colsample_bytree=0.9138386431702025, feature_fraction=0.6633659329827044, learning_rate=0.3910844247916495, max_delta_step=10, max_depth=36, min_child_weight=2, n_estimators=646, reg_alpha=3.3490574064805062e-06, reg_lambda=1.4531543396346475e-05, subsample=0.01, score=-10.05763093040368, total=   3.6s\n"
     ]
    },
    {
     "name": "stderr",
     "output_type": "stream",
     "text": [
      "[Parallel(n_jobs=4)]: Done   2 out of   2 | elapsed:    3.7s remaining:    0.0s\n",
      "[Parallel(n_jobs=4)]: Done   2 out of   2 | elapsed:    3.7s finished\n"
     ]
    },
    {
     "name": "stdout",
     "output_type": "stream",
     "text": [
      "Fitting 2 folds for each of 1 candidates, totalling 2 fits\n",
      "[CV] bagging_fraction=0.15560891233763907, colsample_bytree=0.5890525557659319, feature_fraction=0.6914182441027263, learning_rate=0.31933588792832257, max_delta_step=13, max_depth=6, min_child_weight=4, n_estimators=1000, reg_alpha=0.002846894789234621, reg_lambda=3.2034179992582286e-05, subsample=0.05340670225854634 \n",
      "[CV] bagging_fraction=0.15560891233763907, colsample_bytree=0.5890525557659319, feature_fraction=0.6914182441027263, learning_rate=0.31933588792832257, max_delta_step=13, max_depth=6, min_child_weight=4, n_estimators=1000, reg_alpha=0.002846894789234621, reg_lambda=3.2034179992582286e-05, subsample=0.05340670225854634 \n",
      "[CV]  bagging_fraction=0.15560891233763907, colsample_bytree=0.5890525557659319, feature_fraction=0.6914182441027263, learning_rate=0.31933588792832257, max_delta_step=13, max_depth=6, min_child_weight=4, n_estimators=1000, reg_alpha=0.002846894789234621, reg_lambda=3.2034179992582286e-05, subsample=0.05340670225854634, score=-10.048869847584312, total=   5.8s\n",
      "[CV]  bagging_fraction=0.15560891233763907, colsample_bytree=0.5890525557659319, feature_fraction=0.6914182441027263, learning_rate=0.31933588792832257, max_delta_step=13, max_depth=6, min_child_weight=4, n_estimators=1000, reg_alpha=0.002846894789234621, reg_lambda=3.2034179992582286e-05, subsample=0.05340670225854634, score=-9.760908896226207, total=   6.5s\n"
     ]
    },
    {
     "name": "stderr",
     "output_type": "stream",
     "text": [
      "[Parallel(n_jobs=4)]: Done   2 out of   2 | elapsed:    6.6s remaining:    0.0s\n",
      "[Parallel(n_jobs=4)]: Done   2 out of   2 | elapsed:    6.6s finished\n"
     ]
    },
    {
     "name": "stdout",
     "output_type": "stream",
     "text": [
      "Fitting 2 folds for each of 1 candidates, totalling 2 fits\n",
      "[CV] bagging_fraction=0.7053650439683634, colsample_bytree=0.5251816860429372, feature_fraction=0.7154390273189716, learning_rate=0.2876968820316744, max_delta_step=15, max_depth=11, min_child_weight=3, n_estimators=998, reg_alpha=0.005753278420922745, reg_lambda=1.137854718088444e-05, subsample=0.9539940392416151 \n",
      "[CV] bagging_fraction=0.7053650439683634, colsample_bytree=0.5251816860429372, feature_fraction=0.7154390273189716, learning_rate=0.2876968820316744, max_delta_step=15, max_depth=11, min_child_weight=3, n_estimators=998, reg_alpha=0.005753278420922745, reg_lambda=1.137854718088444e-05, subsample=0.9539940392416151 \n",
      "[CV]  bagging_fraction=0.7053650439683634, colsample_bytree=0.5251816860429372, feature_fraction=0.7154390273189716, learning_rate=0.2876968820316744, max_delta_step=15, max_depth=11, min_child_weight=3, n_estimators=998, reg_alpha=0.005753278420922745, reg_lambda=1.137854718088444e-05, subsample=0.9539940392416151, score=-8.929763269174844, total=   4.9s\n",
      "[CV]  bagging_fraction=0.7053650439683634, colsample_bytree=0.5251816860429372, feature_fraction=0.7154390273189716, learning_rate=0.2876968820316744, max_delta_step=15, max_depth=11, min_child_weight=3, n_estimators=998, reg_alpha=0.005753278420922745, reg_lambda=1.137854718088444e-05, subsample=0.9539940392416151, score=-9.01592789815776, total=   5.6s\n"
     ]
    },
    {
     "name": "stderr",
     "output_type": "stream",
     "text": [
      "[Parallel(n_jobs=4)]: Done   2 out of   2 | elapsed:    5.7s remaining:    0.0s\n",
      "[Parallel(n_jobs=4)]: Done   2 out of   2 | elapsed:    5.7s finished\n"
     ]
    },
    {
     "name": "stdout",
     "output_type": "stream",
     "text": [
      "Fitting 2 folds for each of 1 candidates, totalling 2 fits\n",
      "[CV] bagging_fraction=0.185504727122015, colsample_bytree=0.9440542549767359, feature_fraction=0.7540286734396755, learning_rate=0.27348100117820673, max_delta_step=14, max_depth=11, min_child_weight=2, n_estimators=1000, reg_alpha=8.290616503981314e-06, reg_lambda=5.3421990834651206e-05, subsample=0.9621991248241587 \n",
      "[CV] bagging_fraction=0.185504727122015, colsample_bytree=0.9440542549767359, feature_fraction=0.7540286734396755, learning_rate=0.27348100117820673, max_delta_step=14, max_depth=11, min_child_weight=2, n_estimators=1000, reg_alpha=8.290616503981314e-06, reg_lambda=5.3421990834651206e-05, subsample=0.9621991248241587 \n",
      "[CV]  bagging_fraction=0.185504727122015, colsample_bytree=0.9440542549767359, feature_fraction=0.7540286734396755, learning_rate=0.27348100117820673, max_delta_step=14, max_depth=11, min_child_weight=2, n_estimators=1000, reg_alpha=8.290616503981314e-06, reg_lambda=5.3421990834651206e-05, subsample=0.9621991248241587, score=-8.671868990793195, total=   4.8s\n",
      "[CV]  bagging_fraction=0.185504727122015, colsample_bytree=0.9440542549767359, feature_fraction=0.7540286734396755, learning_rate=0.27348100117820673, max_delta_step=14, max_depth=11, min_child_weight=2, n_estimators=1000, reg_alpha=8.290616503981314e-06, reg_lambda=5.3421990834651206e-05, subsample=0.9621991248241587, score=-8.87552453896274, total=   5.6s\n"
     ]
    },
    {
     "name": "stderr",
     "output_type": "stream",
     "text": [
      "[Parallel(n_jobs=4)]: Done   2 out of   2 | elapsed:    5.7s remaining:    0.0s\n",
      "[Parallel(n_jobs=4)]: Done   2 out of   2 | elapsed:    5.7s finished\n"
     ]
    },
    {
     "name": "stdout",
     "output_type": "stream",
     "text": [
      "Fitting 2 folds for each of 1 candidates, totalling 2 fits\n",
      "[CV] bagging_fraction=0.9998569392631452, colsample_bytree=0.6665699462831154, feature_fraction=0.8122642118040042, learning_rate=0.4500645188620316, max_delta_step=12, max_depth=10, min_child_weight=2, n_estimators=1000, reg_alpha=0.006353896605088402, reg_lambda=0.004163410759630139, subsample=1.0 \n",
      "[CV] bagging_fraction=0.9998569392631452, colsample_bytree=0.6665699462831154, feature_fraction=0.8122642118040042, learning_rate=0.4500645188620316, max_delta_step=12, max_depth=10, min_child_weight=2, n_estimators=1000, reg_alpha=0.006353896605088402, reg_lambda=0.004163410759630139, subsample=1.0 \n",
      "[CV]  bagging_fraction=0.9998569392631452, colsample_bytree=0.6665699462831154, feature_fraction=0.8122642118040042, learning_rate=0.4500645188620316, max_delta_step=12, max_depth=10, min_child_weight=2, n_estimators=1000, reg_alpha=0.006353896605088402, reg_lambda=0.004163410759630139, subsample=1.0, score=-9.307444100982838, total=   6.1s\n",
      "[CV]  bagging_fraction=0.9998569392631452, colsample_bytree=0.6665699462831154, feature_fraction=0.8122642118040042, learning_rate=0.4500645188620316, max_delta_step=12, max_depth=10, min_child_weight=2, n_estimators=1000, reg_alpha=0.006353896605088402, reg_lambda=0.004163410759630139, subsample=1.0, score=-9.162067379342695, total=   6.1s\n"
     ]
    },
    {
     "name": "stderr",
     "output_type": "stream",
     "text": [
      "[Parallel(n_jobs=4)]: Done   2 out of   2 | elapsed:    6.2s remaining:    0.0s\n",
      "[Parallel(n_jobs=4)]: Done   2 out of   2 | elapsed:    6.2s finished\n"
     ]
    },
    {
     "name": "stdout",
     "output_type": "stream",
     "text": [
      "Fitting 2 folds for each of 1 candidates, totalling 2 fits\n",
      "[CV] bagging_fraction=0.35790041934299127, colsample_bytree=0.8613477361340142, feature_fraction=0.7393565643224733, learning_rate=0.2874318650177919, max_delta_step=12, max_depth=10, min_child_weight=4, n_estimators=1000, reg_alpha=0.0010957549246366526, reg_lambda=0.03248196091892547, subsample=1.0 \n",
      "[CV] bagging_fraction=0.35790041934299127, colsample_bytree=0.8613477361340142, feature_fraction=0.7393565643224733, learning_rate=0.2874318650177919, max_delta_step=12, max_depth=10, min_child_weight=4, n_estimators=1000, reg_alpha=0.0010957549246366526, reg_lambda=0.03248196091892547, subsample=1.0 \n",
      "[CV]  bagging_fraction=0.35790041934299127, colsample_bytree=0.8613477361340142, feature_fraction=0.7393565643224733, learning_rate=0.2874318650177919, max_delta_step=12, max_depth=10, min_child_weight=4, n_estimators=1000, reg_alpha=0.0010957549246366526, reg_lambda=0.03248196091892547, subsample=1.0, score=-8.847644664187293, total=   6.2s\n",
      "[CV]  bagging_fraction=0.35790041934299127, colsample_bytree=0.8613477361340142, feature_fraction=0.7393565643224733, learning_rate=0.2874318650177919, max_delta_step=12, max_depth=10, min_child_weight=4, n_estimators=1000, reg_alpha=0.0010957549246366526, reg_lambda=0.03248196091892547, subsample=1.0, score=-8.8563650159374, total=   6.3s\n"
     ]
    },
    {
     "name": "stderr",
     "output_type": "stream",
     "text": [
      "[Parallel(n_jobs=4)]: Done   2 out of   2 | elapsed:    6.5s remaining:    0.0s\n",
      "[Parallel(n_jobs=4)]: Done   2 out of   2 | elapsed:    6.5s finished\n"
     ]
    },
    {
     "name": "stdout",
     "output_type": "stream",
     "text": [
      "Fitting 2 folds for each of 1 candidates, totalling 2 fits\n",
      "[CV] bagging_fraction=0.29091076600966626, colsample_bytree=0.4378792691348903, feature_fraction=0.16138908026191603, learning_rate=0.209331518763648, max_delta_step=15, max_depth=11, min_child_weight=3, n_estimators=1000, reg_alpha=1.82021812608929e-08, reg_lambda=3.3006128331456597e-06, subsample=0.47417648291184566 \n",
      "[CV] bagging_fraction=0.29091076600966626, colsample_bytree=0.4378792691348903, feature_fraction=0.16138908026191603, learning_rate=0.209331518763648, max_delta_step=15, max_depth=11, min_child_weight=3, n_estimators=1000, reg_alpha=1.82021812608929e-08, reg_lambda=3.3006128331456597e-06, subsample=0.47417648291184566 \n",
      "[CV]  bagging_fraction=0.29091076600966626, colsample_bytree=0.4378792691348903, feature_fraction=0.16138908026191603, learning_rate=0.209331518763648, max_delta_step=15, max_depth=11, min_child_weight=3, n_estimators=1000, reg_alpha=1.82021812608929e-08, reg_lambda=3.3006128331456597e-06, subsample=0.47417648291184566, score=-17.172078526153705, total=   3.9s\n",
      "[CV]  bagging_fraction=0.29091076600966626, colsample_bytree=0.4378792691348903, feature_fraction=0.16138908026191603, learning_rate=0.209331518763648, max_delta_step=15, max_depth=11, min_child_weight=3, n_estimators=1000, reg_alpha=1.82021812608929e-08, reg_lambda=3.3006128331456597e-06, subsample=0.47417648291184566, score=-17.127861788157055, total=   5.0s\n"
     ]
    },
    {
     "name": "stderr",
     "output_type": "stream",
     "text": [
      "[Parallel(n_jobs=4)]: Done   2 out of   2 | elapsed:    5.1s remaining:    0.0s\n",
      "[Parallel(n_jobs=4)]: Done   2 out of   2 | elapsed:    5.1s finished\n"
     ]
    },
    {
     "name": "stdout",
     "output_type": "stream",
     "text": [
      "Fitting 2 folds for each of 1 candidates, totalling 2 fits\n",
      "[CV] bagging_fraction=0.022211701337862582, colsample_bytree=0.9898412427221229, feature_fraction=0.7343415927141228, learning_rate=0.2593908484975809, max_delta_step=14, max_depth=11, min_child_weight=5, n_estimators=1000, reg_alpha=1.8031394311285876e-07, reg_lambda=0.000601936648496259, subsample=0.9213674839711202 \n",
      "[CV] bagging_fraction=0.022211701337862582, colsample_bytree=0.9898412427221229, feature_fraction=0.7343415927141228, learning_rate=0.2593908484975809, max_delta_step=14, max_depth=11, min_child_weight=5, n_estimators=1000, reg_alpha=1.8031394311285876e-07, reg_lambda=0.000601936648496259, subsample=0.9213674839711202 \n",
      "[CV]  bagging_fraction=0.022211701337862582, colsample_bytree=0.9898412427221229, feature_fraction=0.7343415927141228, learning_rate=0.2593908484975809, max_delta_step=14, max_depth=11, min_child_weight=5, n_estimators=1000, reg_alpha=1.8031394311285876e-07, reg_lambda=0.000601936648496259, subsample=0.9213674839711202, score=-8.878201449390037, total=   5.4s\n",
      "[CV]  bagging_fraction=0.022211701337862582, colsample_bytree=0.9898412427221229, feature_fraction=0.7343415927141228, learning_rate=0.2593908484975809, max_delta_step=14, max_depth=11, min_child_weight=5, n_estimators=1000, reg_alpha=1.8031394311285876e-07, reg_lambda=0.000601936648496259, subsample=0.9213674839711202, score=-8.853187377041097, total=   5.8s\n"
     ]
    },
    {
     "name": "stderr",
     "output_type": "stream",
     "text": [
      "[Parallel(n_jobs=4)]: Done   2 out of   2 | elapsed:    5.9s remaining:    0.0s\n",
      "[Parallel(n_jobs=4)]: Done   2 out of   2 | elapsed:    5.9s finished\n"
     ]
    },
    {
     "name": "stdout",
     "output_type": "stream",
     "text": [
      "Fitting 2 folds for each of 1 candidates, totalling 2 fits\n",
      "[CV] bagging_fraction=0.25630213566212295, colsample_bytree=0.8727349328479437, feature_fraction=0.7606907453256335, learning_rate=0.26580902169999976, max_delta_step=14, max_depth=11, min_child_weight=3, n_estimators=1000, reg_alpha=0.005338725750106271, reg_lambda=1.2472884120944321e-05, subsample=0.9150779961753049 \n",
      "[CV] bagging_fraction=0.25630213566212295, colsample_bytree=0.8727349328479437, feature_fraction=0.7606907453256335, learning_rate=0.26580902169999976, max_delta_step=14, max_depth=11, min_child_weight=3, n_estimators=1000, reg_alpha=0.005338725750106271, reg_lambda=1.2472884120944321e-05, subsample=0.9150779961753049 \n",
      "[CV]  bagging_fraction=0.25630213566212295, colsample_bytree=0.8727349328479437, feature_fraction=0.7606907453256335, learning_rate=0.26580902169999976, max_delta_step=14, max_depth=11, min_child_weight=3, n_estimators=1000, reg_alpha=0.005338725750106271, reg_lambda=1.2472884120944321e-05, subsample=0.9150779961753049, score=-8.900254878806447, total=   5.9s\n",
      "[CV]  bagging_fraction=0.25630213566212295, colsample_bytree=0.8727349328479437, feature_fraction=0.7606907453256335, learning_rate=0.26580902169999976, max_delta_step=14, max_depth=11, min_child_weight=3, n_estimators=1000, reg_alpha=0.005338725750106271, reg_lambda=1.2472884120944321e-05, subsample=0.9150779961753049, score=-8.721600712558757, total=   6.1s\n"
     ]
    },
    {
     "name": "stderr",
     "output_type": "stream",
     "text": [
      "[Parallel(n_jobs=4)]: Done   2 out of   2 | elapsed:    6.2s remaining:    0.0s\n",
      "[Parallel(n_jobs=4)]: Done   2 out of   2 | elapsed:    6.2s finished\n"
     ]
    }
   ],
   "source": [
    "ITERATIONS = 50\n",
    "\n",
    "# Classifier\n",
    "bayes_cv_tuner = BayesSearchCV(\n",
    "    estimator = lgb.LGBMRegressor(\n",
    "        random_state=42\n",
    "    ),\n",
    "    search_spaces = {\n",
    "        'learning_rate': (0.01, 1.0, 'log-uniform'),\n",
    "        'max_depth': (0, 50),\n",
    "        'max_delta_step': (0, 20),\n",
    "        'subsample': (0.01, 1.0, 'uniform'),\n",
    "        'colsample_bytree': (0.01, 1.0, 'uniform'),\n",
    "        'bagging_fraction': (0.01, 1.0, 'uniform'),\n",
    "        'feature_fraction': (0.01, 1.0, 'uniform'),\n",
    "        'reg_lambda': (1e-9, 1000, 'log-uniform'),\n",
    "        'reg_alpha': (1e-9, 1.0, 'log-uniform'),\n",
    "        'min_child_weight': (0, 5),\n",
    "        'n_estimators': (100, 1000)\n",
    "    },\n",
    "    cv = StratifiedKFold(\n",
    "        n_splits=2,\n",
    "        shuffle=True,\n",
    "        random_state=42\n",
    "    ),\n",
    "    scoring='neg_mean_squared_error',\n",
    "    n_jobs = 4,\n",
    "    n_iter = ITERATIONS,   \n",
    "    verbose = 10,\n",
    "    refit = True,\n",
    "    random_state = 42\n",
    ")\n",
    "\n",
    "# Fit the model\n",
    "result = bayes_cv_tuner.fit(pd.concat((train_df, val_df))[xs_features], pd.concat((train_df, val_df))[target])"
   ]
  },
  {
   "cell_type": "code",
   "execution_count": 81,
   "metadata": {},
   "outputs": [
    {
     "data": {
      "text/plain": [
       "10.905514814211983"
      ]
     },
     "execution_count": 81,
     "metadata": {},
     "output_type": "execute_result"
    }
   ],
   "source": [
    "y_hat = result.predict(test_df[xs_features])\n",
    "# rmse\n",
    "np.sqrt(np.mean((y_true - y_hat)**2))"
   ]
  },
  {
   "cell_type": "code",
   "execution_count": 82,
   "metadata": {},
   "outputs": [
    {
     "data": {
      "text/plain": [
       "<matplotlib.legend.Legend at 0x159291748>"
      ]
     },
     "execution_count": 82,
     "metadata": {},
     "output_type": "execute_result"
    },
    {
     "data": {
      "image/png": "[encoded data removed]",
      "text/plain": [
       "<Figure size 432x288 with 1 Axes>"
      ]
     },
     "metadata": {
      "needs_background": "light"
     },
     "output_type": "display_data"
    }
   ],
   "source": [
    "plt.plot(test_df.index, y_true, label='y_true')\n",
    "plt.plot(test_df.index, y_hat, label='y_hat')\n",
    "plt.xticks(rotation=90)\n",
    "plt.legend()"
   ]
  },
  {
   "cell_type": "code",
   "execution_count": 84,
   "metadata": {},
   "outputs": [
    {
     "data": {
      "text/plain": [
       "<matplotlib.axes._subplots.AxesSubplot at 0x25a2460b8>"
      ]
     },
     "execution_count": 84,
     "metadata": {},
     "output_type": "execute_result"
    },
    {
     "data": {
      "image/png": "[encoded data removed]",
      "text/plain": [
       "<Figure size 432x288 with 1 Axes>"
      ]
     },
     "metadata": {
      "needs_background": "light"
     },
     "output_type": "display_data"
    }
   ],
   "source": [
    "lgb.plot_importance(result.best_estimator_)"
   ]
  },
  {
   "cell_type": "code",
   "execution_count": 110,
   "metadata": {},
   "outputs": [],
   "source": [
    "def filter_by_sation_id(df, station_id):\n",
    "    # filter data by station_id\n",
    "    df = df[df.id == station_id]\n",
    "    df['ts'] = pd.to_datetime(df.ts, infer_datetime_format=True)\n",
    "    return df\n",
    "\n",
    "def round_ts(df):\n",
    "    # round ts every 5 minutes (seconds are not aligned)\n",
    "    df.loc[:, 'ts'] = df.ts.dt.round('5min')\n",
    "    df.sort_values(by='ts', inplace=True)\n",
    "    return df\n",
    "\n",
    "def resample_data(df):\n",
    "    return df.set_index('ts').resample('10Min', how='last', base=5).bfill()\n",
    "\n",
    "def compute_features(df):\n",
    "    # every hour we have 6 rows, one every 10 minutes\n",
    "    entries_per_hour = 6\n",
    "    # month of year\n",
    "    df['month'] = df.index.month\n",
    "    # quarter of year\n",
    "    df['quarter'] = df.index.quarter\n",
    "    # day of month\n",
    "    df['day'] = df.index.day\n",
    "    # hour of day\n",
    "    df['hour'] = df.index.hour\n",
    "    # cyclic features for hour\n",
    "    df['hour_x'] = np.sin(2*np.pi*df['hour']/24)\n",
    "    df['hour_y'] = np.cos(2*np.pi*df['hour']/24)\n",
    "    # quarter of hour\n",
    "    df['quarter_hour'] = np.floor(df.index.minute / 15)\n",
    "    # day of week\n",
    "    df['dow'] = df.index.dayofweek\n",
    "    # week of year\n",
    "    df['week'] = df.index.weekofyear\n",
    "    \n",
    "    ab_daily_mean = df.groupby('day')['available_bikes'].mean()\n",
    "    ab_monthly_mean = df.groupby('month')['available_bikes'].mean()\n",
    "    ab_weekly_mean = df.groupby('week')['available_bikes'].mean()\n",
    "\n",
    "    ab_daily_median = df.groupby('day')['available_bikes'].median()\n",
    "    ab_monthly_median = df.groupby('month')['available_bikes'].median()\n",
    "    ab_weekly_median = df.groupby('week')['available_bikes'].median()\n",
    "    \n",
    "    for i, x in zip(ab_daily_mean.index, ab_daily_mean):\n",
    "        df.loc[df.day == i, 'ab_daily_mean'] = x\n",
    "    \n",
    "    for i, x in zip(ab_monthly_mean.index, ab_monthly_mean):\n",
    "        df.loc[df.month == i, 'ab_monthly_mean'] = x\n",
    "\n",
    "    for i, x in zip(ab_weekly_mean.index, ab_weekly_mean):\n",
    "        df.loc[df.week == i, 'ab_weekly_mean'] = x\n",
    "\n",
    "    for i, x in zip(ab_daily_median.index, ab_daily_median):\n",
    "        df.loc[df.day == i, 'ab_daily_median'] = x\n",
    "\n",
    "    for i, x in zip(ab_monthly_median.index, ab_monthly_median):\n",
    "        df.loc[df.month == i, 'ab_monthly_median'] = x\n",
    "\n",
    "    for i, x in zip(ab_weekly_median.index, ab_weekly_median):\n",
    "        df.loc[df.week == i, 'ab_weekly_median'] = x\n",
    "        \n",
    "    df['last_1w_hourly_mean'] = last_1w_hourly_mean\n",
    "    df['last_1w_daily_mean'] = last_1w_daily_mean\n",
    "    df['last_2w_hourly_mean'] = last_2w_hourly_mean\n",
    "    df['last_2w_daily_mean'] = last_2w_daily_mean\n",
    "    \n",
    "    # set status to unknown when status is not available\n",
    "    df.loc[pd.isna(df.status), 'status'] = 'Unknown'\n",
    "    \n",
    "    return df\n",
    "\n",
    "def train_test_split(df, test_start='20181012'):\n",
    "    train_df = df.query('20170101 <= ts < {}'.format(test_start))\n",
    "    test_df = df.query('ts >= {}'.format(test_start))\n",
    "    \n",
    "    # overwrite last_1w_hourly_mean, last_1w_daily_mean columns for the second test week \n",
    "    # this info is not available at test time!\n",
    "    idx = test_df.shift(freq=datetime.timedelta(weeks=1))[:entries_per_hour*24*7].index\n",
    "    features = ['last_1w_hourly_mean', 'last_1w_daily_mean']\n",
    "    test_df.loc[idx, features] = test_df.loc[idx - datetime.timedelta(weeks=1), features]\n",
    "    \n",
    "    # drop first 2 weeks in train, no info for last_1w/2w features\n",
    "    train_df = train_df.iloc[entries_per_hour*24*7*2:]\n",
    "    \n",
    "    print(train_df.shape, test_df.shape)\n",
    "    print(train_df.index.min(), train_df.index.max(), test_df.index.min(), test_df.index.max())\n",
    "    \n",
    "    return train_df, test_df\n",
    "    \n",
    "def optimize(train_df, test_df, features, target, iters=50):\n",
    "    # transform categorical features\n",
    "    le = LabelEncoder()\n",
    "    train_df['status'] = le.fit_transform(train_df['status'])\n",
    "    test_df['status'] = le.transform(test_df['status'])\n",
    "\n",
    "    bayes_cv_tuner = BayesSearchCV(\n",
    "        estimator = lgb.LGBMRegressor(\n",
    "            random_state=42\n",
    "        ),\n",
    "        search_spaces = {\n",
    "            'learning_rate': (0.01, 1.0, 'log-uniform'),\n",
    "            'max_depth': (0, 50),\n",
    "            'max_delta_step': (0, 20),\n",
    "            'subsample': (0.01, 1.0, 'uniform'),\n",
    "            'colsample_bytree': (0.01, 1.0, 'uniform'),\n",
    "            'bagging_fraction': (0.01, 1.0, 'uniform'),\n",
    "            'feature_fraction': (0.01, 1.0, 'uniform'),\n",
    "            'reg_lambda': (1e-9, 1000, 'log-uniform'),\n",
    "            'reg_alpha': (1e-9, 1.0, 'log-uniform'),\n",
    "            'min_child_weight': (0, 5),\n",
    "            'n_estimators': (100, 1000)\n",
    "        },\n",
    "        cv = StratifiedKFold(\n",
    "            n_splits=2,\n",
    "            shuffle=True,\n",
    "            random_state=42\n",
    "        ),\n",
    "        scoring='neg_mean_squared_error',\n",
    "        n_jobs = 4,\n",
    "        n_iter = iters,   \n",
    "        verbose = 0,\n",
    "        refit = True,\n",
    "        random_state = 42\n",
    "    )\n",
    "    \n",
    "    # fit the model\n",
    "    result = bayes_cv_tuner.fit(train_df[xs_features], train_df[target])\n",
    "    \n",
    "    # get predictions\n",
    "    y_true = test_df[target].values\n",
    "    y_hat = result.predict(test_df[xs_features].values)\n",
    "    \n",
    "    # return score\n",
    "    return np.sqrt(np.mean((y_true - y_hat)**2)), result"
   ]
  },
  {
   "cell_type": "markdown",
   "metadata": {},
   "source": [
    "# Iterate over different stations"
   ]
  },
  {
   "cell_type": "code",
   "execution_count": 112,
   "metadata": {},
   "outputs": [
    {
     "name": "stdout",
     "output_type": "stream",
     "text": [
      "(91440, 30) (2088, 30)\n",
      "2017-01-15 00:05:00 2018-10-11 23:55:00 2018-10-12 00:05:00 2018-10-26 11:55:00\n",
      "Station 463 RMSE = 6.128656409771549\n",
      "(91440, 30) (2088, 30)\n",
      "2017-01-15 00:05:00 2018-10-11 23:55:00 2018-10-12 00:05:00 2018-10-26 11:55:00\n",
      "Station 374 RMSE = 7.657941529193962\n",
      "(91440, 30) (2088, 30)\n",
      "2017-01-15 00:05:00 2018-10-11 23:55:00 2018-10-12 00:05:00 2018-10-26 11:55:00\n",
      "Station 58 RMSE = 6.951824879368943\n",
      "(91440, 30) (2088, 30)\n",
      "2017-01-15 00:05:00 2018-10-11 23:55:00 2018-10-12 00:05:00 2018-10-26 11:55:00\n",
      "Station 102 RMSE = 1.7197937671446417\n",
      "(91440, 30) (2088, 30)\n",
      "2017-01-15 00:05:00 2018-10-11 23:55:00 2018-10-12 00:05:00 2018-10-26 11:55:00\n",
      "Station 30 RMSE = 4.943238795169043\n",
      "(91440, 30) (2088, 30)\n",
      "2017-01-15 00:05:00 2018-10-11 23:55:00 2018-10-12 00:05:00 2018-10-26 11:55:00\n",
      "Station 90 RMSE = 13.914468836940788\n",
      "(91440, 30) (2088, 30)\n",
      "2017-01-15 00:05:00 2018-10-11 23:55:00 2018-10-12 00:05:00 2018-10-26 11:55:00\n",
      "Station 343 RMSE = 6.216005687714228\n",
      "(91440, 30) (2088, 30)\n",
      "2017-01-15 00:05:00 2018-10-11 23:55:00 2018-10-12 00:05:00 2018-10-26 11:55:00\n",
      "Station 433 RMSE = 1.8071975173641766\n",
      "(91440, 30) (2088, 30)\n",
      "2017-01-15 00:05:00 2018-10-11 23:55:00 2018-10-12 00:05:00 2018-10-26 11:55:00\n",
      "Station 306 RMSE = 6.451639770135977\n",
      "(91440, 30) (2088, 30)\n",
      "2017-01-15 00:05:00 2018-10-11 23:55:00 2018-10-12 00:05:00 2018-10-26 11:55:00\n",
      "Station 75 RMSE = 9.969919604098711\n"
     ]
    }
   ],
   "source": [
    "# some test stations\n",
    "station_ids = [463, 374,  58, 102,  30,  90, 343, 433, 306,  75]\n",
    "\n",
    "# lightgbm features to keep\n",
    "features = ['total_docks', 'docks_in_service', 'status', 'ab_daily_mean', 'ab_monthly_mean', 'ab_weekly_mean',\n",
    "           'ab_daily_median', 'ab_monthly_median', 'ab_weekly_median', 'hour_x', 'hour_y',\n",
    "          'month', 'quarter', 'day', 'hour', 'quarter_hour', 'dow', 'week', 'last_1w_hourly_mean',\n",
    "          'last_1w_daily_mean', 'last_2w_hourly_mean', 'last_2w_daily_mean']\n",
    "# target var\n",
    "target = ['available_bikes']\n",
    "\n",
    "# keep track of best score\n",
    "rmses = []\n",
    "models = []\n",
    "tests = []\n",
    "\n",
    "for station_id in station_ids:\n",
    "    df = filter_by_sation_id(docks_df, station_id)\n",
    "    df = round_ts(df)\n",
    "    df = resample_data(df)\n",
    "    df = compute_features(df)\n",
    "    train, test = train_test_split(df)\n",
    "    rmse, model = optimize(train, test, features, target, iters=10)\n",
    "    rmses.append(rmse)\n",
    "    models.append(model)\n",
    "    tests.append(test)\n",
    "    \n",
    "    print('Station {} RMSE = {}'.format(station_id, rmse))"
   ]
  },
  {
   "cell_type": "code",
   "execution_count": 118,
   "metadata": {},
   "outputs": [],
   "source": [
    "id_to_index = dict([(station_id, i) for i, station_id in enumerate(station_ids)])\n",
    "index_to_id = dict([(i, station_id) for i, station_id in enumerate(station_ids)])"
   ]
  },
  {
   "cell_type": "code",
   "execution_count": 126,
   "metadata": {},
   "outputs": [
    {
     "data": {
      "text/plain": [
       "(array([736980., 736982., 736984., 736986., 736988., 736990., 736992.,\n",
       "        736994.]), <a list of 8 Text xticklabel objects>)"
      ]
     },
     "execution_count": 126,
     "metadata": {},
     "output_type": "execute_result"
    },
    {
     "data": {
      "image/png": "[encoded data removed]",
      "text/plain": [
       "<Figure size 432x288 with 1 Axes>"
      ]
     },
     "metadata": {
      "needs_background": "light"
     },
     "output_type": "display_data"
    }
   ],
   "source": [
    "station_id = 374\n",
    "\n",
    "plt.plot(tests[id_to_index[station_id]].index, \n",
    "         tests[id_to_index[station_id]][target], label='y_true')\n",
    "plt.plot(tests[id_to_index[station_id]].index, \n",
    "         models[id_to_index[station_id]].predict(tests[id_to_index[station_id]][xs_features]), label='y_hat')\n",
    "plt.xticks(rotation=90)"
   ]
  },
  {
   "cell_type": "code",
   "execution_count": null,
   "metadata": {},
   "outputs": [],
   "source": []
  }
 ],
 "metadata": {
  "kernelspec": {
   "display_name": "Python 3",
   "language": "python",
   "name": "python3"
  },
  "language_info": {
   "codemirror_mode": {
    "name": "ipython",
    "version": 3
   },
   "file_extension": ".py",
   "mimetype": "text/x-python",
   "name": "python",
   "nbconvert_exporter": "python",
   "pygments_lexer": "ipython3",
   "version": "3.6.5"
  }
 },
 "nbformat": 4,
 "nbformat_minor": 2
}
