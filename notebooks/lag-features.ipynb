{
 "cells": [
  {
   "cell_type": "markdown",
   "metadata": {},
   "source": [
    "## Compute lag features for gradient boosting model"
   ]
  },
  {
   "cell_type": "code",
   "execution_count": 536,
   "metadata": {},
   "outputs": [],
   "source": [
    "import pandas as pd\n",
    "import numpy as np\n",
    "import datetime\n",
    "\n",
    "import matplotlib.pyplot as plt\n",
    "%matplotlib inline\n",
    "\n",
    "import warnings\n",
    "warnings.filterwarnings('ignore')"
   ]
  },
  {
   "cell_type": "code",
   "execution_count": 464,
   "metadata": {},
   "outputs": [],
   "source": [
    "colnames = ['id', 'ts', 'station_name', 'address', 'total_docks',\n",
    "           'docks_in_service', 'available_docks', 'available_bikes',\n",
    "           'percent_full', 'status', 'latitude', 'longitude', 'location', 'record']\n",
    "docks_df = pd.read_csv('/Users/jordi/Downloads/chicago_docks.csv', names=colnames)"
   ]
  },
  {
   "cell_type": "code",
   "execution_count": 465,
   "metadata": {},
   "outputs": [],
   "source": [
    "# drop unnecessary columns\n",
    "docks_df = docks_df.drop(columns=['location', 'record'])"
   ]
  },
  {
   "cell_type": "code",
   "execution_count": 466,
   "metadata": {},
   "outputs": [
    {
     "data": {
      "text/html": [
       "<div>\n",
       "<style scoped>\n",
       "    .dataframe tbody tr th:only-of-type {\n",
       "        vertical-align: middle;\n",
       "    }\n",
       "\n",
       "    .dataframe tbody tr th {\n",
       "        vertical-align: top;\n",
       "    }\n",
       "\n",
       "    .dataframe thead th {\n",
       "        text-align: right;\n",
       "    }\n",
       "</style>\n",
       "<table border=\"1\" class=\"dataframe\">\n",
       "  <thead>\n",
       "    <tr style=\"text-align: right;\">\n",
       "      <th></th>\n",
       "      <th>id</th>\n",
       "      <th>ts</th>\n",
       "      <th>station_name</th>\n",
       "      <th>address</th>\n",
       "      <th>total_docks</th>\n",
       "      <th>docks_in_service</th>\n",
       "      <th>available_docks</th>\n",
       "      <th>available_bikes</th>\n",
       "      <th>percent_full</th>\n",
       "      <th>status</th>\n",
       "      <th>latitude</th>\n",
       "      <th>longitude</th>\n",
       "    </tr>\n",
       "  </thead>\n",
       "  <tbody>\n",
       "    <tr>\n",
       "      <th>0</th>\n",
       "      <td>2</td>\n",
       "      <td>10/26/2018 11:55:13 AM</td>\n",
       "      <td>Buckingham Fountain</td>\n",
       "      <td>Buckingham Fountain</td>\n",
       "      <td>39</td>\n",
       "      <td>39</td>\n",
       "      <td>36</td>\n",
       "      <td>3</td>\n",
       "      <td>8</td>\n",
       "      <td>In Service</td>\n",
       "      <td>41.876470</td>\n",
       "      <td>-87.620340</td>\n",
       "    </tr>\n",
       "    <tr>\n",
       "      <th>1</th>\n",
       "      <td>3</td>\n",
       "      <td>10/26/2018 11:55:13 AM</td>\n",
       "      <td>Shedd Aquarium</td>\n",
       "      <td>Shedd Aquarium</td>\n",
       "      <td>55</td>\n",
       "      <td>54</td>\n",
       "      <td>50</td>\n",
       "      <td>4</td>\n",
       "      <td>7</td>\n",
       "      <td>In Service</td>\n",
       "      <td>41.867226</td>\n",
       "      <td>-87.615355</td>\n",
       "    </tr>\n",
       "    <tr>\n",
       "      <th>2</th>\n",
       "      <td>4</td>\n",
       "      <td>10/26/2018 11:55:13 AM</td>\n",
       "      <td>Burnham Harbor</td>\n",
       "      <td>Burnham Harbor</td>\n",
       "      <td>23</td>\n",
       "      <td>23</td>\n",
       "      <td>9</td>\n",
       "      <td>14</td>\n",
       "      <td>61</td>\n",
       "      <td>In Service</td>\n",
       "      <td>41.856268</td>\n",
       "      <td>-87.613348</td>\n",
       "    </tr>\n",
       "    <tr>\n",
       "      <th>3</th>\n",
       "      <td>5</td>\n",
       "      <td>10/26/2018 11:55:13 AM</td>\n",
       "      <td>State St &amp; Harrison St</td>\n",
       "      <td>State St &amp; Harrison St</td>\n",
       "      <td>23</td>\n",
       "      <td>22</td>\n",
       "      <td>20</td>\n",
       "      <td>2</td>\n",
       "      <td>9</td>\n",
       "      <td>In Service</td>\n",
       "      <td>41.874053</td>\n",
       "      <td>-87.627716</td>\n",
       "    </tr>\n",
       "    <tr>\n",
       "      <th>4</th>\n",
       "      <td>6</td>\n",
       "      <td>10/26/2018 11:55:13 AM</td>\n",
       "      <td>Dusable Harbor</td>\n",
       "      <td>Dusable Harbor</td>\n",
       "      <td>39</td>\n",
       "      <td>38</td>\n",
       "      <td>32</td>\n",
       "      <td>6</td>\n",
       "      <td>16</td>\n",
       "      <td>In Service</td>\n",
       "      <td>41.886976</td>\n",
       "      <td>-87.612813</td>\n",
       "    </tr>\n",
       "  </tbody>\n",
       "</table>\n",
       "</div>"
      ],
      "text/plain": [
       "   id                      ts            station_name                 address  \\\n",
       "0   2  10/26/2018 11:55:13 AM     Buckingham Fountain     Buckingham Fountain   \n",
       "1   3  10/26/2018 11:55:13 AM          Shedd Aquarium          Shedd Aquarium   \n",
       "2   4  10/26/2018 11:55:13 AM          Burnham Harbor          Burnham Harbor   \n",
       "3   5  10/26/2018 11:55:13 AM  State St & Harrison St  State St & Harrison St   \n",
       "4   6  10/26/2018 11:55:13 AM          Dusable Harbor          Dusable Harbor   \n",
       "\n",
       "   total_docks  docks_in_service  available_docks  available_bikes  \\\n",
       "0           39                39               36                3   \n",
       "1           55                54               50                4   \n",
       "2           23                23                9               14   \n",
       "3           23                22               20                2   \n",
       "4           39                38               32                6   \n",
       "\n",
       "   percent_full      status   latitude  longitude  \n",
       "0             8  In Service  41.876470 -87.620340  \n",
       "1             7  In Service  41.867226 -87.615355  \n",
       "2            61  In Service  41.856268 -87.613348  \n",
       "3             9  In Service  41.874053 -87.627716  \n",
       "4            16  In Service  41.886976 -87.612813  "
      ]
     },
     "execution_count": 466,
     "metadata": {},
     "output_type": "execute_result"
    }
   ],
   "source": [
    "docks_df.head()"
   ]
  },
  {
   "cell_type": "code",
   "execution_count": 467,
   "metadata": {},
   "outputs": [
    {
     "data": {
      "text/plain": [
       "(615,)"
      ]
     },
     "execution_count": 467,
     "metadata": {},
     "output_type": "execute_result"
    }
   ],
   "source": [
    "docks_df.id.unique().shape"
   ]
  },
  {
   "cell_type": "code",
   "execution_count": 468,
   "metadata": {},
   "outputs": [],
   "source": [
    "stations_df = pd.read_csv('./datasets/chicago_stations.csv')"
   ]
  },
  {
   "cell_type": "code",
   "execution_count": 469,
   "metadata": {},
   "outputs": [
    {
     "data": {
      "text/html": [
       "<div>\n",
       "<style scoped>\n",
       "    .dataframe tbody tr th:only-of-type {\n",
       "        vertical-align: middle;\n",
       "    }\n",
       "\n",
       "    .dataframe tbody tr th {\n",
       "        vertical-align: top;\n",
       "    }\n",
       "\n",
       "    .dataframe thead th {\n",
       "        text-align: right;\n",
       "    }\n",
       "</style>\n",
       "<table border=\"1\" class=\"dataframe\">\n",
       "  <thead>\n",
       "    <tr style=\"text-align: right;\">\n",
       "      <th></th>\n",
       "      <th>Unnamed: 0</th>\n",
       "      <th>id</th>\n",
       "      <th>station_name</th>\n",
       "      <th>address</th>\n",
       "      <th>lat</th>\n",
       "      <th>lon</th>\n",
       "    </tr>\n",
       "  </thead>\n",
       "  <tbody>\n",
       "    <tr>\n",
       "      <th>0</th>\n",
       "      <td>0</td>\n",
       "      <td>2</td>\n",
       "      <td>Buckingham Fountain</td>\n",
       "      <td>Buckingham Fountain</td>\n",
       "      <td>41.876470</td>\n",
       "      <td>-87.620340</td>\n",
       "    </tr>\n",
       "    <tr>\n",
       "      <th>1</th>\n",
       "      <td>1</td>\n",
       "      <td>3</td>\n",
       "      <td>Shedd Aquarium</td>\n",
       "      <td>Shedd Aquarium</td>\n",
       "      <td>41.867226</td>\n",
       "      <td>-87.615355</td>\n",
       "    </tr>\n",
       "    <tr>\n",
       "      <th>2</th>\n",
       "      <td>2</td>\n",
       "      <td>4</td>\n",
       "      <td>Burnham Harbor</td>\n",
       "      <td>Burnham Harbor</td>\n",
       "      <td>41.856268</td>\n",
       "      <td>-87.613348</td>\n",
       "    </tr>\n",
       "    <tr>\n",
       "      <th>3</th>\n",
       "      <td>3</td>\n",
       "      <td>5</td>\n",
       "      <td>State St &amp; Harrison St</td>\n",
       "      <td>State St &amp; Harrison St</td>\n",
       "      <td>41.874053</td>\n",
       "      <td>-87.627716</td>\n",
       "    </tr>\n",
       "    <tr>\n",
       "      <th>4</th>\n",
       "      <td>4</td>\n",
       "      <td>6</td>\n",
       "      <td>Dusable Harbor</td>\n",
       "      <td>Dusable Harbor</td>\n",
       "      <td>41.886976</td>\n",
       "      <td>-87.612813</td>\n",
       "    </tr>\n",
       "  </tbody>\n",
       "</table>\n",
       "</div>"
      ],
      "text/plain": [
       "   Unnamed: 0  id            station_name                 address        lat  \\\n",
       "0           0   2     Buckingham Fountain     Buckingham Fountain  41.876470   \n",
       "1           1   3          Shedd Aquarium          Shedd Aquarium  41.867226   \n",
       "2           2   4          Burnham Harbor          Burnham Harbor  41.856268   \n",
       "3           3   5  State St & Harrison St  State St & Harrison St  41.874053   \n",
       "4           4   6          Dusable Harbor          Dusable Harbor  41.886976   \n",
       "\n",
       "         lon  \n",
       "0 -87.620340  \n",
       "1 -87.615355  \n",
       "2 -87.613348  \n",
       "3 -87.627716  \n",
       "4 -87.612813  "
      ]
     },
     "execution_count": 469,
     "metadata": {},
     "output_type": "execute_result"
    }
   ],
   "source": [
    "stations_df.head()"
   ]
  },
  {
   "cell_type": "code",
   "execution_count": 470,
   "metadata": {},
   "outputs": [
    {
     "data": {
      "text/plain": [
       "(615,)"
      ]
     },
     "execution_count": 470,
     "metadata": {},
     "output_type": "execute_result"
    }
   ],
   "source": [
    "stations_df.id.unique().shape"
   ]
  },
  {
   "cell_type": "code",
   "execution_count": 471,
   "metadata": {},
   "outputs": [],
   "source": [
    "station_ids = stations_df.id.unique()"
   ]
  },
  {
   "cell_type": "markdown",
   "metadata": {},
   "source": [
    "## Preprocess at station level"
   ]
  },
  {
   "cell_type": "code",
   "execution_count": 859,
   "metadata": {},
   "outputs": [],
   "source": [
    "station_id = station_ids[200]\n",
    "df = docks_df[docks_df.id == station_id]\n",
    "df['ts'] = pd.to_datetime(df.ts, infer_datetime_format=True)"
   ]
  },
  {
   "cell_type": "code",
   "execution_count": 860,
   "metadata": {},
   "outputs": [
    {
     "data": {
      "text/plain": [
       "(Timestamp('2017-01-01 00:05:11'), Timestamp('2018-10-26 11:55:13'))"
      ]
     },
     "execution_count": 860,
     "metadata": {},
     "output_type": "execute_result"
    }
   ],
   "source": [
    "df.ts.min(), df.ts.max()"
   ]
  },
  {
   "cell_type": "code",
   "execution_count": 861,
   "metadata": {},
   "outputs": [],
   "source": [
    "# round ts every 5 minutes (seconds are not aligned)\n",
    "df.loc[:, 'ts'] = df.ts.dt.round('5min')\n",
    "df.sort_values(by='ts', inplace=True)"
   ]
  },
  {
   "cell_type": "code",
   "execution_count": 862,
   "metadata": {},
   "outputs": [],
   "source": [
    "# resample data, there are missing info gaps\n",
    "df = df.set_index('ts').resample('10Min', how='last', base=5).bfill()"
   ]
  },
  {
   "cell_type": "code",
   "execution_count": 863,
   "metadata": {},
   "outputs": [
    {
     "data": {
      "text/plain": [
       "<matplotlib.legend.Legend at 0x3f16c88d0>"
      ]
     },
     "execution_count": 863,
     "metadata": {},
     "output_type": "execute_result"
    },
    {
     "data": {
      "image/png": "[encoded data removed]",
      "text/plain": [
       "<Figure size 432x288 with 1 Axes>"
      ]
     },
     "metadata": {
      "needs_background": "light"
     },
     "output_type": "display_data"
    }
   ],
   "source": [
    "plt.plot(df.index, df.available_bikes, label='available_bikes')\n",
    "plt.xticks(rotation=90)\n",
    "plt.legend()"
   ]
  },
  {
   "cell_type": "code",
   "execution_count": 864,
   "metadata": {},
   "outputs": [],
   "source": [
    "# every hour we have 6 rows, one every 10 minutes\n",
    "entries_per_hour = 6"
   ]
  },
  {
   "cell_type": "code",
   "execution_count": 865,
   "metadata": {},
   "outputs": [],
   "source": [
    "# month of year\n",
    "df['month'] = df.index.month\n",
    "# quarter of year\n",
    "df['quarter'] = df.index.quarter\n",
    "# day of month\n",
    "df['day'] = df.index.day\n",
    "# hour of day\n",
    "df['hour'] = df.index.hour\n",
    "# cyclic features for hour\n",
    "df['hour_x'] = np.sin(2*np.pi*df['hour']/24)\n",
    "df['hour_y'] = np.cos(2*np.pi*df['hour']/24)\n",
    "# quarter of hour\n",
    "df['quarter_hour'] = np.floor(df.index.minute / 15)\n",
    "# day of week\n",
    "df['dow'] = df.index.dayofweek\n",
    "# week of year\n",
    "df['week'] = df.index.weekofyear"
   ]
  },
  {
   "cell_type": "code",
   "execution_count": 866,
   "metadata": {},
   "outputs": [],
   "source": [
    "ab_daily_mean = df.groupby('day')['available_bikes'].mean()\n",
    "ab_monthly_mean = df.groupby('month')['available_bikes'].mean()\n",
    "ab_weekly_mean = df.groupby('week')['available_bikes'].mean()\n",
    "\n",
    "ab_daily_median = df.groupby('day')['available_bikes'].median()\n",
    "ab_monthly_median = df.groupby('month')['available_bikes'].median()\n",
    "ab_weekly_median = df.groupby('week')['available_bikes'].median()"
   ]
  },
  {
   "cell_type": "code",
   "execution_count": 867,
   "metadata": {},
   "outputs": [],
   "source": [
    "for i, x in zip(ab_daily_mean.index, ab_daily_mean):\n",
    "    df.loc[df.day == i, 'ab_daily_mean'] = x\n",
    "    \n",
    "for i, x in zip(ab_monthly_mean.index, ab_monthly_mean):\n",
    "    df.loc[df.month == i, 'ab_monthly_mean'] = x\n",
    "    \n",
    "for i, x in zip(ab_weekly_mean.index, ab_weekly_mean):\n",
    "    df.loc[df.week == i, 'ab_weekly_mean'] = x\n",
    "    \n",
    "for i, x in zip(ab_daily_median.index, ab_daily_median):\n",
    "    df.loc[df.day == i, 'ab_daily_median'] = x\n",
    "    \n",
    "for i, x in zip(ab_monthly_median.index, ab_monthly_median):\n",
    "    df.loc[df.month == i, 'ab_monthly_median'] = x\n",
    "    \n",
    "for i, x in zip(ab_weekly_median.index, ab_weekly_median):\n",
    "    df.loc[df.week == i, 'ab_weekly_median'] = x"
   ]
  },
  {
   "cell_type": "code",
   "execution_count": 868,
   "metadata": {},
   "outputs": [],
   "source": [
    "last_1w_hourly_mean = df.shift(entries_per_hour*24*7 - entries_per_hour)['available_bikes'].rolling(entries_per_hour).mean()\n",
    "last_1w_daily_mean = df.shift(entries_per_hour*24*7 - entries_per_hour*24)['available_bikes'].rolling(entries_per_hour*24).mean()\n",
    "last_2w_hourly_mean = df.shift(entries_per_hour*24*7*2 - entries_per_hour)['available_bikes'].rolling(entries_per_hour).mean()\n",
    "last_2w_daily_mean = df.shift(entries_per_hour*24*7*2 - entries_per_hour*24)['available_bikes'].rolling(entries_per_hour*24).mean()"
   ]
  },
  {
   "cell_type": "code",
   "execution_count": 869,
   "metadata": {},
   "outputs": [],
   "source": [
    "df['last_1w_hourly_mean'] = last_1w_hourly_mean\n",
    "df['last_1w_daily_mean'] = last_1w_daily_mean\n",
    "df['last_2w_hourly_mean'] = last_2w_hourly_mean\n",
    "df['last_2w_daily_mean'] = last_2w_daily_mean"
   ]
  },
  {
   "cell_type": "code",
   "execution_count": 870,
   "metadata": {},
   "outputs": [],
   "source": [
    "# set status to unknown when status is not available\n",
    "df.loc[pd.isna(df.status), 'status'] = 'Unknown'"
   ]
  },
  {
   "cell_type": "code",
   "execution_count": 871,
   "metadata": {},
   "outputs": [
    {
     "data": {
      "text/plain": [
       "Index(['id', 'station_name', 'address', 'total_docks', 'docks_in_service',\n",
       "       'available_docks', 'available_bikes', 'percent_full', 'status',\n",
       "       'latitude', 'longitude', 'month', 'quarter', 'day', 'hour', 'hour_x',\n",
       "       'hour_y', 'quarter_hour', 'dow', 'week', 'ab_daily_mean',\n",
       "       'ab_monthly_mean', 'ab_weekly_mean', 'ab_daily_median',\n",
       "       'ab_monthly_median', 'ab_weekly_median', 'last_1w_hourly_mean',\n",
       "       'last_1w_daily_mean', 'last_2w_hourly_mean', 'last_2w_daily_mean'],\n",
       "      dtype='object')"
      ]
     },
     "execution_count": 871,
     "metadata": {},
     "output_type": "execute_result"
    }
   ],
   "source": [
    "df.columns"
   ]
  },
  {
   "cell_type": "markdown",
   "metadata": {},
   "source": [
    "### Set train/test splits"
   ]
  },
  {
   "cell_type": "code",
   "execution_count": 872,
   "metadata": {},
   "outputs": [],
   "source": [
    "train_df = df.query('20170101 <= ts < 20180928')\n",
    "# 2 weeks for validation\n",
    "val_df = df.query('20180928 <= ts < 20181012')\n",
    "# 2 weeks for test\n",
    "test_df = df.query('ts >= 20181012')"
   ]
  },
  {
   "cell_type": "code",
   "execution_count": 873,
   "metadata": {},
   "outputs": [
    {
     "data": {
      "text/plain": [
       "((91440, 30), (2016, 30), (2088, 30))"
      ]
     },
     "execution_count": 873,
     "metadata": {},
     "output_type": "execute_result"
    }
   ],
   "source": [
    "train_df.shape, val_df.shape, test_df.shape"
   ]
  },
  {
   "cell_type": "code",
   "execution_count": 874,
   "metadata": {},
   "outputs": [],
   "source": [
    "# overwrite last_1w_hourly_mean, last_1w_daily_mean columns for the second test week \n",
    "# this info is not available at test time!\n",
    "idx = test_df.shift(freq=datetime.timedelta(weeks=1))[:entries_per_hour*24*7].index\n",
    "features = ['last_1w_hourly_mean', 'last_1w_daily_mean']\n",
    "test_df.loc[idx, features] = test_df.loc[idx - datetime.timedelta(weeks=1), features]"
   ]
  },
  {
   "cell_type": "code",
   "execution_count": 875,
   "metadata": {},
   "outputs": [],
   "source": [
    "# drop first 2 weeks in train, no info for last_1w/2w features\n",
    "train_df = train_df.iloc[entries_per_hour*24*7*2:]"
   ]
  },
  {
   "cell_type": "code",
   "execution_count": 876,
   "metadata": {},
   "outputs": [
    {
     "data": {
      "text/plain": [
       "((89424, 30), (2016, 30), (2088, 30))"
      ]
     },
     "execution_count": 876,
     "metadata": {},
     "output_type": "execute_result"
    }
   ],
   "source": [
    "train_df.shape, val_df.shape, test_df.shape"
   ]
  },
  {
   "cell_type": "code",
   "execution_count": 877,
   "metadata": {},
   "outputs": [
    {
     "data": {
      "text/plain": [
       "(Timestamp('2017-01-15 00:05:00', freq='10T'),\n",
       " Timestamp('2018-09-27 23:55:00', freq='10T'),\n",
       " Timestamp('2018-09-28 00:05:00', freq='10T'),\n",
       " Timestamp('2018-10-11 23:55:00', freq='10T'),\n",
       " Timestamp('2018-10-12 00:05:00', freq='10T'),\n",
       " Timestamp('2018-10-26 11:55:00', freq='10T'))"
      ]
     },
     "execution_count": 877,
     "metadata": {},
     "output_type": "execute_result"
    }
   ],
   "source": [
    "train_df.index.min(), train_df.index.max(), val_df.index.min(), val_df.index.max(), test_df.index.min(), test_df.index.max()"
   ]
  },
  {
   "cell_type": "code",
   "execution_count": 878,
   "metadata": {},
   "outputs": [],
   "source": [
    "import lightgbm as lgb\n",
    "from sklearn.preprocessing import LabelEncoder\n",
    "\n",
    "xs_features = ['total_docks', 'docks_in_service', 'status', 'ab_daily_mean', 'ab_monthly_mean', 'ab_weekly_mean',\n",
    "               'ab_daily_median', 'ab_monthly_median', 'ab_weekly_median', 'hour_x', 'hour_y',\n",
    "              'month', 'quarter', 'day', 'hour', 'quarter_hour', 'dow', 'week', 'last_1w_hourly_mean',\n",
    "              'last_1w_daily_mean', 'last_2w_hourly_mean', 'last_2w_daily_mean']\n",
    "target = ['available_bikes']\n",
    "\n",
    "le = LabelEncoder()\n",
    "train_df['status'] = le.fit_transform(train_df['status'])\n",
    "val_df['status'] = le.transform(val_df['status'])\n",
    "test_df['status'] = le.transform(test_df['status'])\n",
    "\n",
    "train_data = lgb.Dataset(train_df[xs_features], label=train_df[target],\n",
    "                        feature_name=xs_features, categorical_feature=['status'])\n",
    "val_data = lgb.Dataset(val_df[xs_features], label=val_df[target],\n",
    "                      feature_name=xs_features, categorical_feature=['status'], reference=train_data)\n",
    "test_data = lgb.Dataset(test_df[xs_features], label=test_df[target],\n",
    "                       feature_name=xs_features, categorical_feature=['status'])"
   ]
  },
  {
   "cell_type": "code",
   "execution_count": 879,
   "metadata": {},
   "outputs": [
    {
     "data": {
      "text/html": [
       "<div>\n",
       "<style scoped>\n",
       "    .dataframe tbody tr th:only-of-type {\n",
       "        vertical-align: middle;\n",
       "    }\n",
       "\n",
       "    .dataframe tbody tr th {\n",
       "        vertical-align: top;\n",
       "    }\n",
       "\n",
       "    .dataframe thead th {\n",
       "        text-align: right;\n",
       "    }\n",
       "</style>\n",
       "<table border=\"1\" class=\"dataframe\">\n",
       "  <thead>\n",
       "    <tr style=\"text-align: right;\">\n",
       "      <th></th>\n",
       "      <th>id</th>\n",
       "      <th>station_name</th>\n",
       "      <th>address</th>\n",
       "      <th>total_docks</th>\n",
       "      <th>docks_in_service</th>\n",
       "      <th>available_docks</th>\n",
       "      <th>available_bikes</th>\n",
       "      <th>percent_full</th>\n",
       "      <th>status</th>\n",
       "      <th>latitude</th>\n",
       "      <th>...</th>\n",
       "      <th>ab_daily_mean</th>\n",
       "      <th>ab_monthly_mean</th>\n",
       "      <th>ab_weekly_mean</th>\n",
       "      <th>ab_daily_median</th>\n",
       "      <th>ab_monthly_median</th>\n",
       "      <th>ab_weekly_median</th>\n",
       "      <th>last_1w_hourly_mean</th>\n",
       "      <th>last_1w_daily_mean</th>\n",
       "      <th>last_2w_hourly_mean</th>\n",
       "      <th>last_2w_daily_mean</th>\n",
       "    </tr>\n",
       "    <tr>\n",
       "      <th>ts</th>\n",
       "      <th></th>\n",
       "      <th></th>\n",
       "      <th></th>\n",
       "      <th></th>\n",
       "      <th></th>\n",
       "      <th></th>\n",
       "      <th></th>\n",
       "      <th></th>\n",
       "      <th></th>\n",
       "      <th></th>\n",
       "      <th></th>\n",
       "      <th></th>\n",
       "      <th></th>\n",
       "      <th></th>\n",
       "      <th></th>\n",
       "      <th></th>\n",
       "      <th></th>\n",
       "      <th></th>\n",
       "      <th></th>\n",
       "      <th></th>\n",
       "      <th></th>\n",
       "    </tr>\n",
       "  </thead>\n",
       "  <tbody>\n",
       "    <tr>\n",
       "      <th>2018-10-12 00:05:00</th>\n",
       "      <td>219.0</td>\n",
       "      <td>Damen Ave &amp; Cortland St</td>\n",
       "      <td>Damen Ave &amp; Cortland St</td>\n",
       "      <td>15.0</td>\n",
       "      <td>15.0</td>\n",
       "      <td>6.0</td>\n",
       "      <td>9.0</td>\n",
       "      <td>60.0</td>\n",
       "      <td>0</td>\n",
       "      <td>41.915972</td>\n",
       "      <td>...</td>\n",
       "      <td>7.944129</td>\n",
       "      <td>9.364676</td>\n",
       "      <td>7.869544</td>\n",
       "      <td>7.0</td>\n",
       "      <td>9.0</td>\n",
       "      <td>7.0</td>\n",
       "      <td>5.0</td>\n",
       "      <td>8.208333</td>\n",
       "      <td>14.0</td>\n",
       "      <td>8.194444</td>\n",
       "    </tr>\n",
       "    <tr>\n",
       "      <th>2018-10-12 00:15:00</th>\n",
       "      <td>219.0</td>\n",
       "      <td>Damen Ave &amp; Cortland St</td>\n",
       "      <td>Damen Ave &amp; Cortland St</td>\n",
       "      <td>15.0</td>\n",
       "      <td>15.0</td>\n",
       "      <td>6.0</td>\n",
       "      <td>9.0</td>\n",
       "      <td>60.0</td>\n",
       "      <td>0</td>\n",
       "      <td>41.915972</td>\n",
       "      <td>...</td>\n",
       "      <td>7.944129</td>\n",
       "      <td>9.364676</td>\n",
       "      <td>7.869544</td>\n",
       "      <td>7.0</td>\n",
       "      <td>9.0</td>\n",
       "      <td>7.0</td>\n",
       "      <td>5.0</td>\n",
       "      <td>8.270833</td>\n",
       "      <td>14.0</td>\n",
       "      <td>8.145833</td>\n",
       "    </tr>\n",
       "    <tr>\n",
       "      <th>2018-10-12 00:25:00</th>\n",
       "      <td>219.0</td>\n",
       "      <td>Damen Ave &amp; Cortland St</td>\n",
       "      <td>Damen Ave &amp; Cortland St</td>\n",
       "      <td>15.0</td>\n",
       "      <td>15.0</td>\n",
       "      <td>6.0</td>\n",
       "      <td>9.0</td>\n",
       "      <td>60.0</td>\n",
       "      <td>0</td>\n",
       "      <td>41.915972</td>\n",
       "      <td>...</td>\n",
       "      <td>7.944129</td>\n",
       "      <td>9.364676</td>\n",
       "      <td>7.869544</td>\n",
       "      <td>7.0</td>\n",
       "      <td>9.0</td>\n",
       "      <td>7.0</td>\n",
       "      <td>5.0</td>\n",
       "      <td>8.340278</td>\n",
       "      <td>14.0</td>\n",
       "      <td>8.097222</td>\n",
       "    </tr>\n",
       "    <tr>\n",
       "      <th>2018-10-12 00:35:00</th>\n",
       "      <td>219.0</td>\n",
       "      <td>Damen Ave &amp; Cortland St</td>\n",
       "      <td>Damen Ave &amp; Cortland St</td>\n",
       "      <td>15.0</td>\n",
       "      <td>15.0</td>\n",
       "      <td>6.0</td>\n",
       "      <td>9.0</td>\n",
       "      <td>60.0</td>\n",
       "      <td>0</td>\n",
       "      <td>41.915972</td>\n",
       "      <td>...</td>\n",
       "      <td>7.944129</td>\n",
       "      <td>9.364676</td>\n",
       "      <td>7.869544</td>\n",
       "      <td>7.0</td>\n",
       "      <td>9.0</td>\n",
       "      <td>7.0</td>\n",
       "      <td>5.0</td>\n",
       "      <td>8.409722</td>\n",
       "      <td>14.0</td>\n",
       "      <td>8.048611</td>\n",
       "    </tr>\n",
       "    <tr>\n",
       "      <th>2018-10-12 00:45:00</th>\n",
       "      <td>219.0</td>\n",
       "      <td>Damen Ave &amp; Cortland St</td>\n",
       "      <td>Damen Ave &amp; Cortland St</td>\n",
       "      <td>15.0</td>\n",
       "      <td>15.0</td>\n",
       "      <td>6.0</td>\n",
       "      <td>9.0</td>\n",
       "      <td>60.0</td>\n",
       "      <td>0</td>\n",
       "      <td>41.915972</td>\n",
       "      <td>...</td>\n",
       "      <td>7.944129</td>\n",
       "      <td>9.364676</td>\n",
       "      <td>7.869544</td>\n",
       "      <td>7.0</td>\n",
       "      <td>9.0</td>\n",
       "      <td>7.0</td>\n",
       "      <td>5.0</td>\n",
       "      <td>8.479167</td>\n",
       "      <td>14.0</td>\n",
       "      <td>8.000000</td>\n",
       "    </tr>\n",
       "  </tbody>\n",
       "</table>\n",
       "<p>5 rows × 30 columns</p>\n",
       "</div>"
      ],
      "text/plain": [
       "                        id             station_name                  address  \\\n",
       "ts                                                                             \n",
       "2018-10-12 00:05:00  219.0  Damen Ave & Cortland St  Damen Ave & Cortland St   \n",
       "2018-10-12 00:15:00  219.0  Damen Ave & Cortland St  Damen Ave & Cortland St   \n",
       "2018-10-12 00:25:00  219.0  Damen Ave & Cortland St  Damen Ave & Cortland St   \n",
       "2018-10-12 00:35:00  219.0  Damen Ave & Cortland St  Damen Ave & Cortland St   \n",
       "2018-10-12 00:45:00  219.0  Damen Ave & Cortland St  Damen Ave & Cortland St   \n",
       "\n",
       "                     total_docks  docks_in_service  available_docks  \\\n",
       "ts                                                                    \n",
       "2018-10-12 00:05:00         15.0              15.0              6.0   \n",
       "2018-10-12 00:15:00         15.0              15.0              6.0   \n",
       "2018-10-12 00:25:00         15.0              15.0              6.0   \n",
       "2018-10-12 00:35:00         15.0              15.0              6.0   \n",
       "2018-10-12 00:45:00         15.0              15.0              6.0   \n",
       "\n",
       "                     available_bikes  percent_full  status   latitude  \\\n",
       "ts                                                                      \n",
       "2018-10-12 00:05:00              9.0          60.0       0  41.915972   \n",
       "2018-10-12 00:15:00              9.0          60.0       0  41.915972   \n",
       "2018-10-12 00:25:00              9.0          60.0       0  41.915972   \n",
       "2018-10-12 00:35:00              9.0          60.0       0  41.915972   \n",
       "2018-10-12 00:45:00              9.0          60.0       0  41.915972   \n",
       "\n",
       "                            ...          ab_daily_mean  ab_monthly_mean  \\\n",
       "ts                          ...                                           \n",
       "2018-10-12 00:05:00         ...               7.944129         9.364676   \n",
       "2018-10-12 00:15:00         ...               7.944129         9.364676   \n",
       "2018-10-12 00:25:00         ...               7.944129         9.364676   \n",
       "2018-10-12 00:35:00         ...               7.944129         9.364676   \n",
       "2018-10-12 00:45:00         ...               7.944129         9.364676   \n",
       "\n",
       "                     ab_weekly_mean  ab_daily_median  ab_monthly_median  \\\n",
       "ts                                                                        \n",
       "2018-10-12 00:05:00        7.869544              7.0                9.0   \n",
       "2018-10-12 00:15:00        7.869544              7.0                9.0   \n",
       "2018-10-12 00:25:00        7.869544              7.0                9.0   \n",
       "2018-10-12 00:35:00        7.869544              7.0                9.0   \n",
       "2018-10-12 00:45:00        7.869544              7.0                9.0   \n",
       "\n",
       "                     ab_weekly_median  last_1w_hourly_mean  \\\n",
       "ts                                                           \n",
       "2018-10-12 00:05:00               7.0                  5.0   \n",
       "2018-10-12 00:15:00               7.0                  5.0   \n",
       "2018-10-12 00:25:00               7.0                  5.0   \n",
       "2018-10-12 00:35:00               7.0                  5.0   \n",
       "2018-10-12 00:45:00               7.0                  5.0   \n",
       "\n",
       "                     last_1w_daily_mean  last_2w_hourly_mean  \\\n",
       "ts                                                             \n",
       "2018-10-12 00:05:00            8.208333                 14.0   \n",
       "2018-10-12 00:15:00            8.270833                 14.0   \n",
       "2018-10-12 00:25:00            8.340278                 14.0   \n",
       "2018-10-12 00:35:00            8.409722                 14.0   \n",
       "2018-10-12 00:45:00            8.479167                 14.0   \n",
       "\n",
       "                     last_2w_daily_mean  \n",
       "ts                                       \n",
       "2018-10-12 00:05:00            8.194444  \n",
       "2018-10-12 00:15:00            8.145833  \n",
       "2018-10-12 00:25:00            8.097222  \n",
       "2018-10-12 00:35:00            8.048611  \n",
       "2018-10-12 00:45:00            8.000000  \n",
       "\n",
       "[5 rows x 30 columns]"
      ]
     },
     "execution_count": 879,
     "metadata": {},
     "output_type": "execute_result"
    }
   ],
   "source": [
    "test_df.head()"
   ]
  },
  {
   "cell_type": "code",
   "execution_count": 880,
   "metadata": {},
   "outputs": [
    {
     "name": "stdout",
     "output_type": "stream",
     "text": [
      "[1]\tvalid_0's l2: 21.8738\tvalid_1's l2: 19.0249\n",
      "Training until validation scores don't improve for 10 rounds.\n",
      "[2]\tvalid_0's l2: 21.3925\tvalid_1's l2: 18.4853\n",
      "[3]\tvalid_0's l2: 21.5646\tvalid_1's l2: 18.264\n",
      "[4]\tvalid_0's l2: 21.7492\tvalid_1's l2: 18.1617\n",
      "[5]\tvalid_0's l2: 21.235\tvalid_1's l2: 17.7964\n",
      "[6]\tvalid_0's l2: 20.4125\tvalid_1's l2: 16.9119\n",
      "[7]\tvalid_0's l2: 19.7734\tvalid_1's l2: 16.438\n",
      "[8]\tvalid_0's l2: 19.3489\tvalid_1's l2: 16.1562\n",
      "[9]\tvalid_0's l2: 19.4508\tvalid_1's l2: 16.193\n",
      "[10]\tvalid_0's l2: 19.1981\tvalid_1's l2: 15.8945\n",
      "[11]\tvalid_0's l2: 19.0098\tvalid_1's l2: 15.8294\n",
      "[12]\tvalid_0's l2: 19.0195\tvalid_1's l2: 15.7617\n",
      "[13]\tvalid_0's l2: 19.1208\tvalid_1's l2: 15.3403\n",
      "[14]\tvalid_0's l2: 19.6366\tvalid_1's l2: 14.7205\n",
      "[15]\tvalid_0's l2: 19.6127\tvalid_1's l2: 14.6534\n",
      "[16]\tvalid_0's l2: 19.4183\tvalid_1's l2: 14.6927\n",
      "[17]\tvalid_0's l2: 19.3779\tvalid_1's l2: 14.6936\n",
      "[18]\tvalid_0's l2: 19.2793\tvalid_1's l2: 14.7489\n",
      "[19]\tvalid_0's l2: 19.3611\tvalid_1's l2: 14.7261\n",
      "[20]\tvalid_0's l2: 19.6255\tvalid_1's l2: 14.6851\n",
      "[21]\tvalid_0's l2: 19.6997\tvalid_1's l2: 14.9221\n",
      "Early stopping, best iteration is:\n",
      "[11]\tvalid_0's l2: 19.0098\tvalid_1's l2: 15.8294\n"
     ]
    }
   ],
   "source": [
    "params = {\n",
    "    'objective': 'regression_l2',\n",
    "    'num_threds': 4,\n",
    "    'max_depth': 5,\n",
    "    'num_boost_rounds': 100,\n",
    "    'bagging_fraction': 0.75,\n",
    "    'bagging_freq': 3,\n",
    "    'feature_fraction': 0.75\n",
    "}\n",
    "bst = lgb.train(params, train_data, valid_sets=[val_data, test_data], early_stopping_rounds=10)"
   ]
  },
  {
   "cell_type": "code",
   "execution_count": 881,
   "metadata": {},
   "outputs": [],
   "source": [
    "y_true = test_df['available_bikes']\n",
    "y_hat = bst.predict(test_df[xs_features], num_iteration=bst.best_iteration)"
   ]
  },
  {
   "cell_type": "code",
   "execution_count": 885,
   "metadata": {},
   "outputs": [
    {
     "data": {
      "text/plain": [
       "3.978622386886989"
      ]
     },
     "execution_count": 885,
     "metadata": {},
     "output_type": "execute_result"
    }
   ],
   "source": [
    "# rmse\n",
    "np.sqrt(np.mean((y_true - y_hat)**2))"
   ]
  },
  {
   "cell_type": "code",
   "execution_count": 883,
   "metadata": {},
   "outputs": [
    {
     "data": {
      "text/plain": [
       "<matplotlib.legend.Legend at 0x27cba7fd0>"
      ]
     },
     "execution_count": 883,
     "metadata": {},
     "output_type": "execute_result"
    },
    {
     "data": {
      "image/png": "[encoded data removed]",
      "text/plain": [
       "<Figure size 432x288 with 1 Axes>"
      ]
     },
     "metadata": {
      "needs_background": "light"
     },
     "output_type": "display_data"
    }
   ],
   "source": [
    "plt.plot(test_df.index, y_true, label='y_true')\n",
    "plt.plot(test_df.index, y_hat, label='y_hat')\n",
    "plt.xticks(rotation=90)\n",
    "plt.legend()"
   ]
  },
  {
   "cell_type": "code",
   "execution_count": 884,
   "metadata": {},
   "outputs": [
    {
     "data": {
      "text/plain": [
       "<matplotlib.axes._subplots.AxesSubplot at 0x27135e048>"
      ]
     },
     "execution_count": 884,
     "metadata": {},
     "output_type": "execute_result"
    },
    {
     "data": {
      "image/png": "[encoded data removed]",
      "text/plain": [
       "<Figure size 432x288 with 1 Axes>"
      ]
     },
     "metadata": {
      "needs_background": "light"
     },
     "output_type": "display_data"
    }
   ],
   "source": [
    "# plot feature importance\n",
    "lgb.plot_importance(bst)"
   ]
  },
  {
   "cell_type": "markdown",
   "metadata": {},
   "source": [
    "## TODO: Hyperparameter opt"
   ]
  }
 ],
 "metadata": {
  "kernelspec": {
   "display_name": "Python 3",
   "language": "python",
   "name": "python3"
  },
  "language_info": {
   "codemirror_mode": {
    "name": "ipython",
    "version": 3
   },
   "file_extension": ".py",
   "mimetype": "text/x-python",
   "name": "python",
   "nbconvert_exporter": "python",
   "pygments_lexer": "ipython3",
   "version": "3.6.5"
  }
 },
 "nbformat": 4,
 "nbformat_minor": 2
}
