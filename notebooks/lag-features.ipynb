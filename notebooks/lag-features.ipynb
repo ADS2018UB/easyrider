{
 "cells": [
  {
   "cell_type": "markdown",
   "metadata": {},
   "source": [
    "## Compute lag features for gradient boosting model"
   ]
  },
  {
   "cell_type": "code",
   "execution_count": 536,
   "metadata": {},
   "outputs": [],
   "source": [
    "import pandas as pd\n",
    "import numpy as np\n",
    "import datetime\n",
    "\n",
    "import matplotlib.pyplot as plt\n",
    "%matplotlib inline\n",
    "\n",
    "import warnings\n",
    "warnings.filterwarnings('ignore')"
   ]
  },
  {
   "cell_type": "code",
   "execution_count": 464,
   "metadata": {},
   "outputs": [],
   "source": [
    "colnames = ['id', 'ts', 'station_name', 'address', 'total_docks',\n",
    "           'docks_in_service', 'available_docks', 'available_bikes',\n",
    "           'percent_full', 'status', 'latitude', 'longitude', 'location', 'record']\n",
    "docks_df = pd.read_csv('/Users/jordi/Downloads/chicago_docks.csv', names=colnames)"
   ]
  },
  {
   "cell_type": "code",
   "execution_count": 465,
   "metadata": {},
   "outputs": [],
   "source": [
    "# drop unnecessary columns\n",
    "docks_df = docks_df.drop(columns=['location', 'record'])"
   ]
  },
  {
   "cell_type": "code",
   "execution_count": 466,
   "metadata": {},
   "outputs": [
    {
     "data": {
      "text/html": [
       "<div>\n",
       "<style scoped>\n",
       "    .dataframe tbody tr th:only-of-type {\n",
       "        vertical-align: middle;\n",
       "    }\n",
       "\n",
       "    .dataframe tbody tr th {\n",
       "        vertical-align: top;\n",
       "    }\n",
       "\n",
       "    .dataframe thead th {\n",
       "        text-align: right;\n",
       "    }\n",
       "</style>\n",
       "<table border=\"1\" class=\"dataframe\">\n",
       "  <thead>\n",
       "    <tr style=\"text-align: right;\">\n",
       "      <th></th>\n",
       "      <th>id</th>\n",
       "      <th>ts</th>\n",
       "      <th>station_name</th>\n",
       "      <th>address</th>\n",
       "      <th>total_docks</th>\n",
       "      <th>docks_in_service</th>\n",
       "      <th>available_docks</th>\n",
       "      <th>available_bikes</th>\n",
       "      <th>percent_full</th>\n",
       "      <th>status</th>\n",
       "      <th>latitude</th>\n",
       "      <th>longitude</th>\n",
       "    </tr>\n",
       "  </thead>\n",
       "  <tbody>\n",
       "    <tr>\n",
       "      <th>0</th>\n",
       "      <td>2</td>\n",
       "      <td>10/26/2018 11:55:13 AM</td>\n",
       "      <td>Buckingham Fountain</td>\n",
       "      <td>Buckingham Fountain</td>\n",
       "      <td>39</td>\n",
       "      <td>39</td>\n",
       "      <td>36</td>\n",
       "      <td>3</td>\n",
       "      <td>8</td>\n",
       "      <td>In Service</td>\n",
       "      <td>41.876470</td>\n",
       "      <td>-87.620340</td>\n",
       "    </tr>\n",
       "    <tr>\n",
       "      <th>1</th>\n",
       "      <td>3</td>\n",
       "      <td>10/26/2018 11:55:13 AM</td>\n",
       "      <td>Shedd Aquarium</td>\n",
       "      <td>Shedd Aquarium</td>\n",
       "      <td>55</td>\n",
       "      <td>54</td>\n",
       "      <td>50</td>\n",
       "      <td>4</td>\n",
       "      <td>7</td>\n",
       "      <td>In Service</td>\n",
       "      <td>41.867226</td>\n",
       "      <td>-87.615355</td>\n",
       "    </tr>\n",
       "    <tr>\n",
       "      <th>2</th>\n",
       "      <td>4</td>\n",
       "      <td>10/26/2018 11:55:13 AM</td>\n",
       "      <td>Burnham Harbor</td>\n",
       "      <td>Burnham Harbor</td>\n",
       "      <td>23</td>\n",
       "      <td>23</td>\n",
       "      <td>9</td>\n",
       "      <td>14</td>\n",
       "      <td>61</td>\n",
       "      <td>In Service</td>\n",
       "      <td>41.856268</td>\n",
       "      <td>-87.613348</td>\n",
       "    </tr>\n",
       "    <tr>\n",
       "      <th>3</th>\n",
       "      <td>5</td>\n",
       "      <td>10/26/2018 11:55:13 AM</td>\n",
       "      <td>State St &amp; Harrison St</td>\n",
       "      <td>State St &amp; Harrison St</td>\n",
       "      <td>23</td>\n",
       "      <td>22</td>\n",
       "      <td>20</td>\n",
       "      <td>2</td>\n",
       "      <td>9</td>\n",
       "      <td>In Service</td>\n",
       "      <td>41.874053</td>\n",
       "      <td>-87.627716</td>\n",
       "    </tr>\n",
       "    <tr>\n",
       "      <th>4</th>\n",
       "      <td>6</td>\n",
       "      <td>10/26/2018 11:55:13 AM</td>\n",
       "      <td>Dusable Harbor</td>\n",
       "      <td>Dusable Harbor</td>\n",
       "      <td>39</td>\n",
       "      <td>38</td>\n",
       "      <td>32</td>\n",
       "      <td>6</td>\n",
       "      <td>16</td>\n",
       "      <td>In Service</td>\n",
       "      <td>41.886976</td>\n",
       "      <td>-87.612813</td>\n",
       "    </tr>\n",
       "  </tbody>\n",
       "</table>\n",
       "</div>"
      ],
      "text/plain": [
       "   id                      ts            station_name                 address  \\\n",
       "0   2  10/26/2018 11:55:13 AM     Buckingham Fountain     Buckingham Fountain   \n",
       "1   3  10/26/2018 11:55:13 AM          Shedd Aquarium          Shedd Aquarium   \n",
       "2   4  10/26/2018 11:55:13 AM          Burnham Harbor          Burnham Harbor   \n",
       "3   5  10/26/2018 11:55:13 AM  State St & Harrison St  State St & Harrison St   \n",
       "4   6  10/26/2018 11:55:13 AM          Dusable Harbor          Dusable Harbor   \n",
       "\n",
       "   total_docks  docks_in_service  available_docks  available_bikes  \\\n",
       "0           39                39               36                3   \n",
       "1           55                54               50                4   \n",
       "2           23                23                9               14   \n",
       "3           23                22               20                2   \n",
       "4           39                38               32                6   \n",
       "\n",
       "   percent_full      status   latitude  longitude  \n",
       "0             8  In Service  41.876470 -87.620340  \n",
       "1             7  In Service  41.867226 -87.615355  \n",
       "2            61  In Service  41.856268 -87.613348  \n",
       "3             9  In Service  41.874053 -87.627716  \n",
       "4            16  In Service  41.886976 -87.612813  "
      ]
     },
     "execution_count": 466,
     "metadata": {},
     "output_type": "execute_result"
    }
   ],
   "source": [
    "docks_df.head()"
   ]
  },
  {
   "cell_type": "code",
   "execution_count": 467,
   "metadata": {},
   "outputs": [
    {
     "data": {
      "text/plain": [
       "(615,)"
      ]
     },
     "execution_count": 467,
     "metadata": {},
     "output_type": "execute_result"
    }
   ],
   "source": [
    "docks_df.id.unique().shape"
   ]
  },
  {
   "cell_type": "code",
   "execution_count": 468,
   "metadata": {},
   "outputs": [],
   "source": [
    "stations_df = pd.read_csv('./datasets/chicago_stations.csv')"
   ]
  },
  {
   "cell_type": "code",
   "execution_count": 469,
   "metadata": {},
   "outputs": [
    {
     "data": {
      "text/html": [
       "<div>\n",
       "<style scoped>\n",
       "    .dataframe tbody tr th:only-of-type {\n",
       "        vertical-align: middle;\n",
       "    }\n",
       "\n",
       "    .dataframe tbody tr th {\n",
       "        vertical-align: top;\n",
       "    }\n",
       "\n",
       "    .dataframe thead th {\n",
       "        text-align: right;\n",
       "    }\n",
       "</style>\n",
       "<table border=\"1\" class=\"dataframe\">\n",
       "  <thead>\n",
       "    <tr style=\"text-align: right;\">\n",
       "      <th></th>\n",
       "      <th>Unnamed: 0</th>\n",
       "      <th>id</th>\n",
       "      <th>station_name</th>\n",
       "      <th>address</th>\n",
       "      <th>lat</th>\n",
       "      <th>lon</th>\n",
       "    </tr>\n",
       "  </thead>\n",
       "  <tbody>\n",
       "    <tr>\n",
       "      <th>0</th>\n",
       "      <td>0</td>\n",
       "      <td>2</td>\n",
       "      <td>Buckingham Fountain</td>\n",
       "      <td>Buckingham Fountain</td>\n",
       "      <td>41.876470</td>\n",
       "      <td>-87.620340</td>\n",
       "    </tr>\n",
       "    <tr>\n",
       "      <th>1</th>\n",
       "      <td>1</td>\n",
       "      <td>3</td>\n",
       "      <td>Shedd Aquarium</td>\n",
       "      <td>Shedd Aquarium</td>\n",
       "      <td>41.867226</td>\n",
       "      <td>-87.615355</td>\n",
       "    </tr>\n",
       "    <tr>\n",
       "      <th>2</th>\n",
       "      <td>2</td>\n",
       "      <td>4</td>\n",
       "      <td>Burnham Harbor</td>\n",
       "      <td>Burnham Harbor</td>\n",
       "      <td>41.856268</td>\n",
       "      <td>-87.613348</td>\n",
       "    </tr>\n",
       "    <tr>\n",
       "      <th>3</th>\n",
       "      <td>3</td>\n",
       "      <td>5</td>\n",
       "      <td>State St &amp; Harrison St</td>\n",
       "      <td>State St &amp; Harrison St</td>\n",
       "      <td>41.874053</td>\n",
       "      <td>-87.627716</td>\n",
       "    </tr>\n",
       "    <tr>\n",
       "      <th>4</th>\n",
       "      <td>4</td>\n",
       "      <td>6</td>\n",
       "      <td>Dusable Harbor</td>\n",
       "      <td>Dusable Harbor</td>\n",
       "      <td>41.886976</td>\n",
       "      <td>-87.612813</td>\n",
       "    </tr>\n",
       "  </tbody>\n",
       "</table>\n",
       "</div>"
      ],
      "text/plain": [
       "   Unnamed: 0  id            station_name                 address        lat  \\\n",
       "0           0   2     Buckingham Fountain     Buckingham Fountain  41.876470   \n",
       "1           1   3          Shedd Aquarium          Shedd Aquarium  41.867226   \n",
       "2           2   4          Burnham Harbor          Burnham Harbor  41.856268   \n",
       "3           3   5  State St & Harrison St  State St & Harrison St  41.874053   \n",
       "4           4   6          Dusable Harbor          Dusable Harbor  41.886976   \n",
       "\n",
       "         lon  \n",
       "0 -87.620340  \n",
       "1 -87.615355  \n",
       "2 -87.613348  \n",
       "3 -87.627716  \n",
       "4 -87.612813  "
      ]
     },
     "execution_count": 469,
     "metadata": {},
     "output_type": "execute_result"
    }
   ],
   "source": [
    "stations_df.head()"
   ]
  },
  {
   "cell_type": "code",
   "execution_count": 470,
   "metadata": {},
   "outputs": [
    {
     "data": {
      "text/plain": [
       "(615,)"
      ]
     },
     "execution_count": 470,
     "metadata": {},
     "output_type": "execute_result"
    }
   ],
   "source": [
    "stations_df.id.unique().shape"
   ]
  },
  {
   "cell_type": "code",
   "execution_count": 471,
   "metadata": {},
   "outputs": [],
   "source": [
    "station_ids = stations_df.id.unique()"
   ]
  },
  {
   "cell_type": "markdown",
   "metadata": {},
   "source": [
    "## Preprocess at station level"
   ]
  },
  {
   "cell_type": "code",
   "execution_count": 722,
   "metadata": {},
   "outputs": [],
   "source": [
    "station_id = station_ids[10]\n",
    "df = docks_df[docks_df.id == station_id]\n",
    "df['ts'] = pd.to_datetime(df.ts, infer_datetime_format=True)"
   ]
  },
  {
   "cell_type": "code",
   "execution_count": 723,
   "metadata": {},
   "outputs": [
    {
     "data": {
      "text/plain": [
       "(Timestamp('2017-01-01 00:05:11'), Timestamp('2018-10-26 11:55:13'))"
      ]
     },
     "execution_count": 723,
     "metadata": {},
     "output_type": "execute_result"
    }
   ],
   "source": [
    "df.ts.min(), df.ts.max()"
   ]
  },
  {
   "cell_type": "code",
   "execution_count": 724,
   "metadata": {},
   "outputs": [],
   "source": [
    "# round ts every 5 minutes (seconds are not aligned)\n",
    "df.loc[:, 'ts'] = df.ts.dt.round('5min')\n",
    "df.sort_values(by='ts', inplace=True)"
   ]
  },
  {
   "cell_type": "code",
   "execution_count": 725,
   "metadata": {},
   "outputs": [],
   "source": [
    "# resample data, there are missing info gaps\n",
    "df = df.set_index('ts').resample('10Min', how='last', base=5).bfill()"
   ]
  },
  {
   "cell_type": "code",
   "execution_count": 726,
   "metadata": {},
   "outputs": [
    {
     "data": {
      "text/plain": [
       "<matplotlib.legend.Legend at 0x380cbe978>"
      ]
     },
     "execution_count": 726,
     "metadata": {},
     "output_type": "execute_result"
    },
    {
     "data": {
      "image/png": "[encoded data removed]",
      "text/plain": [
       "<Figure size 432x288 with 1 Axes>"
      ]
     },
     "metadata": {
      "needs_background": "light"
     },
     "output_type": "display_data"
    }
   ],
   "source": [
    "plt.plot(df.index, df.available_bikes, label='available_bikes')\n",
    "plt.xticks(rotation=90)\n",
    "plt.legend()"
   ]
  },
  {
   "cell_type": "code",
   "execution_count": 727,
   "metadata": {},
   "outputs": [],
   "source": [
    "# every hour we have 6 rows, one every 10 minutes\n",
    "entries_per_hour = 6"
   ]
  },
  {
   "cell_type": "code",
   "execution_count": 728,
   "metadata": {},
   "outputs": [],
   "source": [
    "# month of year\n",
    "df['month'] = df.index.month\n",
    "# quarter of year\n",
    "df['quarter'] = df.index.quarter\n",
    "# day of month\n",
    "df['day'] = df.index.day\n",
    "# hour of day\n",
    "df['hour'] = df.index.hour\n",
    "# quarter of hour\n",
    "df['quarter_hour'] = np.floor(df.index.minute / 15)\n",
    "# day of week\n",
    "df['dow'] = df.index.dayofweek\n",
    "# week of year\n",
    "df['week'] = df.index.weekofyear"
   ]
  },
  {
   "cell_type": "code",
   "execution_count": 729,
   "metadata": {},
   "outputs": [],
   "source": [
    "ab_daily_mean = df.groupby('day')['available_bikes'].mean()\n",
    "ab_monthly_mean = df.groupby('month')['available_bikes'].mean()\n",
    "ab_weekly_mean = df.groupby('week')['available_bikes'].mean()"
   ]
  },
  {
   "cell_type": "code",
   "execution_count": 730,
   "metadata": {},
   "outputs": [],
   "source": [
    "for i, x in zip(ab_daily_mean.index, ab_daily_mean):\n",
    "    df.loc[df.day == i, 'ab_daily_mean'] = x\n",
    "    \n",
    "for i, x in zip(ab_monthly_mean.index, ab_monthly_mean):\n",
    "    df.loc[df.month == i, 'ab_monthly_mean'] = x\n",
    "    \n",
    "for i, x in zip(ab_weekly_mean.index, ab_weekly_mean):\n",
    "    df.loc[df.week == i, 'ab_weekly_mean'] = x"
   ]
  },
  {
   "cell_type": "code",
   "execution_count": 731,
   "metadata": {},
   "outputs": [],
   "source": [
    "last_1w_hourly_mean = df.shift(entries_per_hour*24*7 - entries_per_hour)['available_bikes'].rolling(entries_per_hour).mean()\n",
    "last_1w_daily_mean = df.shift(entries_per_hour*24*7 - entries_per_hour*24)['available_bikes'].rolling(entries_per_hour*24).mean()\n",
    "last_2w_hourly_mean = df.shift(entries_per_hour*24*7*2 - entries_per_hour)['available_bikes'].rolling(entries_per_hour).mean()\n",
    "last_2w_daily_mean = df.shift(entries_per_hour*24*7*2 - entries_per_hour*24)['available_bikes'].rolling(entries_per_hour*24).mean()"
   ]
  },
  {
   "cell_type": "code",
   "execution_count": 732,
   "metadata": {},
   "outputs": [],
   "source": [
    "df['last_1w_hourly_mean'] = last_1w_hourly_mean\n",
    "df['last_1w_daily_mean'] = last_1w_daily_mean\n",
    "df['last_2w_hourly_mean'] = last_2w_hourly_mean\n",
    "df['last_2w_daily_mean'] = last_2w_daily_mean"
   ]
  },
  {
   "cell_type": "code",
   "execution_count": 733,
   "metadata": {},
   "outputs": [],
   "source": [
    "# set status to unknown when status is not available\n",
    "df.loc[pd.isna(df.status), 'status'] = 'Unknown'"
   ]
  },
  {
   "cell_type": "code",
   "execution_count": 734,
   "metadata": {},
   "outputs": [
    {
     "data": {
      "text/plain": [
       "Index(['id', 'station_name', 'address', 'total_docks', 'docks_in_service',\n",
       "       'available_docks', 'available_bikes', 'percent_full', 'status',\n",
       "       'latitude', 'longitude', 'month', 'quarter', 'day', 'hour',\n",
       "       'quarter_hour', 'dow', 'week', 'ab_daily_mean', 'ab_monthly_mean',\n",
       "       'ab_weekly_mean', 'last_1w_hourly_mean', 'last_1w_daily_mean',\n",
       "       'last_2w_hourly_mean', 'last_2w_daily_mean'],\n",
       "      dtype='object')"
      ]
     },
     "execution_count": 734,
     "metadata": {},
     "output_type": "execute_result"
    }
   ],
   "source": [
    "df.columns"
   ]
  },
  {
   "cell_type": "markdown",
   "metadata": {},
   "source": [
    "### Set train/test splits"
   ]
  },
  {
   "cell_type": "code",
   "execution_count": 735,
   "metadata": {},
   "outputs": [],
   "source": [
    "train_df = df.query('20170101 <= ts < 20180928')\n",
    "# 2 weeks for validation\n",
    "val_df = df.query('20180928 <= ts < 20181012')\n",
    "# 2 weeks for test\n",
    "test_df = df.query('ts >= 20181012')"
   ]
  },
  {
   "cell_type": "code",
   "execution_count": 736,
   "metadata": {},
   "outputs": [
    {
     "data": {
      "text/plain": [
       "((91440, 25), (2016, 25), (2088, 25))"
      ]
     },
     "execution_count": 736,
     "metadata": {},
     "output_type": "execute_result"
    }
   ],
   "source": [
    "train_df.shape, val_df.shape, test_df.shape"
   ]
  },
  {
   "cell_type": "code",
   "execution_count": 737,
   "metadata": {},
   "outputs": [],
   "source": [
    "# overwrite last_1w_hourly_mean, last_1w_daily_mean columns for the second test week \n",
    "# this info is not available at test time!\n",
    "idx = test_df.shift(freq=datetime.timedelta(weeks=1))[:entries_per_hour*24*7].index\n",
    "features = ['last_1w_hourly_mean', 'last_1w_daily_mean']\n",
    "test_df.loc[idx, features] = test_df.loc[idx - datetime.timedelta(weeks=1), features]"
   ]
  },
  {
   "cell_type": "code",
   "execution_count": 738,
   "metadata": {},
   "outputs": [],
   "source": [
    "# drop first 2 weeks in train, no info for last_1w/2w features\n",
    "train_df = train_df.iloc[entries_per_hour*24*7*2:]"
   ]
  },
  {
   "cell_type": "code",
   "execution_count": 739,
   "metadata": {},
   "outputs": [
    {
     "data": {
      "text/plain": [
       "((89424, 25), (2016, 25), (2088, 25))"
      ]
     },
     "execution_count": 739,
     "metadata": {},
     "output_type": "execute_result"
    }
   ],
   "source": [
    "train_df.shape, val_df.shape, test_df.shape"
   ]
  },
  {
   "cell_type": "code",
   "execution_count": 740,
   "metadata": {},
   "outputs": [
    {
     "data": {
      "text/plain": [
       "(Timestamp('2017-01-15 00:05:00', freq='10T'),\n",
       " Timestamp('2018-09-27 23:55:00', freq='10T'),\n",
       " Timestamp('2018-09-28 00:05:00', freq='10T'),\n",
       " Timestamp('2018-10-11 23:55:00', freq='10T'),\n",
       " Timestamp('2018-10-12 00:05:00', freq='10T'),\n",
       " Timestamp('2018-10-26 11:55:00', freq='10T'))"
      ]
     },
     "execution_count": 740,
     "metadata": {},
     "output_type": "execute_result"
    }
   ],
   "source": [
    "train_df.index.min(), train_df.index.max(), val_df.index.min(), val_df.index.max(), test_df.index.min(), test_df.index.max()"
   ]
  },
  {
   "cell_type": "code",
   "execution_count": 755,
   "metadata": {},
   "outputs": [],
   "source": [
    "import lightgbm as lgb\n",
    "from sklearn.preprocessing import LabelEncoder\n",
    "\n",
    "xs_features = ['total_docks', 'docks_in_service', 'status', 'ab_daily_mean', 'ab_monthly_mean', 'ab_weekly_mean',\n",
    "              'month', 'quarter', 'day', 'hour', 'quarter_hour', 'dow', 'week', 'last_1w_hourly_mean',\n",
    "              'last_1w_daily_mean', 'last_2w_hourly_mean', 'last_2w_daily_mean']\n",
    "target = ['available_bikes']\n",
    "\n",
    "le = LabelEncoder()\n",
    "train_df['status'] = le.fit_transform(train_df['status'])\n",
    "val_df['status'] = le.transform(val_df['status'])\n",
    "test_df['status'] = le.transform(test_df['status'])\n",
    "\n",
    "train_data = lgb.Dataset(train_df[xs_features], label=train_df[target],\n",
    "                        feature_name=xs_features, categorical_feature=['status'])\n",
    "val_data = lgb.Dataset(val_df[xs_features], label=val_df[target],\n",
    "                      feature_name=xs_features, categorical_feature=['status'], reference=train_data)\n",
    "test_data = lgb.Dataset(test_df[xs_features], label=test_df[target],\n",
    "                       feature_name=xs_features, categorical_feature=['status'])"
   ]
  },
  {
   "cell_type": "code",
   "execution_count": 756,
   "metadata": {},
   "outputs": [
    {
     "data": {
      "text/html": [
       "<div>\n",
       "<style scoped>\n",
       "    .dataframe tbody tr th:only-of-type {\n",
       "        vertical-align: middle;\n",
       "    }\n",
       "\n",
       "    .dataframe tbody tr th {\n",
       "        vertical-align: top;\n",
       "    }\n",
       "\n",
       "    .dataframe thead th {\n",
       "        text-align: right;\n",
       "    }\n",
       "</style>\n",
       "<table border=\"1\" class=\"dataframe\">\n",
       "  <thead>\n",
       "    <tr style=\"text-align: right;\">\n",
       "      <th></th>\n",
       "      <th>id</th>\n",
       "      <th>station_name</th>\n",
       "      <th>address</th>\n",
       "      <th>total_docks</th>\n",
       "      <th>docks_in_service</th>\n",
       "      <th>available_docks</th>\n",
       "      <th>available_bikes</th>\n",
       "      <th>percent_full</th>\n",
       "      <th>status</th>\n",
       "      <th>latitude</th>\n",
       "      <th>...</th>\n",
       "      <th>quarter_hour</th>\n",
       "      <th>dow</th>\n",
       "      <th>week</th>\n",
       "      <th>ab_daily_mean</th>\n",
       "      <th>ab_monthly_mean</th>\n",
       "      <th>ab_weekly_mean</th>\n",
       "      <th>last_1w_hourly_mean</th>\n",
       "      <th>last_1w_daily_mean</th>\n",
       "      <th>last_2w_hourly_mean</th>\n",
       "      <th>last_2w_daily_mean</th>\n",
       "    </tr>\n",
       "    <tr>\n",
       "      <th>ts</th>\n",
       "      <th></th>\n",
       "      <th></th>\n",
       "      <th></th>\n",
       "      <th></th>\n",
       "      <th></th>\n",
       "      <th></th>\n",
       "      <th></th>\n",
       "      <th></th>\n",
       "      <th></th>\n",
       "      <th></th>\n",
       "      <th></th>\n",
       "      <th></th>\n",
       "      <th></th>\n",
       "      <th></th>\n",
       "      <th></th>\n",
       "      <th></th>\n",
       "      <th></th>\n",
       "      <th></th>\n",
       "      <th></th>\n",
       "      <th></th>\n",
       "      <th></th>\n",
       "    </tr>\n",
       "  </thead>\n",
       "  <tbody>\n",
       "    <tr>\n",
       "      <th>2018-10-12 00:05:00</th>\n",
       "      <td>14.0</td>\n",
       "      <td>Morgan St &amp; 18th St</td>\n",
       "      <td>Morgan St &amp; 18th St</td>\n",
       "      <td>15.0</td>\n",
       "      <td>15.0</td>\n",
       "      <td>8.0</td>\n",
       "      <td>7.0</td>\n",
       "      <td>47.0</td>\n",
       "      <td>0</td>\n",
       "      <td>41.858086</td>\n",
       "      <td>...</td>\n",
       "      <td>0.0</td>\n",
       "      <td>4</td>\n",
       "      <td>41</td>\n",
       "      <td>7.597222</td>\n",
       "      <td>8.411136</td>\n",
       "      <td>8.169147</td>\n",
       "      <td>9.166667</td>\n",
       "      <td>9.756944</td>\n",
       "      <td>13.0</td>\n",
       "      <td>8.381944</td>\n",
       "    </tr>\n",
       "    <tr>\n",
       "      <th>2018-10-12 00:15:00</th>\n",
       "      <td>14.0</td>\n",
       "      <td>Morgan St &amp; 18th St</td>\n",
       "      <td>Morgan St &amp; 18th St</td>\n",
       "      <td>15.0</td>\n",
       "      <td>15.0</td>\n",
       "      <td>8.0</td>\n",
       "      <td>7.0</td>\n",
       "      <td>47.0</td>\n",
       "      <td>0</td>\n",
       "      <td>41.858086</td>\n",
       "      <td>...</td>\n",
       "      <td>1.0</td>\n",
       "      <td>4</td>\n",
       "      <td>41</td>\n",
       "      <td>7.597222</td>\n",
       "      <td>8.411136</td>\n",
       "      <td>8.169147</td>\n",
       "      <td>9.000000</td>\n",
       "      <td>9.777778</td>\n",
       "      <td>13.0</td>\n",
       "      <td>8.340278</td>\n",
       "    </tr>\n",
       "    <tr>\n",
       "      <th>2018-10-12 00:25:00</th>\n",
       "      <td>14.0</td>\n",
       "      <td>Morgan St &amp; 18th St</td>\n",
       "      <td>Morgan St &amp; 18th St</td>\n",
       "      <td>15.0</td>\n",
       "      <td>15.0</td>\n",
       "      <td>8.0</td>\n",
       "      <td>7.0</td>\n",
       "      <td>47.0</td>\n",
       "      <td>0</td>\n",
       "      <td>41.858086</td>\n",
       "      <td>...</td>\n",
       "      <td>1.0</td>\n",
       "      <td>4</td>\n",
       "      <td>41</td>\n",
       "      <td>7.597222</td>\n",
       "      <td>8.411136</td>\n",
       "      <td>8.169147</td>\n",
       "      <td>9.000000</td>\n",
       "      <td>9.805556</td>\n",
       "      <td>13.0</td>\n",
       "      <td>8.298611</td>\n",
       "    </tr>\n",
       "    <tr>\n",
       "      <th>2018-10-12 00:35:00</th>\n",
       "      <td>14.0</td>\n",
       "      <td>Morgan St &amp; 18th St</td>\n",
       "      <td>Morgan St &amp; 18th St</td>\n",
       "      <td>15.0</td>\n",
       "      <td>15.0</td>\n",
       "      <td>8.0</td>\n",
       "      <td>7.0</td>\n",
       "      <td>47.0</td>\n",
       "      <td>0</td>\n",
       "      <td>41.858086</td>\n",
       "      <td>...</td>\n",
       "      <td>2.0</td>\n",
       "      <td>4</td>\n",
       "      <td>41</td>\n",
       "      <td>7.597222</td>\n",
       "      <td>8.411136</td>\n",
       "      <td>8.169147</td>\n",
       "      <td>9.000000</td>\n",
       "      <td>9.833333</td>\n",
       "      <td>13.0</td>\n",
       "      <td>8.256944</td>\n",
       "    </tr>\n",
       "    <tr>\n",
       "      <th>2018-10-12 00:45:00</th>\n",
       "      <td>14.0</td>\n",
       "      <td>Morgan St &amp; 18th St</td>\n",
       "      <td>Morgan St &amp; 18th St</td>\n",
       "      <td>15.0</td>\n",
       "      <td>15.0</td>\n",
       "      <td>8.0</td>\n",
       "      <td>7.0</td>\n",
       "      <td>47.0</td>\n",
       "      <td>0</td>\n",
       "      <td>41.858086</td>\n",
       "      <td>...</td>\n",
       "      <td>3.0</td>\n",
       "      <td>4</td>\n",
       "      <td>41</td>\n",
       "      <td>7.597222</td>\n",
       "      <td>8.411136</td>\n",
       "      <td>8.169147</td>\n",
       "      <td>9.000000</td>\n",
       "      <td>9.861111</td>\n",
       "      <td>13.0</td>\n",
       "      <td>8.215278</td>\n",
       "    </tr>\n",
       "  </tbody>\n",
       "</table>\n",
       "<p>5 rows × 25 columns</p>\n",
       "</div>"
      ],
      "text/plain": [
       "                       id         station_name              address  \\\n",
       "ts                                                                    \n",
       "2018-10-12 00:05:00  14.0  Morgan St & 18th St  Morgan St & 18th St   \n",
       "2018-10-12 00:15:00  14.0  Morgan St & 18th St  Morgan St & 18th St   \n",
       "2018-10-12 00:25:00  14.0  Morgan St & 18th St  Morgan St & 18th St   \n",
       "2018-10-12 00:35:00  14.0  Morgan St & 18th St  Morgan St & 18th St   \n",
       "2018-10-12 00:45:00  14.0  Morgan St & 18th St  Morgan St & 18th St   \n",
       "\n",
       "                     total_docks  docks_in_service  available_docks  \\\n",
       "ts                                                                    \n",
       "2018-10-12 00:05:00         15.0              15.0              8.0   \n",
       "2018-10-12 00:15:00         15.0              15.0              8.0   \n",
       "2018-10-12 00:25:00         15.0              15.0              8.0   \n",
       "2018-10-12 00:35:00         15.0              15.0              8.0   \n",
       "2018-10-12 00:45:00         15.0              15.0              8.0   \n",
       "\n",
       "                     available_bikes  percent_full  status   latitude  \\\n",
       "ts                                                                      \n",
       "2018-10-12 00:05:00              7.0          47.0       0  41.858086   \n",
       "2018-10-12 00:15:00              7.0          47.0       0  41.858086   \n",
       "2018-10-12 00:25:00              7.0          47.0       0  41.858086   \n",
       "2018-10-12 00:35:00              7.0          47.0       0  41.858086   \n",
       "2018-10-12 00:45:00              7.0          47.0       0  41.858086   \n",
       "\n",
       "                            ...          quarter_hour  dow  week  \\\n",
       "ts                          ...                                    \n",
       "2018-10-12 00:05:00         ...                   0.0    4    41   \n",
       "2018-10-12 00:15:00         ...                   1.0    4    41   \n",
       "2018-10-12 00:25:00         ...                   1.0    4    41   \n",
       "2018-10-12 00:35:00         ...                   2.0    4    41   \n",
       "2018-10-12 00:45:00         ...                   3.0    4    41   \n",
       "\n",
       "                     ab_daily_mean  ab_monthly_mean  ab_weekly_mean  \\\n",
       "ts                                                                    \n",
       "2018-10-12 00:05:00       7.597222         8.411136        8.169147   \n",
       "2018-10-12 00:15:00       7.597222         8.411136        8.169147   \n",
       "2018-10-12 00:25:00       7.597222         8.411136        8.169147   \n",
       "2018-10-12 00:35:00       7.597222         8.411136        8.169147   \n",
       "2018-10-12 00:45:00       7.597222         8.411136        8.169147   \n",
       "\n",
       "                     last_1w_hourly_mean  last_1w_daily_mean  \\\n",
       "ts                                                             \n",
       "2018-10-12 00:05:00             9.166667            9.756944   \n",
       "2018-10-12 00:15:00             9.000000            9.777778   \n",
       "2018-10-12 00:25:00             9.000000            9.805556   \n",
       "2018-10-12 00:35:00             9.000000            9.833333   \n",
       "2018-10-12 00:45:00             9.000000            9.861111   \n",
       "\n",
       "                     last_2w_hourly_mean  last_2w_daily_mean  \n",
       "ts                                                            \n",
       "2018-10-12 00:05:00                 13.0            8.381944  \n",
       "2018-10-12 00:15:00                 13.0            8.340278  \n",
       "2018-10-12 00:25:00                 13.0            8.298611  \n",
       "2018-10-12 00:35:00                 13.0            8.256944  \n",
       "2018-10-12 00:45:00                 13.0            8.215278  \n",
       "\n",
       "[5 rows x 25 columns]"
      ]
     },
     "execution_count": 756,
     "metadata": {},
     "output_type": "execute_result"
    }
   ],
   "source": [
    "test_df.head()"
   ]
  },
  {
   "cell_type": "code",
   "execution_count": 757,
   "metadata": {},
   "outputs": [
    {
     "name": "stdout",
     "output_type": "stream",
     "text": [
      "[1]\tvalid_0's l2: 19.4132\tvalid_1's l2: 13.3201\n",
      "Training until validation scores don't improve for 10 rounds.\n",
      "[2]\tvalid_0's l2: 18.9564\tvalid_1's l2: 12.6215\n",
      "[3]\tvalid_0's l2: 18.5981\tvalid_1's l2: 12.0303\n",
      "[4]\tvalid_0's l2: 18.25\tvalid_1's l2: 11.469\n",
      "[5]\tvalid_0's l2: 17.5966\tvalid_1's l2: 11.1308\n",
      "[6]\tvalid_0's l2: 17.3732\tvalid_1's l2: 11.0749\n",
      "[7]\tvalid_0's l2: 17.0776\tvalid_1's l2: 10.9168\n",
      "[8]\tvalid_0's l2: 16.9402\tvalid_1's l2: 10.9733\n",
      "[9]\tvalid_0's l2: 16.783\tvalid_1's l2: 10.9497\n",
      "[10]\tvalid_0's l2: 16.6189\tvalid_1's l2: 10.8788\n",
      "[11]\tvalid_0's l2: 16.5461\tvalid_1's l2: 11.0342\n",
      "[12]\tvalid_0's l2: 16.4896\tvalid_1's l2: 10.9323\n",
      "[13]\tvalid_0's l2: 15.991\tvalid_1's l2: 11.0273\n",
      "[14]\tvalid_0's l2: 15.9536\tvalid_1's l2: 10.9391\n",
      "[15]\tvalid_0's l2: 15.7598\tvalid_1's l2: 10.9244\n",
      "[16]\tvalid_0's l2: 15.5742\tvalid_1's l2: 11.1814\n",
      "[17]\tvalid_0's l2: 15.5967\tvalid_1's l2: 11.5398\n",
      "[18]\tvalid_0's l2: 15.4632\tvalid_1's l2: 11.6252\n",
      "[19]\tvalid_0's l2: 15.3103\tvalid_1's l2: 11.7001\n",
      "[20]\tvalid_0's l2: 15.1985\tvalid_1's l2: 11.5234\n",
      "Early stopping, best iteration is:\n",
      "[10]\tvalid_0's l2: 16.6189\tvalid_1's l2: 10.8788\n"
     ]
    }
   ],
   "source": [
    "params = {\n",
    "    'objective': 'regression_l2',\n",
    "    'num_threds': 4,\n",
    "    'max_depth': 5,\n",
    "    'num_boost_rounds': 100\n",
    "}\n",
    "bst = lgb.train(params, train_data, valid_sets=[val_data, test_data], early_stopping_rounds=10)"
   ]
  },
  {
   "cell_type": "code",
   "execution_count": 758,
   "metadata": {},
   "outputs": [],
   "source": [
    "y_true = test_df['available_bikes']\n",
    "y_hat = bst.predict(test_df[xs_features], num_iteration=bst.best_iteration)"
   ]
  },
  {
   "cell_type": "code",
   "execution_count": 759,
   "metadata": {},
   "outputs": [
    {
     "data": {
      "text/plain": [
       "3.2983008344526663"
      ]
     },
     "execution_count": 759,
     "metadata": {},
     "output_type": "execute_result"
    }
   ],
   "source": [
    "np.sqrt(np.mean((y_true - y_hat)**2))"
   ]
  },
  {
   "cell_type": "code",
   "execution_count": 760,
   "metadata": {},
   "outputs": [
    {
     "data": {
      "text/plain": [
       "<matplotlib.legend.Legend at 0x368a6fe48>"
      ]
     },
     "execution_count": 760,
     "metadata": {},
     "output_type": "execute_result"
    },
    {
     "data": {
      "image/png": "[encoded data removed]",
      "text/plain": [
       "<Figure size 432x288 with 1 Axes>"
      ]
     },
     "metadata": {
      "needs_background": "light"
     },
     "output_type": "display_data"
    }
   ],
   "source": [
    "plt.plot(test_df.index, y_true, label='y_true')\n",
    "plt.plot(test_df.index, y_hat, label='y_hat')\n",
    "plt.xticks(rotation=90)\n",
    "plt.legend()"
   ]
  },
  {
   "cell_type": "code",
   "execution_count": 761,
   "metadata": {},
   "outputs": [
    {
     "data": {
      "text/plain": [
       "<matplotlib.axes._subplots.AxesSubplot at 0x25ce3df28>"
      ]
     },
     "execution_count": 761,
     "metadata": {},
     "output_type": "execute_result"
    },
    {
     "data": {
      "image/png": "[encoded data removed]",
      "text/plain": [
       "<Figure size 432x288 with 1 Axes>"
      ]
     },
     "metadata": {
      "needs_background": "light"
     },
     "output_type": "display_data"
    }
   ],
   "source": [
    "# plot feature importance\n",
    "lgb.plot_importance(bst)"
   ]
  }
 ],
 "metadata": {
  "kernelspec": {
   "display_name": "Python 3",
   "language": "python",
   "name": "python3"
  },
  "language_info": {
   "codemirror_mode": {
    "name": "ipython",
    "version": 3
   },
   "file_extension": ".py",
   "mimetype": "text/x-python",
   "name": "python",
   "nbconvert_exporter": "python",
   "pygments_lexer": "ipython3",
   "version": "3.6.5"
  }
 },
 "nbformat": 4,
 "nbformat_minor": 2
}
