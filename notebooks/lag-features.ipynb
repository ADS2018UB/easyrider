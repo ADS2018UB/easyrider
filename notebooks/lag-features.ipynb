{
 "cells": [
  {
   "cell_type": "markdown",
   "metadata": {},
   "source": [
    "## Compute lag features for gradient boosting model"
   ]
  },
  {
   "cell_type": "code",
   "execution_count": 1,
   "metadata": {},
   "outputs": [],
   "source": [
    "import pandas as pd\n",
    "import numpy as np\n",
    "import datetime\n",
    "\n",
    "import matplotlib.pyplot as plt\n",
    "%matplotlib inline\n",
    "\n",
    "import warnings\n",
    "warnings.filterwarnings('ignore')"
   ]
  },
  {
   "cell_type": "code",
   "execution_count": 2,
   "metadata": {},
   "outputs": [],
   "source": [
    "colnames = ['id', 'ts', 'station_name', 'address', 'total_docks',\n",
    "           'docks_in_service', 'available_docks', 'available_bikes',\n",
    "           'percent_full', 'status', 'latitude', 'longitude', 'location', 'record']\n",
    "docks_df = pd.read_csv('/Users/jordi/Downloads/chicago_docks.csv', names=colnames)"
   ]
  },
  {
   "cell_type": "code",
   "execution_count": 3,
   "metadata": {},
   "outputs": [],
   "source": [
    "# drop unnecessary columns\n",
    "docks_df = docks_df.drop(columns=['location', 'record'])"
   ]
  },
  {
   "cell_type": "code",
   "execution_count": 4,
   "metadata": {},
   "outputs": [
    {
     "data": {
      "text/html": [
       "<div>\n",
       "<style scoped>\n",
       "    .dataframe tbody tr th:only-of-type {\n",
       "        vertical-align: middle;\n",
       "    }\n",
       "\n",
       "    .dataframe tbody tr th {\n",
       "        vertical-align: top;\n",
       "    }\n",
       "\n",
       "    .dataframe thead th {\n",
       "        text-align: right;\n",
       "    }\n",
       "</style>\n",
       "<table border=\"1\" class=\"dataframe\">\n",
       "  <thead>\n",
       "    <tr style=\"text-align: right;\">\n",
       "      <th></th>\n",
       "      <th>id</th>\n",
       "      <th>ts</th>\n",
       "      <th>station_name</th>\n",
       "      <th>address</th>\n",
       "      <th>total_docks</th>\n",
       "      <th>docks_in_service</th>\n",
       "      <th>available_docks</th>\n",
       "      <th>available_bikes</th>\n",
       "      <th>percent_full</th>\n",
       "      <th>status</th>\n",
       "      <th>latitude</th>\n",
       "      <th>longitude</th>\n",
       "    </tr>\n",
       "  </thead>\n",
       "  <tbody>\n",
       "    <tr>\n",
       "      <th>0</th>\n",
       "      <td>2</td>\n",
       "      <td>10/26/2018 11:55:13 AM</td>\n",
       "      <td>Buckingham Fountain</td>\n",
       "      <td>Buckingham Fountain</td>\n",
       "      <td>39</td>\n",
       "      <td>39</td>\n",
       "      <td>36</td>\n",
       "      <td>3</td>\n",
       "      <td>8</td>\n",
       "      <td>In Service</td>\n",
       "      <td>41.876470</td>\n",
       "      <td>-87.620340</td>\n",
       "    </tr>\n",
       "    <tr>\n",
       "      <th>1</th>\n",
       "      <td>3</td>\n",
       "      <td>10/26/2018 11:55:13 AM</td>\n",
       "      <td>Shedd Aquarium</td>\n",
       "      <td>Shedd Aquarium</td>\n",
       "      <td>55</td>\n",
       "      <td>54</td>\n",
       "      <td>50</td>\n",
       "      <td>4</td>\n",
       "      <td>7</td>\n",
       "      <td>In Service</td>\n",
       "      <td>41.867226</td>\n",
       "      <td>-87.615355</td>\n",
       "    </tr>\n",
       "    <tr>\n",
       "      <th>2</th>\n",
       "      <td>4</td>\n",
       "      <td>10/26/2018 11:55:13 AM</td>\n",
       "      <td>Burnham Harbor</td>\n",
       "      <td>Burnham Harbor</td>\n",
       "      <td>23</td>\n",
       "      <td>23</td>\n",
       "      <td>9</td>\n",
       "      <td>14</td>\n",
       "      <td>61</td>\n",
       "      <td>In Service</td>\n",
       "      <td>41.856268</td>\n",
       "      <td>-87.613348</td>\n",
       "    </tr>\n",
       "    <tr>\n",
       "      <th>3</th>\n",
       "      <td>5</td>\n",
       "      <td>10/26/2018 11:55:13 AM</td>\n",
       "      <td>State St &amp; Harrison St</td>\n",
       "      <td>State St &amp; Harrison St</td>\n",
       "      <td>23</td>\n",
       "      <td>22</td>\n",
       "      <td>20</td>\n",
       "      <td>2</td>\n",
       "      <td>9</td>\n",
       "      <td>In Service</td>\n",
       "      <td>41.874053</td>\n",
       "      <td>-87.627716</td>\n",
       "    </tr>\n",
       "    <tr>\n",
       "      <th>4</th>\n",
       "      <td>6</td>\n",
       "      <td>10/26/2018 11:55:13 AM</td>\n",
       "      <td>Dusable Harbor</td>\n",
       "      <td>Dusable Harbor</td>\n",
       "      <td>39</td>\n",
       "      <td>38</td>\n",
       "      <td>32</td>\n",
       "      <td>6</td>\n",
       "      <td>16</td>\n",
       "      <td>In Service</td>\n",
       "      <td>41.886976</td>\n",
       "      <td>-87.612813</td>\n",
       "    </tr>\n",
       "  </tbody>\n",
       "</table>\n",
       "</div>"
      ],
      "text/plain": [
       "   id                      ts            station_name                 address  \\\n",
       "0   2  10/26/2018 11:55:13 AM     Buckingham Fountain     Buckingham Fountain   \n",
       "1   3  10/26/2018 11:55:13 AM          Shedd Aquarium          Shedd Aquarium   \n",
       "2   4  10/26/2018 11:55:13 AM          Burnham Harbor          Burnham Harbor   \n",
       "3   5  10/26/2018 11:55:13 AM  State St & Harrison St  State St & Harrison St   \n",
       "4   6  10/26/2018 11:55:13 AM          Dusable Harbor          Dusable Harbor   \n",
       "\n",
       "   total_docks  docks_in_service  available_docks  available_bikes  \\\n",
       "0           39                39               36                3   \n",
       "1           55                54               50                4   \n",
       "2           23                23                9               14   \n",
       "3           23                22               20                2   \n",
       "4           39                38               32                6   \n",
       "\n",
       "   percent_full      status   latitude  longitude  \n",
       "0             8  In Service  41.876470 -87.620340  \n",
       "1             7  In Service  41.867226 -87.615355  \n",
       "2            61  In Service  41.856268 -87.613348  \n",
       "3             9  In Service  41.874053 -87.627716  \n",
       "4            16  In Service  41.886976 -87.612813  "
      ]
     },
     "execution_count": 4,
     "metadata": {},
     "output_type": "execute_result"
    }
   ],
   "source": [
    "docks_df.head()"
   ]
  },
  {
   "cell_type": "code",
   "execution_count": 5,
   "metadata": {},
   "outputs": [
    {
     "data": {
      "text/plain": [
       "(615,)"
      ]
     },
     "execution_count": 5,
     "metadata": {},
     "output_type": "execute_result"
    }
   ],
   "source": [
    "docks_df.id.unique().shape"
   ]
  },
  {
   "cell_type": "code",
   "execution_count": 6,
   "metadata": {},
   "outputs": [],
   "source": [
    "stations_df = pd.read_csv('./datasets/chicago_stations.csv')"
   ]
  },
  {
   "cell_type": "code",
   "execution_count": 7,
   "metadata": {},
   "outputs": [
    {
     "data": {
      "text/html": [
       "<div>\n",
       "<style scoped>\n",
       "    .dataframe tbody tr th:only-of-type {\n",
       "        vertical-align: middle;\n",
       "    }\n",
       "\n",
       "    .dataframe tbody tr th {\n",
       "        vertical-align: top;\n",
       "    }\n",
       "\n",
       "    .dataframe thead th {\n",
       "        text-align: right;\n",
       "    }\n",
       "</style>\n",
       "<table border=\"1\" class=\"dataframe\">\n",
       "  <thead>\n",
       "    <tr style=\"text-align: right;\">\n",
       "      <th></th>\n",
       "      <th>Unnamed: 0</th>\n",
       "      <th>id</th>\n",
       "      <th>station_name</th>\n",
       "      <th>address</th>\n",
       "      <th>lat</th>\n",
       "      <th>lon</th>\n",
       "    </tr>\n",
       "  </thead>\n",
       "  <tbody>\n",
       "    <tr>\n",
       "      <th>0</th>\n",
       "      <td>0</td>\n",
       "      <td>2</td>\n",
       "      <td>Buckingham Fountain</td>\n",
       "      <td>Buckingham Fountain</td>\n",
       "      <td>41.876470</td>\n",
       "      <td>-87.620340</td>\n",
       "    </tr>\n",
       "    <tr>\n",
       "      <th>1</th>\n",
       "      <td>1</td>\n",
       "      <td>3</td>\n",
       "      <td>Shedd Aquarium</td>\n",
       "      <td>Shedd Aquarium</td>\n",
       "      <td>41.867226</td>\n",
       "      <td>-87.615355</td>\n",
       "    </tr>\n",
       "    <tr>\n",
       "      <th>2</th>\n",
       "      <td>2</td>\n",
       "      <td>4</td>\n",
       "      <td>Burnham Harbor</td>\n",
       "      <td>Burnham Harbor</td>\n",
       "      <td>41.856268</td>\n",
       "      <td>-87.613348</td>\n",
       "    </tr>\n",
       "    <tr>\n",
       "      <th>3</th>\n",
       "      <td>3</td>\n",
       "      <td>5</td>\n",
       "      <td>State St &amp; Harrison St</td>\n",
       "      <td>State St &amp; Harrison St</td>\n",
       "      <td>41.874053</td>\n",
       "      <td>-87.627716</td>\n",
       "    </tr>\n",
       "    <tr>\n",
       "      <th>4</th>\n",
       "      <td>4</td>\n",
       "      <td>6</td>\n",
       "      <td>Dusable Harbor</td>\n",
       "      <td>Dusable Harbor</td>\n",
       "      <td>41.886976</td>\n",
       "      <td>-87.612813</td>\n",
       "    </tr>\n",
       "  </tbody>\n",
       "</table>\n",
       "</div>"
      ],
      "text/plain": [
       "   Unnamed: 0  id            station_name                 address        lat  \\\n",
       "0           0   2     Buckingham Fountain     Buckingham Fountain  41.876470   \n",
       "1           1   3          Shedd Aquarium          Shedd Aquarium  41.867226   \n",
       "2           2   4          Burnham Harbor          Burnham Harbor  41.856268   \n",
       "3           3   5  State St & Harrison St  State St & Harrison St  41.874053   \n",
       "4           4   6          Dusable Harbor          Dusable Harbor  41.886976   \n",
       "\n",
       "         lon  \n",
       "0 -87.620340  \n",
       "1 -87.615355  \n",
       "2 -87.613348  \n",
       "3 -87.627716  \n",
       "4 -87.612813  "
      ]
     },
     "execution_count": 7,
     "metadata": {},
     "output_type": "execute_result"
    }
   ],
   "source": [
    "stations_df.head()"
   ]
  },
  {
   "cell_type": "code",
   "execution_count": 8,
   "metadata": {},
   "outputs": [
    {
     "data": {
      "text/plain": [
       "(615,)"
      ]
     },
     "execution_count": 8,
     "metadata": {},
     "output_type": "execute_result"
    }
   ],
   "source": [
    "stations_df.id.unique().shape"
   ]
  },
  {
   "cell_type": "code",
   "execution_count": 9,
   "metadata": {},
   "outputs": [],
   "source": [
    "station_ids = stations_df.id.unique()"
   ]
  },
  {
   "cell_type": "markdown",
   "metadata": {},
   "source": [
    "## Preprocess at station level"
   ]
  },
  {
   "cell_type": "code",
   "execution_count": 10,
   "metadata": {},
   "outputs": [],
   "source": [
    "station_id = 463\n",
    "df = docks_df[docks_df.id == station_id]\n",
    "df['ts'] = pd.to_datetime(df.ts, infer_datetime_format=True)"
   ]
  },
  {
   "cell_type": "code",
   "execution_count": 11,
   "metadata": {},
   "outputs": [
    {
     "data": {
      "text/plain": [
       "(Timestamp('2017-01-01 00:05:11'), Timestamp('2018-10-26 11:55:13'))"
      ]
     },
     "execution_count": 11,
     "metadata": {},
     "output_type": "execute_result"
    }
   ],
   "source": [
    "df.ts.min(), df.ts.max()"
   ]
  },
  {
   "cell_type": "code",
   "execution_count": 12,
   "metadata": {},
   "outputs": [],
   "source": [
    "# round ts every 5 minutes (seconds are not aligned)\n",
    "df.loc[:, 'ts'] = df.ts.dt.round('5min')\n",
    "df.sort_values(by='ts', inplace=True)"
   ]
  },
  {
   "cell_type": "code",
   "execution_count": 13,
   "metadata": {},
   "outputs": [],
   "source": [
    "# resample data, there are missing info gaps\n",
    "df = df.set_index('ts').resample('10Min', how='last', base=5).bfill()"
   ]
  },
  {
   "cell_type": "code",
   "execution_count": 14,
   "metadata": {},
   "outputs": [
    {
     "data": {
      "text/plain": [
       "<matplotlib.legend.Legend at 0x17285feb8>"
      ]
     },
     "execution_count": 14,
     "metadata": {},
     "output_type": "execute_result"
    },
    {
     "data": {
      "image/png": "[encoded data removed]",
      "text/plain": [
       "<Figure size 432x288 with 1 Axes>"
      ]
     },
     "metadata": {
      "needs_background": "light"
     },
     "output_type": "display_data"
    }
   ],
   "source": [
    "plt.plot(df.index, df.available_bikes, label='available_bikes')\n",
    "plt.xticks(rotation=90)\n",
    "plt.legend()"
   ]
  },
  {
   "cell_type": "code",
   "execution_count": 15,
   "metadata": {},
   "outputs": [],
   "source": [
    "# every hour we have 6 rows, one every 10 minutes\n",
    "entries_per_hour = 6"
   ]
  },
  {
   "cell_type": "code",
   "execution_count": 16,
   "metadata": {},
   "outputs": [],
   "source": [
    "# month of year\n",
    "df['month'] = df.index.month\n",
    "# quarter of year\n",
    "df['quarter'] = df.index.quarter\n",
    "# day of month\n",
    "df['day'] = df.index.day\n",
    "# hour of day\n",
    "df['hour'] = df.index.hour\n",
    "# cyclic features for hour\n",
    "df['hour_x'] = np.sin(2*np.pi*df['hour']/24)\n",
    "df['hour_y'] = np.cos(2*np.pi*df['hour']/24)\n",
    "# quarter of hour\n",
    "df['quarter_hour'] = np.floor(df.index.minute / 15)\n",
    "# day of week\n",
    "df['dow'] = df.index.dayofweek\n",
    "# week of year\n",
    "df['week'] = df.index.weekofyear"
   ]
  },
  {
   "cell_type": "code",
   "execution_count": 17,
   "metadata": {},
   "outputs": [],
   "source": [
    "ab_daily_mean = df.groupby('day')['available_bikes'].mean()\n",
    "ab_monthly_mean = df.groupby('month')['available_bikes'].mean()\n",
    "ab_weekly_mean = df.groupby('week')['available_bikes'].mean()\n",
    "\n",
    "ab_daily_median = df.groupby('day')['available_bikes'].median()\n",
    "ab_monthly_median = df.groupby('month')['available_bikes'].median()\n",
    "ab_weekly_median = df.groupby('week')['available_bikes'].median()"
   ]
  },
  {
   "cell_type": "code",
   "execution_count": 18,
   "metadata": {},
   "outputs": [],
   "source": [
    "for i, x in zip(ab_daily_mean.index, ab_daily_mean):\n",
    "    df.loc[df.day == i, 'ab_daily_mean'] = x\n",
    "    \n",
    "for i, x in zip(ab_monthly_mean.index, ab_monthly_mean):\n",
    "    df.loc[df.month == i, 'ab_monthly_mean'] = x\n",
    "    \n",
    "for i, x in zip(ab_weekly_mean.index, ab_weekly_mean):\n",
    "    df.loc[df.week == i, 'ab_weekly_mean'] = x\n",
    "    \n",
    "for i, x in zip(ab_daily_median.index, ab_daily_median):\n",
    "    df.loc[df.day == i, 'ab_daily_median'] = x\n",
    "    \n",
    "for i, x in zip(ab_monthly_median.index, ab_monthly_median):\n",
    "    df.loc[df.month == i, 'ab_monthly_median'] = x\n",
    "    \n",
    "for i, x in zip(ab_weekly_median.index, ab_weekly_median):\n",
    "    df.loc[df.week == i, 'ab_weekly_median'] = x"
   ]
  },
  {
   "cell_type": "code",
   "execution_count": 19,
   "metadata": {},
   "outputs": [],
   "source": [
    "last_1w_hourly_mean = df.shift(entries_per_hour*24*7 - entries_per_hour)['available_bikes'].rolling(entries_per_hour).mean()\n",
    "last_1w_daily_mean = df.shift(entries_per_hour*24*7 - entries_per_hour*24)['available_bikes'].rolling(entries_per_hour*24).mean()\n",
    "last_2w_hourly_mean = df.shift(entries_per_hour*24*7*2 - entries_per_hour)['available_bikes'].rolling(entries_per_hour).mean()\n",
    "last_2w_daily_mean = df.shift(entries_per_hour*24*7*2 - entries_per_hour*24)['available_bikes'].rolling(entries_per_hour*24).mean()"
   ]
  },
  {
   "cell_type": "code",
   "execution_count": 20,
   "metadata": {},
   "outputs": [],
   "source": [
    "df['last_1w_hourly_mean'] = last_1w_hourly_mean\n",
    "df['last_1w_daily_mean'] = last_1w_daily_mean\n",
    "df['last_2w_hourly_mean'] = last_2w_hourly_mean\n",
    "df['last_2w_daily_mean'] = last_2w_daily_mean"
   ]
  },
  {
   "cell_type": "code",
   "execution_count": 21,
   "metadata": {},
   "outputs": [],
   "source": [
    "# set status to unknown when status is not available\n",
    "df.loc[pd.isna(df.status), 'status'] = 'Unknown'"
   ]
  },
  {
   "cell_type": "code",
   "execution_count": 22,
   "metadata": {},
   "outputs": [
    {
     "data": {
      "text/plain": [
       "Index(['id', 'station_name', 'address', 'total_docks', 'docks_in_service',\n",
       "       'available_docks', 'available_bikes', 'percent_full', 'status',\n",
       "       'latitude', 'longitude', 'month', 'quarter', 'day', 'hour', 'hour_x',\n",
       "       'hour_y', 'quarter_hour', 'dow', 'week', 'ab_daily_mean',\n",
       "       'ab_monthly_mean', 'ab_weekly_mean', 'ab_daily_median',\n",
       "       'ab_monthly_median', 'ab_weekly_median', 'last_1w_hourly_mean',\n",
       "       'last_1w_daily_mean', 'last_2w_hourly_mean', 'last_2w_daily_mean'],\n",
       "      dtype='object')"
      ]
     },
     "execution_count": 22,
     "metadata": {},
     "output_type": "execute_result"
    }
   ],
   "source": [
    "df.columns"
   ]
  },
  {
   "cell_type": "markdown",
   "metadata": {},
   "source": [
    "### Set train/test splits"
   ]
  },
  {
   "cell_type": "code",
   "execution_count": 23,
   "metadata": {},
   "outputs": [],
   "source": [
    "train_df = df.query('20170101 <= ts < 20180928')\n",
    "# 2 weeks for validation\n",
    "val_df = df.query('20180928 <= ts < 20181012')\n",
    "# 2 weeks for test\n",
    "test_df = df.query('ts >= 20181012')"
   ]
  },
  {
   "cell_type": "code",
   "execution_count": 24,
   "metadata": {},
   "outputs": [
    {
     "data": {
      "text/plain": [
       "((91440, 30), (2016, 30), (2088, 30))"
      ]
     },
     "execution_count": 24,
     "metadata": {},
     "output_type": "execute_result"
    }
   ],
   "source": [
    "train_df.shape, val_df.shape, test_df.shape"
   ]
  },
  {
   "cell_type": "code",
   "execution_count": 25,
   "metadata": {},
   "outputs": [],
   "source": [
    "# overwrite last_1w_hourly_mean, last_1w_daily_mean columns for the second test week \n",
    "# this info is not available at test time!\n",
    "idx = test_df.shift(freq=datetime.timedelta(weeks=1))[:entries_per_hour*24*7].index\n",
    "features = ['last_1w_hourly_mean', 'last_1w_daily_mean']\n",
    "test_df.loc[idx, features] = test_df.loc[idx - datetime.timedelta(weeks=1), features]"
   ]
  },
  {
   "cell_type": "code",
   "execution_count": 26,
   "metadata": {},
   "outputs": [],
   "source": [
    "# drop first 2 weeks in train, no info for last_1w/2w features\n",
    "train_df = train_df.iloc[entries_per_hour*24*7*2:]"
   ]
  },
  {
   "cell_type": "code",
   "execution_count": 27,
   "metadata": {},
   "outputs": [
    {
     "data": {
      "text/plain": [
       "((89424, 30), (2016, 30), (2088, 30))"
      ]
     },
     "execution_count": 27,
     "metadata": {},
     "output_type": "execute_result"
    }
   ],
   "source": [
    "train_df.shape, val_df.shape, test_df.shape"
   ]
  },
  {
   "cell_type": "code",
   "execution_count": 28,
   "metadata": {},
   "outputs": [
    {
     "data": {
      "text/plain": [
       "(Timestamp('2017-01-15 00:05:00', freq='10T'),\n",
       " Timestamp('2018-09-27 23:55:00', freq='10T'),\n",
       " Timestamp('2018-09-28 00:05:00', freq='10T'),\n",
       " Timestamp('2018-10-11 23:55:00', freq='10T'),\n",
       " Timestamp('2018-10-12 00:05:00', freq='10T'),\n",
       " Timestamp('2018-10-26 11:55:00', freq='10T'))"
      ]
     },
     "execution_count": 28,
     "metadata": {},
     "output_type": "execute_result"
    }
   ],
   "source": [
    "train_df.index.min(), train_df.index.max(), val_df.index.min(), val_df.index.max(), test_df.index.min(), test_df.index.max()"
   ]
  },
  {
   "cell_type": "code",
   "execution_count": 29,
   "metadata": {},
   "outputs": [],
   "source": [
    "import lightgbm as lgb\n",
    "from sklearn.preprocessing import LabelEncoder\n",
    "\n",
    "xs_features = ['total_docks', 'docks_in_service', 'status', 'ab_daily_mean', 'ab_monthly_mean', 'ab_weekly_mean',\n",
    "               'ab_daily_median', 'ab_monthly_median', 'ab_weekly_median', 'hour_x', 'hour_y',\n",
    "              'month', 'quarter', 'day', 'hour', 'quarter_hour', 'dow', 'week', 'last_1w_hourly_mean',\n",
    "              'last_1w_daily_mean', 'last_2w_hourly_mean', 'last_2w_daily_mean']\n",
    "target = ['available_bikes']\n",
    "\n",
    "le = LabelEncoder()\n",
    "train_df['status'] = le.fit_transform(train_df['status'])\n",
    "val_df['status'] = le.transform(val_df['status'])\n",
    "test_df['status'] = le.transform(test_df['status'])\n",
    "\n",
    "train_data = lgb.Dataset(train_df[xs_features], label=train_df[target],\n",
    "                        feature_name=xs_features, categorical_feature=['status'])\n",
    "val_data = lgb.Dataset(val_df[xs_features], label=val_df[target],\n",
    "                      feature_name=xs_features, categorical_feature=['status'], reference=train_data)\n",
    "test_data = lgb.Dataset(test_df[xs_features], label=test_df[target],\n",
    "                       feature_name=xs_features, categorical_feature=['status'])"
   ]
  },
  {
   "cell_type": "code",
   "execution_count": 30,
   "metadata": {},
   "outputs": [
    {
     "data": {
      "text/html": [
       "<div>\n",
       "<style scoped>\n",
       "    .dataframe tbody tr th:only-of-type {\n",
       "        vertical-align: middle;\n",
       "    }\n",
       "\n",
       "    .dataframe tbody tr th {\n",
       "        vertical-align: top;\n",
       "    }\n",
       "\n",
       "    .dataframe thead th {\n",
       "        text-align: right;\n",
       "    }\n",
       "</style>\n",
       "<table border=\"1\" class=\"dataframe\">\n",
       "  <thead>\n",
       "    <tr style=\"text-align: right;\">\n",
       "      <th></th>\n",
       "      <th>id</th>\n",
       "      <th>station_name</th>\n",
       "      <th>address</th>\n",
       "      <th>total_docks</th>\n",
       "      <th>docks_in_service</th>\n",
       "      <th>available_docks</th>\n",
       "      <th>available_bikes</th>\n",
       "      <th>percent_full</th>\n",
       "      <th>status</th>\n",
       "      <th>latitude</th>\n",
       "      <th>...</th>\n",
       "      <th>ab_daily_mean</th>\n",
       "      <th>ab_monthly_mean</th>\n",
       "      <th>ab_weekly_mean</th>\n",
       "      <th>ab_daily_median</th>\n",
       "      <th>ab_monthly_median</th>\n",
       "      <th>ab_weekly_median</th>\n",
       "      <th>last_1w_hourly_mean</th>\n",
       "      <th>last_1w_daily_mean</th>\n",
       "      <th>last_2w_hourly_mean</th>\n",
       "      <th>last_2w_daily_mean</th>\n",
       "    </tr>\n",
       "    <tr>\n",
       "      <th>ts</th>\n",
       "      <th></th>\n",
       "      <th></th>\n",
       "      <th></th>\n",
       "      <th></th>\n",
       "      <th></th>\n",
       "      <th></th>\n",
       "      <th></th>\n",
       "      <th></th>\n",
       "      <th></th>\n",
       "      <th></th>\n",
       "      <th></th>\n",
       "      <th></th>\n",
       "      <th></th>\n",
       "      <th></th>\n",
       "      <th></th>\n",
       "      <th></th>\n",
       "      <th></th>\n",
       "      <th></th>\n",
       "      <th></th>\n",
       "      <th></th>\n",
       "      <th></th>\n",
       "    </tr>\n",
       "  </thead>\n",
       "  <tbody>\n",
       "    <tr>\n",
       "      <th>2018-10-12 00:05:00</th>\n",
       "      <td>463.0</td>\n",
       "      <td>Clark St &amp; Berwyn Ave</td>\n",
       "      <td>Clark St &amp; Berwyn Ave</td>\n",
       "      <td>19.0</td>\n",
       "      <td>18.0</td>\n",
       "      <td>4.0</td>\n",
       "      <td>14.0</td>\n",
       "      <td>78.0</td>\n",
       "      <td>0</td>\n",
       "      <td>41.977997</td>\n",
       "      <td>...</td>\n",
       "      <td>10.988636</td>\n",
       "      <td>11.230826</td>\n",
       "      <td>11.563988</td>\n",
       "      <td>11.0</td>\n",
       "      <td>12.0</td>\n",
       "      <td>13.0</td>\n",
       "      <td>15.166667</td>\n",
       "      <td>13.013889</td>\n",
       "      <td>13.833333</td>\n",
       "      <td>10.104167</td>\n",
       "    </tr>\n",
       "    <tr>\n",
       "      <th>2018-10-12 00:15:00</th>\n",
       "      <td>463.0</td>\n",
       "      <td>Clark St &amp; Berwyn Ave</td>\n",
       "      <td>Clark St &amp; Berwyn Ave</td>\n",
       "      <td>19.0</td>\n",
       "      <td>18.0</td>\n",
       "      <td>4.0</td>\n",
       "      <td>14.0</td>\n",
       "      <td>78.0</td>\n",
       "      <td>0</td>\n",
       "      <td>41.977997</td>\n",
       "      <td>...</td>\n",
       "      <td>10.988636</td>\n",
       "      <td>11.230826</td>\n",
       "      <td>11.563988</td>\n",
       "      <td>11.0</td>\n",
       "      <td>12.0</td>\n",
       "      <td>13.0</td>\n",
       "      <td>15.000000</td>\n",
       "      <td>13.020833</td>\n",
       "      <td>14.000000</td>\n",
       "      <td>10.104167</td>\n",
       "    </tr>\n",
       "    <tr>\n",
       "      <th>2018-10-12 00:25:00</th>\n",
       "      <td>463.0</td>\n",
       "      <td>Clark St &amp; Berwyn Ave</td>\n",
       "      <td>Clark St &amp; Berwyn Ave</td>\n",
       "      <td>19.0</td>\n",
       "      <td>18.0</td>\n",
       "      <td>4.0</td>\n",
       "      <td>14.0</td>\n",
       "      <td>78.0</td>\n",
       "      <td>0</td>\n",
       "      <td>41.977997</td>\n",
       "      <td>...</td>\n",
       "      <td>10.988636</td>\n",
       "      <td>11.230826</td>\n",
       "      <td>11.563988</td>\n",
       "      <td>11.0</td>\n",
       "      <td>12.0</td>\n",
       "      <td>13.0</td>\n",
       "      <td>15.000000</td>\n",
       "      <td>13.034722</td>\n",
       "      <td>14.000000</td>\n",
       "      <td>10.097222</td>\n",
       "    </tr>\n",
       "    <tr>\n",
       "      <th>2018-10-12 00:35:00</th>\n",
       "      <td>463.0</td>\n",
       "      <td>Clark St &amp; Berwyn Ave</td>\n",
       "      <td>Clark St &amp; Berwyn Ave</td>\n",
       "      <td>19.0</td>\n",
       "      <td>18.0</td>\n",
       "      <td>4.0</td>\n",
       "      <td>14.0</td>\n",
       "      <td>78.0</td>\n",
       "      <td>0</td>\n",
       "      <td>41.977997</td>\n",
       "      <td>...</td>\n",
       "      <td>10.988636</td>\n",
       "      <td>11.230826</td>\n",
       "      <td>11.563988</td>\n",
       "      <td>11.0</td>\n",
       "      <td>12.0</td>\n",
       "      <td>13.0</td>\n",
       "      <td>15.000000</td>\n",
       "      <td>13.048611</td>\n",
       "      <td>14.000000</td>\n",
       "      <td>10.090278</td>\n",
       "    </tr>\n",
       "    <tr>\n",
       "      <th>2018-10-12 00:45:00</th>\n",
       "      <td>463.0</td>\n",
       "      <td>Clark St &amp; Berwyn Ave</td>\n",
       "      <td>Clark St &amp; Berwyn Ave</td>\n",
       "      <td>19.0</td>\n",
       "      <td>18.0</td>\n",
       "      <td>4.0</td>\n",
       "      <td>14.0</td>\n",
       "      <td>78.0</td>\n",
       "      <td>0</td>\n",
       "      <td>41.977997</td>\n",
       "      <td>...</td>\n",
       "      <td>10.988636</td>\n",
       "      <td>11.230826</td>\n",
       "      <td>11.563988</td>\n",
       "      <td>11.0</td>\n",
       "      <td>12.0</td>\n",
       "      <td>13.0</td>\n",
       "      <td>15.000000</td>\n",
       "      <td>13.062500</td>\n",
       "      <td>14.000000</td>\n",
       "      <td>10.083333</td>\n",
       "    </tr>\n",
       "  </tbody>\n",
       "</table>\n",
       "<p>5 rows × 30 columns</p>\n",
       "</div>"
      ],
      "text/plain": [
       "                        id           station_name                address  \\\n",
       "ts                                                                         \n",
       "2018-10-12 00:05:00  463.0  Clark St & Berwyn Ave  Clark St & Berwyn Ave   \n",
       "2018-10-12 00:15:00  463.0  Clark St & Berwyn Ave  Clark St & Berwyn Ave   \n",
       "2018-10-12 00:25:00  463.0  Clark St & Berwyn Ave  Clark St & Berwyn Ave   \n",
       "2018-10-12 00:35:00  463.0  Clark St & Berwyn Ave  Clark St & Berwyn Ave   \n",
       "2018-10-12 00:45:00  463.0  Clark St & Berwyn Ave  Clark St & Berwyn Ave   \n",
       "\n",
       "                     total_docks  docks_in_service  available_docks  \\\n",
       "ts                                                                    \n",
       "2018-10-12 00:05:00         19.0              18.0              4.0   \n",
       "2018-10-12 00:15:00         19.0              18.0              4.0   \n",
       "2018-10-12 00:25:00         19.0              18.0              4.0   \n",
       "2018-10-12 00:35:00         19.0              18.0              4.0   \n",
       "2018-10-12 00:45:00         19.0              18.0              4.0   \n",
       "\n",
       "                     available_bikes  percent_full  status   latitude  \\\n",
       "ts                                                                      \n",
       "2018-10-12 00:05:00             14.0          78.0       0  41.977997   \n",
       "2018-10-12 00:15:00             14.0          78.0       0  41.977997   \n",
       "2018-10-12 00:25:00             14.0          78.0       0  41.977997   \n",
       "2018-10-12 00:35:00             14.0          78.0       0  41.977997   \n",
       "2018-10-12 00:45:00             14.0          78.0       0  41.977997   \n",
       "\n",
       "                            ...          ab_daily_mean  ab_monthly_mean  \\\n",
       "ts                          ...                                           \n",
       "2018-10-12 00:05:00         ...              10.988636        11.230826   \n",
       "2018-10-12 00:15:00         ...              10.988636        11.230826   \n",
       "2018-10-12 00:25:00         ...              10.988636        11.230826   \n",
       "2018-10-12 00:35:00         ...              10.988636        11.230826   \n",
       "2018-10-12 00:45:00         ...              10.988636        11.230826   \n",
       "\n",
       "                     ab_weekly_mean  ab_daily_median  ab_monthly_median  \\\n",
       "ts                                                                        \n",
       "2018-10-12 00:05:00       11.563988             11.0               12.0   \n",
       "2018-10-12 00:15:00       11.563988             11.0               12.0   \n",
       "2018-10-12 00:25:00       11.563988             11.0               12.0   \n",
       "2018-10-12 00:35:00       11.563988             11.0               12.0   \n",
       "2018-10-12 00:45:00       11.563988             11.0               12.0   \n",
       "\n",
       "                     ab_weekly_median  last_1w_hourly_mean  \\\n",
       "ts                                                           \n",
       "2018-10-12 00:05:00              13.0            15.166667   \n",
       "2018-10-12 00:15:00              13.0            15.000000   \n",
       "2018-10-12 00:25:00              13.0            15.000000   \n",
       "2018-10-12 00:35:00              13.0            15.000000   \n",
       "2018-10-12 00:45:00              13.0            15.000000   \n",
       "\n",
       "                     last_1w_daily_mean  last_2w_hourly_mean  \\\n",
       "ts                                                             \n",
       "2018-10-12 00:05:00           13.013889            13.833333   \n",
       "2018-10-12 00:15:00           13.020833            14.000000   \n",
       "2018-10-12 00:25:00           13.034722            14.000000   \n",
       "2018-10-12 00:35:00           13.048611            14.000000   \n",
       "2018-10-12 00:45:00           13.062500            14.000000   \n",
       "\n",
       "                     last_2w_daily_mean  \n",
       "ts                                       \n",
       "2018-10-12 00:05:00           10.104167  \n",
       "2018-10-12 00:15:00           10.104167  \n",
       "2018-10-12 00:25:00           10.097222  \n",
       "2018-10-12 00:35:00           10.090278  \n",
       "2018-10-12 00:45:00           10.083333  \n",
       "\n",
       "[5 rows x 30 columns]"
      ]
     },
     "execution_count": 30,
     "metadata": {},
     "output_type": "execute_result"
    }
   ],
   "source": [
    "test_df.head()"
   ]
  },
  {
   "cell_type": "code",
   "execution_count": 31,
   "metadata": {},
   "outputs": [
    {
     "name": "stdout",
     "output_type": "stream",
     "text": [
      "[1]\tvalid_0's l2: 25.3263\tvalid_1's l2: 29.8959\n",
      "Training until validation scores don't improve for 10 rounds.\n",
      "[2]\tvalid_0's l2: 24.5471\tvalid_1's l2: 29.2504\n",
      "[3]\tvalid_0's l2: 23.8154\tvalid_1's l2: 29.6783\n",
      "[4]\tvalid_0's l2: 23.6718\tvalid_1's l2: 29.6436\n",
      "[5]\tvalid_0's l2: 22.83\tvalid_1's l2: 28.3744\n",
      "[6]\tvalid_0's l2: 22.1759\tvalid_1's l2: 27.7469\n",
      "[7]\tvalid_0's l2: 21.8755\tvalid_1's l2: 26.7705\n",
      "[8]\tvalid_0's l2: 21.8429\tvalid_1's l2: 26.1286\n",
      "[9]\tvalid_0's l2: 21.5248\tvalid_1's l2: 25.738\n",
      "[10]\tvalid_0's l2: 21.4599\tvalid_1's l2: 25.3751\n",
      "[11]\tvalid_0's l2: 21.4931\tvalid_1's l2: 24.9782\n",
      "[12]\tvalid_0's l2: 21.0846\tvalid_1's l2: 24.7012\n",
      "[13]\tvalid_0's l2: 21.0439\tvalid_1's l2: 24.6882\n",
      "[14]\tvalid_0's l2: 21.1397\tvalid_1's l2: 24.7352\n",
      "[15]\tvalid_0's l2: 20.984\tvalid_1's l2: 24.9671\n",
      "[16]\tvalid_0's l2: 20.9199\tvalid_1's l2: 24.7502\n",
      "[17]\tvalid_0's l2: 20.8574\tvalid_1's l2: 24.5687\n",
      "[18]\tvalid_0's l2: 20.886\tvalid_1's l2: 24.5223\n",
      "[19]\tvalid_0's l2: 20.6568\tvalid_1's l2: 24.8519\n",
      "[20]\tvalid_0's l2: 21.1546\tvalid_1's l2: 24.986\n",
      "[21]\tvalid_0's l2: 21.2451\tvalid_1's l2: 25.0369\n",
      "[22]\tvalid_0's l2: 21.2241\tvalid_1's l2: 25.0706\n",
      "[23]\tvalid_0's l2: 21.5341\tvalid_1's l2: 25.0819\n",
      "[24]\tvalid_0's l2: 21.778\tvalid_1's l2: 25.1191\n",
      "[25]\tvalid_0's l2: 21.71\tvalid_1's l2: 25.0306\n",
      "[26]\tvalid_0's l2: 21.6626\tvalid_1's l2: 25.1555\n",
      "[27]\tvalid_0's l2: 21.674\tvalid_1's l2: 25.1522\n",
      "[28]\tvalid_0's l2: 21.6001\tvalid_1's l2: 25.0176\n",
      "Early stopping, best iteration is:\n",
      "[18]\tvalid_0's l2: 20.886\tvalid_1's l2: 24.5223\n"
     ]
    }
   ],
   "source": [
    "params = {\n",
    "    'objective': 'regression_l2',\n",
    "    'num_threds': 4,\n",
    "    'max_depth': 5,\n",
    "    'num_boost_rounds': 100,\n",
    "    'bagging_fraction': 0.75,\n",
    "    'bagging_freq': 3,\n",
    "    'feature_fraction': 0.75\n",
    "}\n",
    "bst = lgb.train(params, train_data, valid_sets=[val_data, test_data], early_stopping_rounds=10)"
   ]
  },
  {
   "cell_type": "code",
   "execution_count": 32,
   "metadata": {},
   "outputs": [],
   "source": [
    "y_true = test_df['available_bikes']\n",
    "y_hat = bst.predict(test_df[xs_features], num_iteration=bst.best_iteration)"
   ]
  },
  {
   "cell_type": "code",
   "execution_count": 33,
   "metadata": {},
   "outputs": [
    {
     "data": {
      "text/plain": [
       "4.951996783134713"
      ]
     },
     "execution_count": 33,
     "metadata": {},
     "output_type": "execute_result"
    }
   ],
   "source": [
    "# rmse\n",
    "np.sqrt(np.mean((y_true - y_hat)**2))"
   ]
  },
  {
   "cell_type": "code",
   "execution_count": 34,
   "metadata": {},
   "outputs": [
    {
     "data": {
      "text/plain": [
       "<matplotlib.legend.Legend at 0x1c04801d0>"
      ]
     },
     "execution_count": 34,
     "metadata": {},
     "output_type": "execute_result"
    },
    {
     "data": {
      "image/png": "[encoded data removed]",
      "text/plain": [
       "<Figure size 432x288 with 1 Axes>"
      ]
     },
     "metadata": {
      "needs_background": "light"
     },
     "output_type": "display_data"
    }
   ],
   "source": [
    "plt.plot(test_df.index, y_true, label='y_true')\n",
    "plt.plot(test_df.index, y_hat, label='y_hat')\n",
    "plt.xticks(rotation=90)\n",
    "plt.legend()"
   ]
  },
  {
   "cell_type": "code",
   "execution_count": 35,
   "metadata": {},
   "outputs": [
    {
     "data": {
      "text/plain": [
       "<matplotlib.axes._subplots.AxesSubplot at 0x160360828>"
      ]
     },
     "execution_count": 35,
     "metadata": {},
     "output_type": "execute_result"
    },
    {
     "data": {
      "image/png": "[encoded data removed]",
      "text/plain": [
       "<Figure size 432x288 with 1 Axes>"
      ]
     },
     "metadata": {
      "needs_background": "light"
     },
     "output_type": "display_data"
    }
   ],
   "source": [
    "# plot feature importance\n",
    "lgb.plot_importance(bst)"
   ]
  },
  {
   "cell_type": "code",
   "execution_count": 38,
   "metadata": {},
   "outputs": [
    {
     "data": {
      "text/html": [
       "<div>\n",
       "<style scoped>\n",
       "    .dataframe tbody tr th:only-of-type {\n",
       "        vertical-align: middle;\n",
       "    }\n",
       "\n",
       "    .dataframe tbody tr th {\n",
       "        vertical-align: top;\n",
       "    }\n",
       "\n",
       "    .dataframe thead th {\n",
       "        text-align: right;\n",
       "    }\n",
       "</style>\n",
       "<table border=\"1\" class=\"dataframe\">\n",
       "  <thead>\n",
       "    <tr style=\"text-align: right;\">\n",
       "      <th></th>\n",
       "      <th>y_hat</th>\n",
       "      <th>y_true</th>\n",
       "    </tr>\n",
       "    <tr>\n",
       "      <th>date</th>\n",
       "      <th></th>\n",
       "      <th></th>\n",
       "    </tr>\n",
       "  </thead>\n",
       "  <tbody>\n",
       "    <tr>\n",
       "      <th>2018-10-12 00:05:00</th>\n",
       "      <td>12.676925</td>\n",
       "      <td>14.0</td>\n",
       "    </tr>\n",
       "    <tr>\n",
       "      <th>2018-10-12 00:15:00</th>\n",
       "      <td>12.676925</td>\n",
       "      <td>14.0</td>\n",
       "    </tr>\n",
       "    <tr>\n",
       "      <th>2018-10-12 00:25:00</th>\n",
       "      <td>12.676925</td>\n",
       "      <td>14.0</td>\n",
       "    </tr>\n",
       "    <tr>\n",
       "      <th>2018-10-12 00:35:00</th>\n",
       "      <td>12.676925</td>\n",
       "      <td>14.0</td>\n",
       "    </tr>\n",
       "    <tr>\n",
       "      <th>2018-10-12 00:45:00</th>\n",
       "      <td>12.676925</td>\n",
       "      <td>14.0</td>\n",
       "    </tr>\n",
       "  </tbody>\n",
       "</table>\n",
       "</div>"
      ],
      "text/plain": [
       "                         y_hat  y_true\n",
       "date                                  \n",
       "2018-10-12 00:05:00  12.676925    14.0\n",
       "2018-10-12 00:15:00  12.676925    14.0\n",
       "2018-10-12 00:25:00  12.676925    14.0\n",
       "2018-10-12 00:35:00  12.676925    14.0\n",
       "2018-10-12 00:45:00  12.676925    14.0"
      ]
     },
     "execution_count": 38,
     "metadata": {},
     "output_type": "execute_result"
    }
   ],
   "source": [
    "results = pd.DataFrame({'date': test_df.index, 'y_hat': y_hat, 'y_true': y_true})\n",
    "results.set_index('date', inplace=True)\n",
    "results.head()"
   ]
  },
  {
   "cell_type": "markdown",
   "metadata": {},
   "source": [
    "# Bayesian optimization with scikit-optimize"
   ]
  },
  {
   "cell_type": "code",
   "execution_count": 39,
   "metadata": {},
   "outputs": [
    {
     "name": "stderr",
     "output_type": "stream",
     "text": [
      "/Users/jordi/.pyenv/versions/3.6.5/envs/master/lib/python3.6/site-packages/sklearn/ensemble/weight_boosting.py:29: DeprecationWarning: numpy.core.umath_tests is an internal NumPy module and should not be imported. It will be removed in a future NumPy release.\n",
      "  from numpy.core.umath_tests import inner1d\n"
     ]
    }
   ],
   "source": [
    "from skopt import BayesSearchCV\n",
    "from sklearn.model_selection import StratifiedKFold"
   ]
  },
  {
   "cell_type": "code",
   "execution_count": 63,
   "metadata": {},
   "outputs": [],
   "source": [
    "ITERATIONS = 10\n",
    "\n",
    "# Classifier\n",
    "bayes_cv_tuner = BayesSearchCV(\n",
    "    estimator = lgb.LGBMRegressor(\n",
    "        random_state=42\n",
    "    ),\n",
    "    search_spaces = {\n",
    "        'learning_rate': (0.01, 1.0, 'log-uniform'),\n",
    "        'max_depth': (0, 50),\n",
    "        'max_delta_step': (0, 20),\n",
    "        'subsample': (0.01, 1.0, 'uniform'),\n",
    "        'colsample_bytree': (0.01, 1.0, 'uniform'),\n",
    "        'bagging_fraction': (0.01, 1.0, 'uniform'),\n",
    "        'feature_fraction': (0.01, 1.0, 'uniform'),\n",
    "        'reg_lambda': (1e-9, 1000, 'log-uniform'),\n",
    "        'reg_alpha': (1e-9, 1.0, 'log-uniform'),\n",
    "        'min_child_weight': (0, 5),\n",
    "        'n_estimators': (100, 1000)\n",
    "    },\n",
    "    cv = StratifiedKFold(\n",
    "        n_splits=2,\n",
    "        shuffle=True,\n",
    "        random_state=42\n",
    "    ),\n",
    "    n_jobs = 4,\n",
    "    n_iter = ITERATIONS,   \n",
    "    verbose = 0,\n",
    "    refit = True,\n",
    "    random_state = 42\n",
    ")\n",
    "\n",
    "# Fit the model\n",
    "result = bayes_cv_tuner.fit(pd.concat((train_df, val_df))[xs_features], pd.concat((train_df, val_df))[target])"
   ]
  },
  {
   "cell_type": "code",
   "execution_count": 64,
   "metadata": {},
   "outputs": [
    {
     "data": {
      "text/plain": [
       "5.648027744182841"
      ]
     },
     "execution_count": 64,
     "metadata": {},
     "output_type": "execute_result"
    }
   ],
   "source": [
    "y_hat = result.predict(test_df[xs_features])\n",
    "# rmse\n",
    "np.sqrt(np.mean((y_true - y_hat)**2))"
   ]
  },
  {
   "cell_type": "code",
   "execution_count": 65,
   "metadata": {},
   "outputs": [
    {
     "data": {
      "text/plain": [
       "<matplotlib.legend.Legend at 0x1a3c6c278>"
      ]
     },
     "execution_count": 65,
     "metadata": {},
     "output_type": "execute_result"
    },
    {
     "data": {
      "image/png": "[encoded data removed]",
      "text/plain": [
       "<Figure size 432x288 with 1 Axes>"
      ]
     },
     "metadata": {
      "needs_background": "light"
     },
     "output_type": "display_data"
    }
   ],
   "source": [
    "plt.plot(test_df.index, y_true, label='y_true')\n",
    "plt.plot(test_df.index, y_hat, label='y_hat')\n",
    "plt.xticks(rotation=90)\n",
    "plt.legend()"
   ]
  }
 ],
 "metadata": {
  "kernelspec": {
   "display_name": "Python 3",
   "language": "python",
   "name": "python3"
  },
  "language_info": {
   "codemirror_mode": {
    "name": "ipython",
    "version": 3
   },
   "file_extension": ".py",
   "mimetype": "text/x-python",
   "name": "python",
   "nbconvert_exporter": "python",
   "pygments_lexer": "ipython3",
   "version": "3.6.5"
  }
 },
 "nbformat": 4,
 "nbformat_minor": 2
}
