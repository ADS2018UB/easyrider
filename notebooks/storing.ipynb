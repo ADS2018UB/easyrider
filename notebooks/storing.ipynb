{
 "cells": [
  {
   "cell_type": "code",
   "execution_count": 1,
   "metadata": {},
   "outputs": [],
   "source": [
    "import re\n",
    "import pymongo\n",
    "import numpy as np\n",
    "import pandas as pd\n",
    "from os import listdir\n",
    "from os.path import isfile,join"
   ]
  },
  {
   "cell_type": "code",
   "execution_count": 88,
   "metadata": {},
   "outputs": [],
   "source": [
    "#List of stations ids that have a prediction dataset. Just copy the path where you have locally stored the folder.\n",
    "onlyfiles=[f for f in listdir('path') if f.endswith(\"_pred.csv\")]\n",
    "ids=[int(re.sub('_pred.csv','',text)) for text in onlyfiles]\n",
    "ids.sort()"
   ]
  },
  {
   "cell_type": "code",
   "execution_count": 82,
   "metadata": {},
   "outputs": [],
   "source": [
    "def store(station_id):\n",
    "    ids=str(station_id)\n",
    "    \n",
    "    #Reading the useful columns of the historical and prediction datasets. Also reading \n",
    "    #chicago_stations for extra information about the stations\n",
    "    colnames1 = ['id', 'station_name', 'address', 'latitude', 'longitude']\n",
    "    colnames2 = ['ts','total_docks','available_docks','available_bikes']\n",
    "    colnames3 = ['ts','available_bikes']\n",
    "    \n",
    "    stats = pd.read_csv('chicago_stations.csv', names=colnames1,skiprows=[0])\n",
    "    hist = pd.read_csv('data_output/id{}.csv'.format(station_id),names=colnames2,usecols=[1,3,5,6],skiprows=np.arange(0,145))\n",
    "    pred = pd.read_csv('predictions/{}_pred.csv'.format(station_id), names=colnames3,usecols=[0,1],skiprows=[0])\n",
    "    \n",
    "    stats_id=stats[stats.id==station_id] #info for the given station id\n",
    "    docks=int(hist.total_docks.iloc[-1]) #number of total docks at the time the last historical measure was taken\n",
    "    \n",
    "    #Adding a column for available docks into the prediction dataset\n",
    "    pred['available_docks']=docks-pred['available_bikes']\n",
    "    hist=hist.drop(['total_docks'],axis=1)\n",
    "    \n",
    "    #Sorting the columns to have the same order for both datasets\n",
    "    cols = hist.columns.tolist()\n",
    "    cols = [cols[0],cols[-1],cols[1]]\n",
    "    hist=hist[cols]\n",
    "    \n",
    "    #Merging historical and predicted in one dataframe\n",
    "    frames = [hist,pred]\n",
    "    result = pd.concat(frames)\n",
    "    \n",
    "    #Creating the dicctionary with all the information about the given station\n",
    "    doc={'id': station_id,'station_name':stats_id['station_name'].values[0],'address':stats_id['address'].values[0],\n",
    "         'latitude':stats_id['latitude'].values[0],'longitude':stats_id['longitude'].values[0],\n",
    "         'total_docks':docks,'results':result.to_dict('records')}\n",
    "    \n",
    "    #Connecting with mlab. Just check the folder with the credentials.\n",
    "    try:\n",
    "        with open(\"credentials/credentials.txt\", 'r', encoding='utf-8') as f:\n",
    "            [name,pasword,url,dbname]=f.read().splitlines()\n",
    "        conn=pymongo.MongoClient(\"mongodb://{}:{}@{}/{}\".format(name,pasword, url,dbname))\n",
    "        print (\"Connected successfully!!!\")    \n",
    "    except pymongo.errors.ConnectionFailure as e:\n",
    "        print (\"Could not connect to MongoDB: %s\" % e) \n",
    "    conn\n",
    "    \n",
    "    #Storing the dicctionary in mlab\n",
    "    db = conn['easyrider']\n",
    "    collection = db['stations']\n",
    "    collection.insert_one(doc)\n",
    "    \n",
    "    return doc"
   ]
  },
  {
   "cell_type": "code",
   "execution_count": null,
   "metadata": {},
   "outputs": [],
   "source": [
    "#And just run the function defined above with all the stations for which we have predictions\n",
    "for i in ids:\n",
    "    store(i)"
   ]
  }
 ],
 "metadata": {
  "kernelspec": {
   "display_name": "Python 3",
   "language": "python",
   "name": "python3"
  },
  "language_info": {
   "codemirror_mode": {
    "name": "ipython",
    "version": 3
   },
   "file_extension": ".py",
   "mimetype": "text/x-python",
   "name": "python",
   "nbconvert_exporter": "python",
   "pygments_lexer": "ipython3",
   "version": "3.6.5"
  }
 },
 "nbformat": 4,
 "nbformat_minor": 2
}
